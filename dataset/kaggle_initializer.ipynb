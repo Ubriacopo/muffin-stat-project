{
 "cells": [
  {
   "cell_type": "markdown",
   "metadata": {},
   "source": [
    "# Initialize the data from Kaggle\n",
    "\n",
    "To train and evaulate the model we of course need some reference data.\n",
    "\n",
    "The reference dataset is hosted on Kaggle. In order to download it we have to create a connection to the server. This is done via an authorization token created by Kaggle itself. \n",
    "> To generate one simply check the documentation: https://www.kaggle.com/docs/api"
   ]
  },
  {
   "cell_type": "code",
   "metadata": {
    "ExecuteTime": {
     "end_time": "2024-06-03T15:09:58.265390Z",
     "start_time": "2024-06-03T15:09:58.252648Z"
    }
   },
   "source": [
    "from dataset import kaggle_initializer\n",
    "\n",
    "# The provided kaggle.json has to be put under the project data/\n",
    "kaggle_initializer.download_dataset_with_kagglejson(False)"
   ],
   "outputs": [
    {
     "name": "stdout",
     "output_type": "stream",
     "text": [
      "We have read the dataset correctly from Kaggle.\n",
      "The dataset was already unpacked in the data and test sets.\n"
     ]
    }
   ],
   "execution_count": 4
  },
  {
   "cell_type": "markdown",
   "metadata": {},
   "source": [
    "The images given are already split in two folders: *test* and *train*.\n",
    "\n",
    "Thus, when building the dataset we already have the data split in the two disjointed splits."
   ]
  }
 ],
 "metadata": {
  "kernelspec": {
   "display_name": "Python 3",
   "language": "python",
   "name": "python3"
  },
  "language_info": {
   "codemirror_mode": {
    "name": "ipython",
    "version": 3
   },
   "file_extension": ".py",
   "mimetype": "text/x-python",
   "name": "python",
   "nbconvert_exporter": "python",
   "pygments_lexer": "ipython3",
   "version": "3.10.12"
  }
 },
 "nbformat": 4,
 "nbformat_minor": 2
}
