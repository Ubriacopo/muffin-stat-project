{
 "cells": [
  {
   "metadata": {},
   "cell_type": "markdown",
   "source": "# Loading the Dataset",
   "id": "31f2627998bc11ba"
  },
  {
   "metadata": {
    "ExecuteTime": {
     "end_time": "2024-04-16T14:02:58.065246Z",
     "start_time": "2024-04-16T14:02:58.063429Z"
    }
   },
   "cell_type": "code",
   "source": [
    "import os\n",
    "\n",
    "# Why Torch? You'll find the answer in the .md files! \n",
    "os.environ[\"KERAS_BACKEND\"] = \"torch\""
   ],
   "id": "e010e631027845e5",
   "outputs": [],
   "execution_count": 1
  },
  {
   "metadata": {
    "ExecuteTime": {
     "end_time": "2024-04-16T14:02:59.782Z",
     "start_time": "2024-04-16T14:02:58.566017Z"
    }
   },
   "cell_type": "code",
   "source": [
    "from dataset.dataset_loader import dataset_loader\n",
    "\n",
    "train, test = dataset_loader((224, 224), is_grayscale=False)"
   ],
   "id": "fad10df8a5614c91",
   "outputs": [],
   "execution_count": 2
  },
  {
   "metadata": {},
   "cell_type": "markdown",
   "source": "Is the dataset balanced?",
   "id": "830be75a14aed4e3"
  },
  {
   "metadata": {
    "ExecuteTime": {
     "end_time": "2024-04-16T14:11:38.985344Z",
     "start_time": "2024-04-16T14:11:38.983078Z"
    }
   },
   "cell_type": "code",
   "source": [
    "import numpy as np\n",
    "\n",
    "train_chihuahuas = np.sum(train.targets)\n",
    "test_chihuahuas = np.sum(test.targets)"
   ],
   "id": "3853310f9af1e4be",
   "outputs": [],
   "execution_count": 25
  },
  {
   "metadata": {
    "ExecuteTime": {
     "end_time": "2024-04-16T14:12:56.582457Z",
     "start_time": "2024-04-16T14:12:56.579598Z"
    }
   },
   "cell_type": "code",
   "source": [
    "print(f\"We have a total of {train_chihuahuas} and {len(train) - train_chihuahuas} muffins in the training set. \"\n",
    "      f\"This results for a ratio of {train_chihuahuas / len(train) * 100:.2f}% of chihuahuas .\")\n",
    "print(f\"We have a total of {test_chihuahuas} and {len(test) - test_chihuahuas} muffins in the testing set.\"\n",
    "      f\"This results for a ratio of {test_chihuahuas / len(test) * 100:.2f}% of chihuahuas .\")"
   ],
   "id": "87887665cf99f658",
   "outputs": [
    {
     "name": "stdout",
     "output_type": "stream",
     "text": [
      "We have a total of 2174 and 2559 muffins in the training set. This results for a ratio of 45.93% of chihuahuas .\n",
      "We have a total of 544 and 640 muffins in the testing set.This results for a ratio of 45.95% of chihuahuas .\n"
     ]
    }
   ],
   "execution_count": 28
  },
  {
   "metadata": {},
   "cell_type": "markdown",
   "source": [
    "# Does KFold Split evenly?\n",
    "Does my implementation of the K-Fold Cross Validation split the dataset in a desirable way?\n",
    "(Meaning it is correct)"
   ],
   "id": "21784da90ca75e86"
  },
  {
   "metadata": {
    "ExecuteTime": {
     "end_time": "2024-04-16T14:23:51.165482Z",
     "start_time": "2024-04-16T14:23:12.035333Z"
    }
   },
   "cell_type": "code",
   "source": [
    "from dataset.k_fold_dataset_wrapper import KFoldDatasetWrapper as KFoldController\n",
    "\n",
    "dataset_split_controller = KFoldController(5)\n",
    "dataset_split_controller.load_data(train)\n",
    "\n",
    "local_train, validation = dataset_split_controller.get_data_for_fold(0)\n",
    "\n",
    "k_fold_train = np.sum([local_train[i][1] for i in range(len(local_train))])\n",
    "k_fold_test = np.sum([validation[i][1] for i in range(len(validation))])"
   ],
   "id": "ad1d4cc313fc843c",
   "outputs": [],
   "execution_count": 40
  },
  {
   "metadata": {
    "ExecuteTime": {
     "end_time": "2024-04-16T14:24:29.650266Z",
     "start_time": "2024-04-16T14:24:29.647989Z"
    }
   },
   "cell_type": "code",
   "source": [
    "print(f\"We have a total of {k_fold_train} and {len(local_train) - k_fold_train} muffins in the training set. \"\n",
    "      f\"This results for a ratio of {k_fold_train / len(local_train) * 100:.2f}% of chihuahuas .\")\n",
    "print(f\"We have a total of {k_fold_test} and {len(validation) - k_fold_test} muffins in the testing set.\"\n",
    "      f\"This results for a ratio of {k_fold_test / len(validation) * 100:.2f}% of chihuahuas .\")"
   ],
   "id": "81d7148af1e4d408",
   "outputs": [
    {
     "name": "stdout",
     "output_type": "stream",
     "text": [
      "We have a total of 1742 and 2044 muffins in the training set. This results for a ratio of 46.01% of chihuahuas .\n",
      "We have a total of 432 and 515 muffins in the testing set.This results for a ratio of 45.62% of chihuahuas .\n"
     ]
    }
   ],
   "execution_count": 42
  },
  {
   "metadata": {},
   "cell_type": "markdown",
   "source": "## Augmentation?",
   "id": "7a3dfdab91c47dda"
  },
  {
   "metadata": {},
   "cell_type": "code",
   "outputs": [],
   "execution_count": null,
   "source": "#TBDtest_chihuahuas",
   "id": "a0181c5b13f1c5b9"
  }
 ],
 "metadata": {
  "kernelspec": {
   "display_name": "Python 3",
   "language": "python",
   "name": "python3"
  },
  "language_info": {
   "codemirror_mode": {
    "name": "ipython",
    "version": 2
   },
   "file_extension": ".py",
   "mimetype": "text/x-python",
   "name": "python",
   "nbconvert_exporter": "python",
   "pygments_lexer": "ipython2",
   "version": "2.7.6"
  }
 },
 "nbformat": 4,
 "nbformat_minor": 5
}
