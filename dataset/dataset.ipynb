{
 "cells": [
  {
   "metadata": {},
   "cell_type": "markdown",
   "source": "# Loading the Dataset",
   "id": "31f2627998bc11ba"
  },
  {
   "metadata": {
    "ExecuteTime": {
     "end_time": "2024-05-08T21:05:59.186596Z",
     "start_time": "2024-05-08T21:05:59.176598Z"
    }
   },
   "cell_type": "code",
   "source": [
    "from dataset.dataset_loader import dataset_loader\n",
    "\n",
    "train, test = dataset_loader((224, 224), is_grayscale=False, data_folder_path=\"../data/\")\n"
   ],
   "id": "fad10df8a5614c91",
   "outputs": [],
   "execution_count": 5
  },
  {
   "metadata": {},
   "cell_type": "markdown",
   "source": "Is the dataset balanced?",
   "id": "830be75a14aed4e3"
  },
  {
   "metadata": {
    "ExecuteTime": {
     "end_time": "2024-05-08T21:06:00.254772Z",
     "start_time": "2024-05-08T21:06:00.251525Z"
    }
   },
   "cell_type": "code",
   "source": [
    "import numpy as np\n",
    "\n",
    "train_chihuahuas = np.sum(train.targets)\n",
    "test_chihuahuas = np.sum(test.targets)"
   ],
   "id": "3853310f9af1e4be",
   "outputs": [],
   "execution_count": 6
  },
  {
   "metadata": {
    "ExecuteTime": {
     "end_time": "2024-05-08T21:06:00.753580Z",
     "start_time": "2024-05-08T21:06:00.751068Z"
    }
   },
   "cell_type": "code",
   "source": [
    "print(f\"We have a total of {train_chihuahuas} and {len(train) - train_chihuahuas} muffins in the training set. \"\n",
    "      f\"This results for a ratio of {train_chihuahuas / len(train) * 100:.2f}% of chihuahuas .\")\n",
    "print(f\"We have a total of {test_chihuahuas} and {len(test) - test_chihuahuas} muffins in the testing set.\"\n",
    "      f\"This results for a ratio of {test_chihuahuas / len(test) * 100:.2f}% of chihuahuas .\")"
   ],
   "id": "87887665cf99f658",
   "outputs": [
    {
     "name": "stdout",
     "output_type": "stream",
     "text": [
      "We have a total of 2174 and 2559 muffins in the training set. This results for a ratio of 45.93% of chihuahuas .\n",
      "We have a total of 544 and 640 muffins in the testing set.This results for a ratio of 45.95% of chihuahuas .\n"
     ]
    }
   ],
   "execution_count": 7
  },
  {
   "metadata": {
    "ExecuteTime": {
     "end_time": "2024-05-08T21:09:02.796233Z",
     "start_time": "2024-05-08T21:09:02.793897Z"
    }
   },
   "cell_type": "code",
   "source": [
    "print(\n",
    "    f\"We have a total of: {len(train) + len(test)} samples, of which {len(test) / (len(train) + len(test)) * 100:.2f}% is in the test set \")"
   ],
   "id": "4aa5180de135479e",
   "outputs": [
    {
     "name": "stdout",
     "output_type": "stream",
     "text": [
      "We have a total of: 5917 samples, of which 20.01% is in the test set \n"
     ]
    }
   ],
   "execution_count": 15
  },
  {
   "metadata": {},
   "cell_type": "markdown",
   "source": [
    "# Does KFold Split evenly?\n",
    "Does my implementation of the K-Fold Cross Validation split the dataset in a desirable way?\n",
    "(Meaning it is correct)"
   ],
   "id": "21784da90ca75e86"
  },
  {
   "metadata": {},
   "cell_type": "code",
   "source": [
    "from dataset.k_fold_dataset_wrapper import KFoldDatasetWrapper as KFoldController\n",
    "\n",
    "dataset_split_controller = KFoldController(5)\n",
    "dataset_split_controller.load_data(train)\n",
    "\n",
    "local_train, validation = dataset_split_controller.get_data_for_fold(0)\n",
    "\n",
    "k_fold_train = np.sum([local_train[i][1] for i in range(len(local_train))])\n",
    "k_fold_test = np.sum([validation[i][1] for i in range(len(validation))])"
   ],
   "id": "ad1d4cc313fc843c",
   "outputs": [],
   "execution_count": null
  },
  {
   "metadata": {},
   "cell_type": "code",
   "source": [
    "print(f\"We have a total of {k_fold_train} and {len(local_train) - k_fold_train} muffins in the training set. \"\n",
    "      f\"This results for a ratio of {k_fold_train / len(local_train) * 100:.2f}% of chihuahuas .\")\n",
    "print(f\"We have a total of {k_fold_test} and {len(validation) - k_fold_test} muffins in the testing set.\"\n",
    "      f\"This results for a ratio of {k_fold_test / len(validation) * 100:.2f}% of chihuahuas .\")"
   ],
   "id": "81d7148af1e4d408",
   "outputs": [],
   "execution_count": null
  },
  {
   "metadata": {},
   "cell_type": "markdown",
   "source": "# Normalization",
   "id": "b10626dd5930e703"
  },
  {
   "metadata": {
    "ExecuteTime": {
     "end_time": "2024-05-17T20:32:12.721059Z",
     "start_time": "2024-05-17T20:31:28.699634Z"
    }
   },
   "cell_type": "code",
   "source": [
    "import torch\n",
    "from torch.utils.data import DataLoader\n",
    "from torchvision.transforms import transforms\n",
    "from torchvision.datasets import ImageFolder\n",
    "\n",
    "train_dataset = ImageFolder(f\"../data/train\", transform=transforms.Compose([\n",
    "    transforms.Resize((224, 224)), transforms.ToTensor()]))\n",
    "\n",
    "loader = DataLoader(train_dataset, batch_size=None, num_workers=0, shuffle=False)\n",
    "\n",
    "r, g, b = [], [], []\n",
    "std_r, std_g, std_b = [], [], []\n",
    "\n",
    "for data, _ in loader:\n",
    "    r.append(torch.mean(data[0]))\n",
    "    g.append(torch.mean(data[1]))\n",
    "    b.append(torch.mean(data[2]))\n",
    "\n",
    "    std_r.append(torch.std(data[0]))\n",
    "    std_g.append(torch.std(data[1]))\n",
    "    std_b.append(torch.std(data[2]))"
   ],
   "id": "1460e8b73d43a7de",
   "outputs": [],
   "execution_count": 32
  },
  {
   "metadata": {
    "ExecuteTime": {
     "end_time": "2024-05-17T20:36:09.743854Z",
     "start_time": "2024-05-17T20:36:09.726114Z"
    }
   },
   "cell_type": "code",
   "source": [
    "r_mean = torch.mean(torch.stack(r))\n",
    "g_mean = torch.mean(torch.stack(g))\n",
    "b_mean = torch.mean(torch.stack(b))\n",
    "print(f\"RGB({r_mean}, {g_mean}, {b_mean})\")"
   ],
   "id": "d948b421892d713f",
   "outputs": [
    {
     "name": "stdout",
     "output_type": "stream",
     "text": [
      "RGB(0.6500937938690186, 0.5935118198394775, 0.5400277972221375)\n"
     ]
    }
   ],
   "execution_count": 42
  },
  {
   "metadata": {
    "ExecuteTime": {
     "end_time": "2024-05-17T20:36:10.534097Z",
     "start_time": "2024-05-17T20:36:10.521555Z"
    }
   },
   "cell_type": "code",
   "source": [
    "r_std = torch.std(torch.stack(r))\n",
    "g_std = torch.std(torch.stack(g))\n",
    "b_std = torch.std(torch.stack(b))\n",
    "print(f\"RGB({r_std}, {g_std}, {b_std})\")"
   ],
   "id": "658080ea6eec87c3",
   "outputs": [
    {
     "name": "stdout",
     "output_type": "stream",
     "text": [
      "RGB(0.1747014969587326, 0.175433948636055, 0.19269666075706482)\n"
     ]
    }
   ],
   "execution_count": 43
  },
  {
   "metadata": {},
   "cell_type": "markdown",
   "source": "## Augmentation?",
   "id": "7a3dfdab91c47dda"
  },
  {
   "metadata": {},
   "cell_type": "code",
   "source": "#TBDtest_chihuahuas",
   "id": "a0181c5b13f1c5b9",
   "outputs": [],
   "execution_count": null
  }
 ],
 "metadata": {
  "kernelspec": {
   "display_name": "Python 3",
   "language": "python",
   "name": "python3"
  },
  "language_info": {
   "codemirror_mode": {
    "name": "ipython",
    "version": 2
   },
   "file_extension": ".py",
   "mimetype": "text/x-python",
   "name": "python",
   "nbconvert_exporter": "python",
   "pygments_lexer": "ipython2",
   "version": "2.7.6"
  }
 },
 "nbformat": 4,
 "nbformat_minor": 5
}
