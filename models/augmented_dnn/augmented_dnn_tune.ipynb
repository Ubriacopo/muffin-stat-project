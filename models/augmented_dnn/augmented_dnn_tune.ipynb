{
 "cells": [
  {
   "metadata": {
    "ExecuteTime": {
     "end_time": "2024-04-28T08:33:02.538677Z",
     "start_time": "2024-04-28T08:33:02.536675Z"
    }
   },
   "cell_type": "code",
   "source": [
    "import os\n",
    "\n",
    "# Why Torch? You'll find the answer in the .md files! \n",
    "os.environ[\"KERAS_BACKEND\"] = \"torch\""
   ],
   "id": "cedd5f1325489799",
   "outputs": [],
   "execution_count": 1
  },
  {
   "cell_type": "code",
   "id": "initial_id",
   "metadata": {
    "collapsed": true,
    "ExecuteTime": {
     "end_time": "2024-04-28T08:33:04.512043Z",
     "start_time": "2024-04-28T08:33:02.539347Z"
    }
   },
   "source": [
    "import keras\n",
    "from torch.utils.data import DataLoader\n",
    "\n",
    "from dataset.dataset_loader import dataset_loader\n",
    "import keras_tuner\n",
    "\n",
    "from models.augmented_dnn.augmented_dnn import TwoHiddenLayersTunableAugmentedDNN\n",
    "from models.structure.tunable_model_family_hypermodel import TunableModelFamilyHypermodel\n",
    "from utils.my_tuner import HistoryDeletingBayesianOptimization\n",
    "\n",
    "from dataset.k_fold_dataset_wrapper import KFoldDatasetWrapper"
   ],
   "outputs": [],
   "execution_count": 2
  },
  {
   "metadata": {
    "ExecuteTime": {
     "end_time": "2024-04-28T08:33:04.515901Z",
     "start_time": "2024-04-28T08:33:04.512616Z"
    }
   },
   "cell_type": "code",
   "source": [
    "import torch\n",
    "\n",
    "torch.cuda.is_available()"
   ],
   "id": "76f5b3f6d9292fa2",
   "outputs": [
    {
     "data": {
      "text/plain": [
       "True"
      ]
     },
     "execution_count": 3,
     "metadata": {},
     "output_type": "execute_result"
    }
   ],
   "execution_count": 3
  },
  {
   "metadata": {
    "ExecuteTime": {
     "end_time": "2024-04-28T08:33:04.526837Z",
     "start_time": "2024-04-28T08:33:04.516418Z"
    }
   },
   "cell_type": "code",
   "source": [
    "# Initial steps\n",
    "hyperparameters = keras_tuner.HyperParameters()\n",
    "train, test = dataset_loader((192, 192), is_grayscale=False)\n",
    "dataset_split_controller = KFoldDatasetWrapper(5)\n",
    "dataset_split_controller.load_data(train)\n",
    "\n",
    "local_train, validation = dataset_split_controller.get_data_for_fold(0)\n",
    "train_dataloader = DataLoader(dataset=local_train, batch_size=32, shuffle=True)\n",
    "validation_dataloader = DataLoader(dataset=validation, batch_size=32, shuffle=True)"
   ],
   "id": "be22970f5c16413a",
   "outputs": [],
   "execution_count": 4
  },
  {
   "metadata": {
    "ExecuteTime": {
     "end_time": "2024-04-28T08:33:04.715923Z",
     "start_time": "2024-04-28T08:33:04.527583Z"
    }
   },
   "cell_type": "code",
   "source": [
    "\n",
    "hyperparameters.Fixed(\"lr\", 1e-4)\n",
    "hyperparameters.Fixed(\"momentum\", 0.9)\n",
    "\n",
    "# We add dropout later to improve the best networks\n",
    "hyperparameters.Fixed(\"dropout_0\", False)\n",
    "hyperparameters.Fixed(\"dropout_1\", False)\n",
    "\n",
    "project_name = \"two-layers-192-192\"\n",
    "project_directory = \"augmented-dnn-search\"\n",
    "\n",
    "tuner = HistoryDeletingBayesianOptimization(\n",
    "    TunableModelFamilyHypermodel((3, 192, 192), TwoHiddenLayersTunableAugmentedDNN()),\n",
    "    hyperparameters=hyperparameters,\n",
    "    objective='val_loss',\n",
    "    tune_new_entries=True,\n",
    "    executions_per_trial=1,\n",
    "    overwrite=False,\n",
    "    directory=project_directory,\n",
    "    max_trials=15,\n",
    "    project_name=project_name\n",
    ")"
   ],
   "id": "f0f094687ac85c2e",
   "outputs": [],
   "execution_count": 5
  },
  {
   "metadata": {},
   "cell_type": "code",
   "source": [
    "tuner.search(train_dataloader, epochs=20, validation_data=validation_dataloader, callbacks=[keras.callbacks.CSVLogger(\n",
    "    f\"{project_directory}/{project_name}/search.log\", separator=\",\", append=True)\n",
    "])"
   ],
   "id": "a23f7273aa782e38",
   "execution_count": null,
   "outputs": [
    {
     "name": "stdout",
     "output_type": "stream",
     "text": [
      "Trial 3 Complete [00h 15m 11s]\n",
      "val_loss: 0.4819851815700531\n",
      "\n",
      "Best val_loss So Far: 0.4819851815700531\n",
      "Total elapsed time: 00h 15m 12s\n",
      "\n",
      "Search: Running Trial #4\n",
      "\n",
      "Value             |Best Value So Far |Hyperparameter\n",
      "0.0001            |0.0001            |lr\n",
      "0.9               |0.9               |momentum\n",
      "False             |False             |dropout_0\n",
      "False             |False             |dropout_1\n",
      "1792              |1792              |units_0\n",
      "1408              |1152              |units_1\n",
      "\n",
      "Epoch 1/20\n",
      "\u001B[1m 47/119\u001B[0m \u001B[32m━━━━━━━\u001B[0m\u001B[37m━━━━━━━━━━━━━\u001B[0m \u001B[1m21s\u001B[0m 295ms/step - accuracy: 0.5451 - loss: 0.7505"
     ]
    }
   ]
  },
  {
   "metadata": {},
   "cell_type": "code",
   "source": "",
   "id": "f91194c702f00c9d",
   "outputs": [],
   "execution_count": null
  }
 ],
 "metadata": {
  "kernelspec": {
   "display_name": "Python 3",
   "language": "python",
   "name": "python3"
  },
  "language_info": {
   "codemirror_mode": {
    "name": "ipython",
    "version": 2
   },
   "file_extension": ".py",
   "mimetype": "text/x-python",
   "name": "python",
   "nbconvert_exporter": "python",
   "pygments_lexer": "ipython2",
   "version": "2.7.6"
  }
 },
 "nbformat": 4,
 "nbformat_minor": 5
}
