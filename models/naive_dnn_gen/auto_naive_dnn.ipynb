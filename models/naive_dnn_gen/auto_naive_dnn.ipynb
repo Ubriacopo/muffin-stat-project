{
 "cells": [
  {
   "cell_type": "code",
   "execution_count": null,
   "id": "initial_id",
   "metadata": {
    "collapsed": true
   },
   "outputs": [],
   "source": [
    "import os\n",
    "\n",
    "# Why Torch? You'll find the answer in the .md files! \n",
    "os.environ[\"KERAS_BACKEND\"] = \"torch\""
   ]
  },
  {
   "cell_type": "code",
   "outputs": [],
   "source": [
    "import torch\n",
    "\n",
    "torch.cuda.is_available()"
   ],
   "metadata": {
    "collapsed": false
   },
   "id": "b6e2182d0a6d4094",
   "execution_count": null
  },
  {
   "cell_type": "code",
   "outputs": [],
   "source": [
    "from k_fold_cv.k_fold_generator import KFoldController\n",
    "from utils.dataset_loader import dataset_loader\n",
    "\n",
    "from torch.utils.data import DataLoader\n",
    "\n",
    "train, test = dataset_loader((128, 128))\n",
    "\n",
    "# todo change name to KFoldController\n",
    "# I am using the KFoldController class to simply get 20% of the dataset as a validation fold. I won't do any\n",
    "# k-Fold CV on the parameters search or else this will take forever\n",
    "dataset_split_controller = KFoldController(5)\n",
    "dataset_split_controller.load_data(train)\n",
    "\n",
    "local_train, validation = dataset_split_controller.get_data_for_fold(0)\n",
    "\n",
    "train_dataloader = DataLoader(dataset=local_train, batch_size=32)\n",
    "validation_dataloader = DataLoader(dataset=validation, batch_size=32)"
   ],
   "metadata": {
    "collapsed": false
   },
   "id": "34e0b559f7dc8d7e",
   "execution_count": null
  },
  {
   "cell_type": "code",
   "outputs": [],
   "source": [
    "import keras\n",
    "from models.naive_dnn_gen.naive_dnn import NaiveDnnContainer\n",
    "import keras_tuner\n",
    "\n",
    "hyperparameters = keras_tuner.HyperParameters()\n",
    "hypermodel = NaiveDnnContainer((3, 128, 128))\n",
    "tuner = keras_tuner.Hyperband(\n",
    "    hypermodel,\n",
    "    objective='val_loss',\n",
    "    directory=\"naive_dnn_search\",\n",
    "    executions_per_trial=10,  # should be highest possible\n",
    ")\n",
    "\n",
    "tuner.search_space_summary()\n",
    "tuner.search(train_dataloader, epochs=100, validation_data=validation_dataloader,\n",
    "             callbacks=[\n",
    "                 # keras.callbacks.TensorBoard(\"/tmp/tb_logs\"),\n",
    "                 keras.callbacks.EarlyStopping(monitor='val_loss', patience=4)\n",
    "             ])"
   ],
   "metadata": {
    "collapsed": false
   },
   "id": "2728338c806648c",
   "execution_count": null
  },
  {
   "cell_type": "code",
   "outputs": [],
   "source": [
    "models = tuner.get_best_models(num_models=18)\n",
    "best_model = models[0]\n",
    "best_model.summary()\n",
    "\n",
    "# todo: Forse per il momento mi conviene fissare lr e altgri parametri di learning per poi riprenderli"
   ],
   "metadata": {
    "collapsed": false
   },
   "id": "434ac2b7c6782ea5",
   "execution_count": null
  },
  {
   "cell_type": "code",
   "outputs": [],
   "source": [],
   "metadata": {
    "collapsed": false
   },
   "id": "3b68fad67c4cd928"
  }
 ],
 "metadata": {
  "kernelspec": {
   "display_name": "Python 3",
   "language": "python",
   "name": "python3"
  },
  "language_info": {
   "codemirror_mode": {
    "name": "ipython",
    "version": 2
   },
   "file_extension": ".py",
   "mimetype": "text/x-python",
   "name": "python",
   "nbconvert_exporter": "python",
   "pygments_lexer": "ipython2",
   "version": "2.7.6"
  }
 },
 "nbformat": 4,
 "nbformat_minor": 5
}
