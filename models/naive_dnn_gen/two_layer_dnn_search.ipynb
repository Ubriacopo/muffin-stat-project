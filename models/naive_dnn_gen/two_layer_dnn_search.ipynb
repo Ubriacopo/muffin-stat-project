{
 "cells": [
  {
   "cell_type": "code",
   "id": "initial_id",
   "metadata": {
    "collapsed": true,
    "ExecuteTime": {
     "end_time": "2024-04-30T13:44:39.085644Z",
     "start_time": "2024-04-30T13:44:39.083441Z"
    }
   },
   "source": [
    "import os\n",
    "\n",
    "# Why Torch? You'll find the answer in the .md files! \n",
    "os.environ[\"KERAS_BACKEND\"] = \"torch\""
   ],
   "outputs": [],
   "execution_count": 1
  },
  {
   "metadata": {
    "ExecuteTime": {
     "end_time": "2024-04-30T13:44:42.368615Z",
     "start_time": "2024-04-30T13:44:39.651204Z"
    }
   },
   "cell_type": "code",
   "source": [
    "import keras\n",
    "from torch.utils.data import DataLoader\n",
    "\n",
    "from dataset.dataset_loader import dataset_loader\n",
    "import keras_tuner\n",
    "\n",
    "from utils.my_tuner import HistoryDeletingBayesianOptimization\n",
    "\n",
    "from dataset.k_fold_dataset_wrapper import KFoldDatasetWrapper"
   ],
   "id": "5250cb61471f3dfe",
   "outputs": [],
   "execution_count": 2
  },
  {
   "metadata": {
    "ExecuteTime": {
     "end_time": "2024-04-30T13:44:42.971560Z",
     "start_time": "2024-04-30T13:44:42.967671Z"
    }
   },
   "cell_type": "code",
   "source": [
    "import torch\n",
    "\n",
    "torch.cuda.is_available()"
   ],
   "id": "d97b542a2e2f01dc",
   "outputs": [
    {
     "data": {
      "text/plain": [
       "True"
      ]
     },
     "execution_count": 3,
     "metadata": {},
     "output_type": "execute_result"
    }
   ],
   "execution_count": 3
  },
  {
   "metadata": {
    "ExecuteTime": {
     "end_time": "2024-04-30T13:44:43.563135Z",
     "start_time": "2024-04-30T13:44:43.545229Z"
    }
   },
   "cell_type": "code",
   "source": [
    "# Initial steps\n",
    "hyperparameters = keras_tuner.HyperParameters()\n",
    "train, test = dataset_loader((192, 192), is_grayscale=False)\n",
    "dataset_split_controller = KFoldDatasetWrapper(5)\n",
    "dataset_split_controller.load_data(train)\n",
    "\n",
    "local_train, validation = dataset_split_controller.get_data_for_fold(0)\n",
    "train_dataloader = DataLoader(dataset=local_train, batch_size=32, shuffle=True)\n",
    "validation_dataloader = DataLoader(dataset=validation, batch_size=32, shuffle=True)"
   ],
   "id": "b71c9559544f278e",
   "outputs": [],
   "execution_count": 4
  },
  {
   "metadata": {},
   "cell_type": "markdown",
   "source": [
    "# Steps:\n",
    "\n",
    "- 1: Study the best network inner structure by searching for best hidden nodes structure.\n",
    "- 2: Study the best Hyperparameters for SGD of our top 4 models in general and also the best overfitting one\n",
    "- 3: See top results and try to increase performance by attaching an Augmentation procedure.\n",
    "- 4: See if adding dropout increases the performance of model"
   ],
   "id": "68c4b5bd19508993"
  },
  {
   "metadata": {},
   "cell_type": "markdown",
   "source": [
    "# Step 1:  Study the best network inner structure by searching for best hidden nodes structure\n",
    "\n",
    "  As we need to find the structure of the two layers network. We already saw that 3 layers are harder to train and didn't yield a great performance result.\n",
    "  \n",
    "  We still will try the top 3 models of the 3 layer study with augmentation and dropout to see if performance increases.\n",
    "```py  \n",
    "TwoHiddenLayersTunableAugmentedDNN() # Family we will be tuning\n",
    "```"
   ],
   "id": "7e6726ab371f9839"
  },
  {
   "metadata": {
    "ExecuteTime": {
     "end_time": "2024-04-30T13:44:45.235975Z",
     "start_time": "2024-04-30T13:44:45.222932Z"
    }
   },
   "cell_type": "code",
   "source": [
    "from models.structure.tunable_model_family_hypermodel import TunableModelFamilyHypermodel\n",
    "from models.naive_dnn_gen.two_layers_dnn import TwoHiddenLayersTunableAugmentedDNN\n",
    "\n",
    "# For now the optimizer is also fixed to SGD with these parameters:\n",
    "hyperparameters.Fixed(\"lr\", 1e-4)\n",
    "hyperparameters.Fixed(\"momentum\", 0.9)\n",
    "\n",
    "# For now dropout layers are frozen to be disabled.\n",
    "hyperparameters.Fixed(\"dropout_0\", False)\n",
    "hyperparameters.Fixed(\"dropout_1\", False)\n",
    "\n",
    "project_name = \"two-layers-192-192\"\n",
    "project_directory = \"dnn-search\"\n",
    "\n",
    "tuner = HistoryDeletingBayesianOptimization(\n",
    "    TunableModelFamilyHypermodel((3, 192, 192), TwoHiddenLayersTunableAugmentedDNN()),\n",
    "    hyperparameters=hyperparameters,\n",
    "    objective='val_loss',\n",
    "    tune_new_entries=True,\n",
    "    executions_per_trial=1,\n",
    "    overwrite=False,\n",
    "    directory=project_directory,\n",
    "    max_trials=15,\n",
    "    project_name=project_name\n",
    ")"
   ],
   "id": "6781a79d78ea2204",
   "outputs": [
    {
     "name": "stdout",
     "output_type": "stream",
     "text": [
      "Reloading Tuner from dnn-search/two-layers-192-192/tuner0.json\n"
     ]
    }
   ],
   "execution_count": 5
  },
  {
   "metadata": {},
   "cell_type": "code",
   "source": [
    "search_has_been_done = True # To avoid overriding my stuff.\n",
    "if not search_has_been_done:\n",
    "    tuner.search(train_dataloader, epochs=20, validation_data=validation_dataloader, callbacks=[keras.callbacks.CSVLogger(\n",
    "        f\"{project_directory}/{project_name}/search.log\", separator=\",\", append=True)\n",
    "    ])"
   ],
   "id": "95ad2666aeab06a0",
   "execution_count": 6,
   "outputs": [
    {
     "name": "stdout",
     "output_type": "stream",
     "text": [
      "Trial 15 Complete [00h 14m 47s]\n",
      "val_loss: 0.42832475900650024\n",
      "\n",
      "Best val_loss So Far: 0.42472130060195923\n",
      "Total elapsed time: 2d 01h 26m 16s\n"
     ]
    }
   ]
  },
  {
   "metadata": {
    "ExecuteTime": {
     "end_time": "2024-04-30T16:06:26.948199Z",
     "start_time": "2024-04-30T16:06:26.945714Z"
    }
   },
   "cell_type": "code",
   "source": "tuner.results_summary(5)",
   "id": "14970775a921510b",
   "outputs": [
    {
     "name": "stdout",
     "output_type": "stream",
     "text": [
      "Results summary\n",
      "Results in dnn-search/two-layers-192-192\n",
      "Showing 5 best trials\n",
      "Objective(name=\"val_loss\", direction=\"min\")\n",
      "\n",
      "Trial 10 summary\n",
      "Hyperparameters:\n",
      "lr: 0.0001\n",
      "momentum: 0.9\n",
      "dropout_0: False\n",
      "dropout_1: False\n",
      "units_0: 1536\n",
      "units_1: 1152\n",
      "Score: 0.42472130060195923\n",
      "\n",
      "Trial 12 summary\n",
      "Hyperparameters:\n",
      "lr: 0.0001\n",
      "momentum: 0.9\n",
      "dropout_0: False\n",
      "dropout_1: False\n",
      "units_0: 4096\n",
      "units_1: 128\n",
      "Score: 0.4257681667804718\n",
      "\n",
      "Trial 14 summary\n",
      "Hyperparameters:\n",
      "lr: 0.0001\n",
      "momentum: 0.9\n",
      "dropout_0: False\n",
      "dropout_1: False\n",
      "units_0: 2048\n",
      "units_1: 1152\n",
      "Score: 0.42832475900650024\n",
      "\n",
      "Trial 07 summary\n",
      "Hyperparameters:\n",
      "lr: 0.0001\n",
      "momentum: 0.9\n",
      "dropout_0: False\n",
      "dropout_1: False\n",
      "units_0: 1536\n",
      "units_1: 640\n",
      "Score: 0.42843180894851685\n",
      "\n",
      "Trial 08 summary\n",
      "Hyperparameters:\n",
      "lr: 0.0001\n",
      "momentum: 0.9\n",
      "dropout_0: False\n",
      "dropout_1: False\n",
      "units_0: 2048\n",
      "units_1: 384\n",
      "Score: 0.4294884502887726\n"
     ]
    }
   ],
   "execution_count": 9
  },
  {
   "metadata": {},
   "cell_type": "code",
   "outputs": [],
   "execution_count": null,
   "source": [
    "import pandas\n",
    "csv = pandas.read_csv(\"./dnn-search/two-layers-192-192/search.log\")"
   ],
   "id": "d3991245f9a14f44"
  },
  {
   "metadata": {
    "ExecuteTime": {
     "end_time": "2024-04-28T10:24:56.723153Z",
     "start_time": "2024-04-28T10:24:56.673955Z"
    }
   },
   "cell_type": "code",
   "source": [
    "from models.structure.base_model_family import HiddenLayerStructure\n",
    "from models.naive_dnn_gen.two_layers_dnn import TwoHiddenLayersDNNAugModelFamily\n",
    "\n",
    "family_gen = TwoHiddenLayersDNNAugModelFamily()\n",
    "family_gen.hidden_layer_0 = HiddenLayerStructure(2718, None)\n",
    "family_gen.hidden_layer_1 = HiddenLayerStructure(728, None)\n",
    "\n",
    "model = family_gen.make_model((3, 192, 192))\n",
    "\n",
    "model.compile(loss='binary_crossentropy',\n",
    "              optimizer=keras.optimizers.SGD(learning_rate=1e-4, momentum=0.9, nesterov=True), metrics=['accuracy'])\n",
    "\n",
    "model.summary(expand_nested=True)"
   ],
   "id": "3cb1bee188676a2b",
   "outputs": [
    {
     "data": {
      "text/plain": [
       "\u001B[1mModel: \"functional_17\"\u001B[0m\n"
      ],
      "text/html": [
       "<pre style=\"white-space:pre;overflow-x:auto;line-height:normal;font-family:Menlo,'DejaVu Sans Mono',consolas,'Courier New',monospace\"><span style=\"font-weight: bold\">Model: \"functional_17\"</span>\n",
       "</pre>\n"
      ]
     },
     "metadata": {},
     "output_type": "display_data"
    },
    {
     "data": {
      "text/plain": [
       "┏━━━━━━━━━━━━━━━━━━━━━━━━━━━━━━━━━┳━━━━━━━━━━━━━━━━━━━━━━━━┳━━━━━━━━━━━━━━━┓\n",
       "┃\u001B[1m \u001B[0m\u001B[1mLayer (type)                   \u001B[0m\u001B[1m \u001B[0m┃\u001B[1m \u001B[0m\u001B[1mOutput Shape          \u001B[0m\u001B[1m \u001B[0m┃\u001B[1m \u001B[0m\u001B[1m      Param #\u001B[0m\u001B[1m \u001B[0m┃\n",
       "┡━━━━━━━━━━━━━━━━━━━━━━━━━━━━━━━━━╇━━━━━━━━━━━━━━━━━━━━━━━━╇━━━━━━━━━━━━━━━┩\n",
       "│ AugmentedDNN (\u001B[38;5;33mInputLayer\u001B[0m)       │ (\u001B[38;5;45mNone\u001B[0m, \u001B[38;5;34m3\u001B[0m, \u001B[38;5;34m192\u001B[0m, \u001B[38;5;34m192\u001B[0m)    │             \u001B[38;5;34m0\u001B[0m │\n",
       "├─────────────────────────────────┼────────────────────────┼───────────────┤\n",
       "│ functional_13 (\u001B[38;5;33mFunctional\u001B[0m)      │ (\u001B[38;5;45mNone\u001B[0m, \u001B[38;5;34m192\u001B[0m, \u001B[38;5;34m192\u001B[0m, \u001B[38;5;34m3\u001B[0m)    │             \u001B[38;5;34m0\u001B[0m │\n",
       "├─────────────────────────────────┼────────────────────────┼───────────────┤\n",
       "│    └ AugmentedDNN (\u001B[38;5;33mInputLayer\u001B[0m)  │ (\u001B[38;5;45mNone\u001B[0m, \u001B[38;5;34m3\u001B[0m, \u001B[38;5;34m192\u001B[0m, \u001B[38;5;34m192\u001B[0m)    │             \u001B[38;5;34m0\u001B[0m │\n",
       "├─────────────────────────────────┼────────────────────────┼───────────────┤\n",
       "│    └ permute_2 (\u001B[38;5;33mPermute\u001B[0m)        │ (\u001B[38;5;45mNone\u001B[0m, \u001B[38;5;34m192\u001B[0m, \u001B[38;5;34m192\u001B[0m, \u001B[38;5;34m3\u001B[0m)    │             \u001B[38;5;34m0\u001B[0m │\n",
       "├─────────────────────────────────┼────────────────────────┼───────────────┤\n",
       "│    └ random_contrast_2          │ (\u001B[38;5;45mNone\u001B[0m, \u001B[38;5;34m192\u001B[0m, \u001B[38;5;34m192\u001B[0m, \u001B[38;5;34m3\u001B[0m)    │             \u001B[38;5;34m0\u001B[0m │\n",
       "│ (\u001B[38;5;33mRandomContrast\u001B[0m)                │                        │               │\n",
       "├─────────────────────────────────┼────────────────────────┼───────────────┤\n",
       "│    └ random_flip_2 (\u001B[38;5;33mRandomFlip\u001B[0m) │ (\u001B[38;5;45mNone\u001B[0m, \u001B[38;5;34m192\u001B[0m, \u001B[38;5;34m192\u001B[0m, \u001B[38;5;34m3\u001B[0m)    │             \u001B[38;5;34m0\u001B[0m │\n",
       "├─────────────────────────────────┼────────────────────────┼───────────────┤\n",
       "│ functional_15 (\u001B[38;5;33mFunctional\u001B[0m)      │ (\u001B[38;5;45mNone\u001B[0m, \u001B[38;5;34m1\u001B[0m)              │   \u001B[38;5;34m302,571,935\u001B[0m │\n",
       "├─────────────────────────────────┼────────────────────────┼───────────────┤\n",
       "│    └ AugmentedDNN (\u001B[38;5;33mInputLayer\u001B[0m)  │ (\u001B[38;5;45mNone\u001B[0m, \u001B[38;5;34m192\u001B[0m, \u001B[38;5;34m192\u001B[0m, \u001B[38;5;34m3\u001B[0m)    │             \u001B[38;5;34m0\u001B[0m │\n",
       "├─────────────────────────────────┼────────────────────────┼───────────────┤\n",
       "│    └ flatten_2 (\u001B[38;5;33mFlatten\u001B[0m)        │ (\u001B[38;5;45mNone\u001B[0m, \u001B[38;5;34m110592\u001B[0m)         │             \u001B[38;5;34m0\u001B[0m │\n",
       "├─────────────────────────────────┼────────────────────────┼───────────────┤\n",
       "│    └ dense_6 (\u001B[38;5;33mDense\u001B[0m)            │ (\u001B[38;5;45mNone\u001B[0m, \u001B[38;5;34m2718\u001B[0m)           │   \u001B[38;5;34m300,591,774\u001B[0m │\n",
       "├─────────────────────────────────┼────────────────────────┼───────────────┤\n",
       "│    └ dense_7 (\u001B[38;5;33mDense\u001B[0m)            │ (\u001B[38;5;45mNone\u001B[0m, \u001B[38;5;34m728\u001B[0m)            │     \u001B[38;5;34m1,979,432\u001B[0m │\n",
       "├─────────────────────────────────┼────────────────────────┼───────────────┤\n",
       "│    └ dense_8 (\u001B[38;5;33mDense\u001B[0m)            │ (\u001B[38;5;45mNone\u001B[0m, \u001B[38;5;34m1\u001B[0m)              │           \u001B[38;5;34m729\u001B[0m │\n",
       "└─────────────────────────────────┴────────────────────────┴───────────────┘\n"
      ],
      "text/html": [
       "<pre style=\"white-space:pre;overflow-x:auto;line-height:normal;font-family:Menlo,'DejaVu Sans Mono',consolas,'Courier New',monospace\">┏━━━━━━━━━━━━━━━━━━━━━━━━━━━━━━━━━┳━━━━━━━━━━━━━━━━━━━━━━━━┳━━━━━━━━━━━━━━━┓\n",
       "┃<span style=\"font-weight: bold\"> Layer (type)                    </span>┃<span style=\"font-weight: bold\"> Output Shape           </span>┃<span style=\"font-weight: bold\">       Param # </span>┃\n",
       "┡━━━━━━━━━━━━━━━━━━━━━━━━━━━━━━━━━╇━━━━━━━━━━━━━━━━━━━━━━━━╇━━━━━━━━━━━━━━━┩\n",
       "│ AugmentedDNN (<span style=\"color: #0087ff; text-decoration-color: #0087ff\">InputLayer</span>)       │ (<span style=\"color: #00d7ff; text-decoration-color: #00d7ff\">None</span>, <span style=\"color: #00af00; text-decoration-color: #00af00\">3</span>, <span style=\"color: #00af00; text-decoration-color: #00af00\">192</span>, <span style=\"color: #00af00; text-decoration-color: #00af00\">192</span>)    │             <span style=\"color: #00af00; text-decoration-color: #00af00\">0</span> │\n",
       "├─────────────────────────────────┼────────────────────────┼───────────────┤\n",
       "│ functional_13 (<span style=\"color: #0087ff; text-decoration-color: #0087ff\">Functional</span>)      │ (<span style=\"color: #00d7ff; text-decoration-color: #00d7ff\">None</span>, <span style=\"color: #00af00; text-decoration-color: #00af00\">192</span>, <span style=\"color: #00af00; text-decoration-color: #00af00\">192</span>, <span style=\"color: #00af00; text-decoration-color: #00af00\">3</span>)    │             <span style=\"color: #00af00; text-decoration-color: #00af00\">0</span> │\n",
       "├─────────────────────────────────┼────────────────────────┼───────────────┤\n",
       "│    └ AugmentedDNN (<span style=\"color: #0087ff; text-decoration-color: #0087ff\">InputLayer</span>)  │ (<span style=\"color: #00d7ff; text-decoration-color: #00d7ff\">None</span>, <span style=\"color: #00af00; text-decoration-color: #00af00\">3</span>, <span style=\"color: #00af00; text-decoration-color: #00af00\">192</span>, <span style=\"color: #00af00; text-decoration-color: #00af00\">192</span>)    │             <span style=\"color: #00af00; text-decoration-color: #00af00\">0</span> │\n",
       "├─────────────────────────────────┼────────────────────────┼───────────────┤\n",
       "│    └ permute_2 (<span style=\"color: #0087ff; text-decoration-color: #0087ff\">Permute</span>)        │ (<span style=\"color: #00d7ff; text-decoration-color: #00d7ff\">None</span>, <span style=\"color: #00af00; text-decoration-color: #00af00\">192</span>, <span style=\"color: #00af00; text-decoration-color: #00af00\">192</span>, <span style=\"color: #00af00; text-decoration-color: #00af00\">3</span>)    │             <span style=\"color: #00af00; text-decoration-color: #00af00\">0</span> │\n",
       "├─────────────────────────────────┼────────────────────────┼───────────────┤\n",
       "│    └ random_contrast_2          │ (<span style=\"color: #00d7ff; text-decoration-color: #00d7ff\">None</span>, <span style=\"color: #00af00; text-decoration-color: #00af00\">192</span>, <span style=\"color: #00af00; text-decoration-color: #00af00\">192</span>, <span style=\"color: #00af00; text-decoration-color: #00af00\">3</span>)    │             <span style=\"color: #00af00; text-decoration-color: #00af00\">0</span> │\n",
       "│ (<span style=\"color: #0087ff; text-decoration-color: #0087ff\">RandomContrast</span>)                │                        │               │\n",
       "├─────────────────────────────────┼────────────────────────┼───────────────┤\n",
       "│    └ random_flip_2 (<span style=\"color: #0087ff; text-decoration-color: #0087ff\">RandomFlip</span>) │ (<span style=\"color: #00d7ff; text-decoration-color: #00d7ff\">None</span>, <span style=\"color: #00af00; text-decoration-color: #00af00\">192</span>, <span style=\"color: #00af00; text-decoration-color: #00af00\">192</span>, <span style=\"color: #00af00; text-decoration-color: #00af00\">3</span>)    │             <span style=\"color: #00af00; text-decoration-color: #00af00\">0</span> │\n",
       "├─────────────────────────────────┼────────────────────────┼───────────────┤\n",
       "│ functional_15 (<span style=\"color: #0087ff; text-decoration-color: #0087ff\">Functional</span>)      │ (<span style=\"color: #00d7ff; text-decoration-color: #00d7ff\">None</span>, <span style=\"color: #00af00; text-decoration-color: #00af00\">1</span>)              │   <span style=\"color: #00af00; text-decoration-color: #00af00\">302,571,935</span> │\n",
       "├─────────────────────────────────┼────────────────────────┼───────────────┤\n",
       "│    └ AugmentedDNN (<span style=\"color: #0087ff; text-decoration-color: #0087ff\">InputLayer</span>)  │ (<span style=\"color: #00d7ff; text-decoration-color: #00d7ff\">None</span>, <span style=\"color: #00af00; text-decoration-color: #00af00\">192</span>, <span style=\"color: #00af00; text-decoration-color: #00af00\">192</span>, <span style=\"color: #00af00; text-decoration-color: #00af00\">3</span>)    │             <span style=\"color: #00af00; text-decoration-color: #00af00\">0</span> │\n",
       "├─────────────────────────────────┼────────────────────────┼───────────────┤\n",
       "│    └ flatten_2 (<span style=\"color: #0087ff; text-decoration-color: #0087ff\">Flatten</span>)        │ (<span style=\"color: #00d7ff; text-decoration-color: #00d7ff\">None</span>, <span style=\"color: #00af00; text-decoration-color: #00af00\">110592</span>)         │             <span style=\"color: #00af00; text-decoration-color: #00af00\">0</span> │\n",
       "├─────────────────────────────────┼────────────────────────┼───────────────┤\n",
       "│    └ dense_6 (<span style=\"color: #0087ff; text-decoration-color: #0087ff\">Dense</span>)            │ (<span style=\"color: #00d7ff; text-decoration-color: #00d7ff\">None</span>, <span style=\"color: #00af00; text-decoration-color: #00af00\">2718</span>)           │   <span style=\"color: #00af00; text-decoration-color: #00af00\">300,591,774</span> │\n",
       "├─────────────────────────────────┼────────────────────────┼───────────────┤\n",
       "│    └ dense_7 (<span style=\"color: #0087ff; text-decoration-color: #0087ff\">Dense</span>)            │ (<span style=\"color: #00d7ff; text-decoration-color: #00d7ff\">None</span>, <span style=\"color: #00af00; text-decoration-color: #00af00\">728</span>)            │     <span style=\"color: #00af00; text-decoration-color: #00af00\">1,979,432</span> │\n",
       "├─────────────────────────────────┼────────────────────────┼───────────────┤\n",
       "│    └ dense_8 (<span style=\"color: #0087ff; text-decoration-color: #0087ff\">Dense</span>)            │ (<span style=\"color: #00d7ff; text-decoration-color: #00d7ff\">None</span>, <span style=\"color: #00af00; text-decoration-color: #00af00\">1</span>)              │           <span style=\"color: #00af00; text-decoration-color: #00af00\">729</span> │\n",
       "└─────────────────────────────────┴────────────────────────┴───────────────┘\n",
       "</pre>\n"
      ]
     },
     "metadata": {},
     "output_type": "display_data"
    },
    {
     "data": {
      "text/plain": [
       "\u001B[1m Total params: \u001B[0m\u001B[38;5;34m302,571,935\u001B[0m (1.13 GB)\n"
      ],
      "text/html": [
       "<pre style=\"white-space:pre;overflow-x:auto;line-height:normal;font-family:Menlo,'DejaVu Sans Mono',consolas,'Courier New',monospace\"><span style=\"font-weight: bold\"> Total params: </span><span style=\"color: #00af00; text-decoration-color: #00af00\">302,571,935</span> (1.13 GB)\n",
       "</pre>\n"
      ]
     },
     "metadata": {},
     "output_type": "display_data"
    },
    {
     "data": {
      "text/plain": [
       "\u001B[1m Trainable params: \u001B[0m\u001B[38;5;34m302,571,935\u001B[0m (1.13 GB)\n"
      ],
      "text/html": [
       "<pre style=\"white-space:pre;overflow-x:auto;line-height:normal;font-family:Menlo,'DejaVu Sans Mono',consolas,'Courier New',monospace\"><span style=\"font-weight: bold\"> Trainable params: </span><span style=\"color: #00af00; text-decoration-color: #00af00\">302,571,935</span> (1.13 GB)\n",
       "</pre>\n"
      ]
     },
     "metadata": {},
     "output_type": "display_data"
    },
    {
     "data": {
      "text/plain": [
       "\u001B[1m Non-trainable params: \u001B[0m\u001B[38;5;34m0\u001B[0m (0.00 B)\n"
      ],
      "text/html": [
       "<pre style=\"white-space:pre;overflow-x:auto;line-height:normal;font-family:Menlo,'DejaVu Sans Mono',consolas,'Courier New',monospace\"><span style=\"font-weight: bold\"> Non-trainable params: </span><span style=\"color: #00af00; text-decoration-color: #00af00\">0</span> (0.00 B)\n",
       "</pre>\n"
      ]
     },
     "metadata": {},
     "output_type": "display_data"
    }
   ],
   "execution_count": 9
  },
  {
   "metadata": {
    "ExecuteTime": {
     "end_time": "2024-04-28T11:21:46.764474Z",
     "start_time": "2024-04-28T10:24:57.496500Z"
    }
   },
   "cell_type": "code",
   "source": [
    "history = model.fit(train_dataloader, validation_data=validation_dataloader, epochs=150,\n",
    "                    callbacks=[keras.callbacks.EarlyStopping(\n",
    "                        monitor='val_loss', min_delta=1e-4, patience=20, verbose=1, mode='min',\n",
    "                        restore_best_weights=True\n",
    "                    )])"
   ],
   "id": "d6cd1def9ca56e61",
   "outputs": [
    {
     "name": "stdout",
     "output_type": "stream",
     "text": [
      "Epoch 1/150\n",
      "\u001B[1m119/119\u001B[0m \u001B[32m━━━━━━━━━━━━━━━━━━━━\u001B[0m\u001B[37m\u001B[0m \u001B[1m47s\u001B[0m 394ms/step - accuracy: 0.5857 - loss: 0.6649 - val_accuracy: 0.7159 - val_loss: 0.5835\n",
      "Epoch 2/150\n",
      "\u001B[1m119/119\u001B[0m \u001B[32m━━━━━━━━━━━━━━━━━━━━\u001B[0m\u001B[37m\u001B[0m \u001B[1m46s\u001B[0m 384ms/step - accuracy: 0.7110 - loss: 0.5601 - val_accuracy: 0.6874 - val_loss: 0.5902\n",
      "Epoch 3/150\n",
      "\u001B[1m119/119\u001B[0m \u001B[32m━━━━━━━━━━━━━━━━━━━━\u001B[0m\u001B[37m\u001B[0m \u001B[1m46s\u001B[0m 385ms/step - accuracy: 0.7229 - loss: 0.5400 - val_accuracy: 0.6737 - val_loss: 0.6034\n",
      "Epoch 4/150\n",
      "\u001B[1m119/119\u001B[0m \u001B[32m━━━━━━━━━━━━━━━━━━━━\u001B[0m\u001B[37m\u001B[0m \u001B[1m46s\u001B[0m 389ms/step - accuracy: 0.7474 - loss: 0.5288 - val_accuracy: 0.7497 - val_loss: 0.5147\n",
      "Epoch 5/150\n",
      "\u001B[1m119/119\u001B[0m \u001B[32m━━━━━━━━━━━━━━━━━━━━\u001B[0m\u001B[37m\u001B[0m \u001B[1m46s\u001B[0m 391ms/step - accuracy: 0.7579 - loss: 0.5108 - val_accuracy: 0.7878 - val_loss: 0.4904\n",
      "Epoch 6/150\n",
      "\u001B[1m119/119\u001B[0m \u001B[32m━━━━━━━━━━━━━━━━━━━━\u001B[0m\u001B[37m\u001B[0m \u001B[1m47s\u001B[0m 395ms/step - accuracy: 0.7683 - loss: 0.4891 - val_accuracy: 0.8025 - val_loss: 0.4724\n",
      "Epoch 7/150\n",
      "\u001B[1m119/119\u001B[0m \u001B[32m━━━━━━━━━━━━━━━━━━━━\u001B[0m\u001B[37m\u001B[0m \u001B[1m46s\u001B[0m 387ms/step - accuracy: 0.7711 - loss: 0.4825 - val_accuracy: 0.7677 - val_loss: 0.4916\n",
      "Epoch 8/150\n",
      "\u001B[1m119/119\u001B[0m \u001B[32m━━━━━━━━━━━━━━━━━━━━\u001B[0m\u001B[37m\u001B[0m \u001B[1m46s\u001B[0m 384ms/step - accuracy: 0.7668 - loss: 0.4813 - val_accuracy: 0.7645 - val_loss: 0.5068\n",
      "Epoch 9/150\n",
      "\u001B[1m119/119\u001B[0m \u001B[32m━━━━━━━━━━━━━━━━━━━━\u001B[0m\u001B[37m\u001B[0m \u001B[1m46s\u001B[0m 384ms/step - accuracy: 0.7732 - loss: 0.4875 - val_accuracy: 0.7835 - val_loss: 0.4746\n",
      "Epoch 10/150\n",
      "\u001B[1m119/119\u001B[0m \u001B[32m━━━━━━━━━━━━━━━━━━━━\u001B[0m\u001B[37m\u001B[0m \u001B[1m47s\u001B[0m 394ms/step - accuracy: 0.7837 - loss: 0.4761 - val_accuracy: 0.7899 - val_loss: 0.4675\n",
      "Epoch 11/150\n",
      "\u001B[1m119/119\u001B[0m \u001B[32m━━━━━━━━━━━━━━━━━━━━\u001B[0m\u001B[37m\u001B[0m \u001B[1m46s\u001B[0m 388ms/step - accuracy: 0.7833 - loss: 0.4577 - val_accuracy: 0.7371 - val_loss: 0.5121\n",
      "Epoch 12/150\n",
      "\u001B[1m119/119\u001B[0m \u001B[32m━━━━━━━━━━━━━━━━━━━━\u001B[0m\u001B[37m\u001B[0m \u001B[1m46s\u001B[0m 383ms/step - accuracy: 0.7956 - loss: 0.4552 - val_accuracy: 0.7782 - val_loss: 0.4782\n",
      "Epoch 13/150\n",
      "\u001B[1m119/119\u001B[0m \u001B[32m━━━━━━━━━━━━━━━━━━━━\u001B[0m\u001B[37m\u001B[0m \u001B[1m46s\u001B[0m 388ms/step - accuracy: 0.7941 - loss: 0.4429 - val_accuracy: 0.7529 - val_loss: 0.4925\n",
      "Epoch 14/150\n",
      "\u001B[1m119/119\u001B[0m \u001B[32m━━━━━━━━━━━━━━━━━━━━\u001B[0m\u001B[37m\u001B[0m \u001B[1m46s\u001B[0m 390ms/step - accuracy: 0.8009 - loss: 0.4511 - val_accuracy: 0.7677 - val_loss: 0.4942\n",
      "Epoch 15/150\n",
      "\u001B[1m119/119\u001B[0m \u001B[32m━━━━━━━━━━━━━━━━━━━━\u001B[0m\u001B[37m\u001B[0m \u001B[1m46s\u001B[0m 388ms/step - accuracy: 0.8142 - loss: 0.4223 - val_accuracy: 0.7867 - val_loss: 0.4674\n",
      "Epoch 16/150\n",
      "\u001B[1m119/119\u001B[0m \u001B[32m━━━━━━━━━━━━━━━━━━━━\u001B[0m\u001B[37m\u001B[0m \u001B[1m47s\u001B[0m 399ms/step - accuracy: 0.7999 - loss: 0.4458 - val_accuracy: 0.7973 - val_loss: 0.4624\n",
      "Epoch 17/150\n",
      "\u001B[1m119/119\u001B[0m \u001B[32m━━━━━━━━━━━━━━━━━━━━\u001B[0m\u001B[37m\u001B[0m \u001B[1m46s\u001B[0m 386ms/step - accuracy: 0.8153 - loss: 0.4195 - val_accuracy: 0.7677 - val_loss: 0.4855\n",
      "Epoch 18/150\n",
      "\u001B[1m119/119\u001B[0m \u001B[32m━━━━━━━━━━━━━━━━━━━━\u001B[0m\u001B[37m\u001B[0m \u001B[1m46s\u001B[0m 387ms/step - accuracy: 0.8089 - loss: 0.4325 - val_accuracy: 0.7540 - val_loss: 0.4916\n",
      "Epoch 19/150\n",
      "\u001B[1m119/119\u001B[0m \u001B[32m━━━━━━━━━━━━━━━━━━━━\u001B[0m\u001B[37m\u001B[0m \u001B[1m47s\u001B[0m 396ms/step - accuracy: 0.8191 - loss: 0.4270 - val_accuracy: 0.8004 - val_loss: 0.4529\n",
      "Epoch 20/150\n",
      "\u001B[1m119/119\u001B[0m \u001B[32m━━━━━━━━━━━━━━━━━━━━\u001B[0m\u001B[37m\u001B[0m \u001B[1m47s\u001B[0m 393ms/step - accuracy: 0.8234 - loss: 0.4169 - val_accuracy: 0.8152 - val_loss: 0.4454\n",
      "Epoch 21/150\n",
      "\u001B[1m119/119\u001B[0m \u001B[32m━━━━━━━━━━━━━━━━━━━━\u001B[0m\u001B[37m\u001B[0m \u001B[1m46s\u001B[0m 385ms/step - accuracy: 0.8323 - loss: 0.4143 - val_accuracy: 0.8046 - val_loss: 0.4465\n",
      "Epoch 22/150\n",
      "\u001B[1m119/119\u001B[0m \u001B[32m━━━━━━━━━━━━━━━━━━━━\u001B[0m\u001B[37m\u001B[0m \u001B[1m47s\u001B[0m 393ms/step - accuracy: 0.8317 - loss: 0.4147 - val_accuracy: 0.8184 - val_loss: 0.4344\n",
      "Epoch 23/150\n",
      "\u001B[1m119/119\u001B[0m \u001B[32m━━━━━━━━━━━━━━━━━━━━\u001B[0m\u001B[37m\u001B[0m \u001B[1m46s\u001B[0m 386ms/step - accuracy: 0.8275 - loss: 0.4158 - val_accuracy: 0.8046 - val_loss: 0.4487\n",
      "Epoch 24/150\n",
      "\u001B[1m119/119\u001B[0m \u001B[32m━━━━━━━━━━━━━━━━━━━━\u001B[0m\u001B[37m\u001B[0m \u001B[1m46s\u001B[0m 387ms/step - accuracy: 0.8244 - loss: 0.4111 - val_accuracy: 0.7297 - val_loss: 0.5450\n",
      "Epoch 25/150\n",
      "\u001B[1m119/119\u001B[0m \u001B[32m━━━━━━━━━━━━━━━━━━━━\u001B[0m\u001B[37m\u001B[0m \u001B[1m46s\u001B[0m 385ms/step - accuracy: 0.8159 - loss: 0.4204 - val_accuracy: 0.7371 - val_loss: 0.5112\n",
      "Epoch 26/150\n",
      "\u001B[1m119/119\u001B[0m \u001B[32m━━━━━━━━━━━━━━━━━━━━\u001B[0m\u001B[37m\u001B[0m \u001B[1m46s\u001B[0m 384ms/step - accuracy: 0.8308 - loss: 0.4118 - val_accuracy: 0.7635 - val_loss: 0.4748\n",
      "Epoch 27/150\n",
      "\u001B[1m119/119\u001B[0m \u001B[32m━━━━━━━━━━━━━━━━━━━━\u001B[0m\u001B[37m\u001B[0m \u001B[1m46s\u001B[0m 390ms/step - accuracy: 0.8321 - loss: 0.4053 - val_accuracy: 0.7888 - val_loss: 0.4606\n",
      "Epoch 28/150\n",
      "\u001B[1m119/119\u001B[0m \u001B[32m━━━━━━━━━━━━━━━━━━━━\u001B[0m\u001B[37m\u001B[0m \u001B[1m46s\u001B[0m 385ms/step - accuracy: 0.8388 - loss: 0.3935 - val_accuracy: 0.8120 - val_loss: 0.4392\n",
      "Epoch 29/150\n",
      "\u001B[1m119/119\u001B[0m \u001B[32m━━━━━━━━━━━━━━━━━━━━\u001B[0m\u001B[37m\u001B[0m \u001B[1m46s\u001B[0m 386ms/step - accuracy: 0.8259 - loss: 0.3999 - val_accuracy: 0.7413 - val_loss: 0.5214\n",
      "Epoch 30/150\n",
      "\u001B[1m119/119\u001B[0m \u001B[32m━━━━━━━━━━━━━━━━━━━━\u001B[0m\u001B[37m\u001B[0m \u001B[1m47s\u001B[0m 394ms/step - accuracy: 0.8199 - loss: 0.4012 - val_accuracy: 0.8226 - val_loss: 0.4296\n",
      "Epoch 31/150\n",
      "\u001B[1m119/119\u001B[0m \u001B[32m━━━━━━━━━━━━━━━━━━━━\u001B[0m\u001B[37m\u001B[0m \u001B[1m45s\u001B[0m 382ms/step - accuracy: 0.8415 - loss: 0.3888 - val_accuracy: 0.8089 - val_loss: 0.4411\n",
      "Epoch 32/150\n",
      "\u001B[1m119/119\u001B[0m \u001B[32m━━━━━━━━━━━━━━━━━━━━\u001B[0m\u001B[37m\u001B[0m \u001B[1m46s\u001B[0m 386ms/step - accuracy: 0.8437 - loss: 0.3679 - val_accuracy: 0.7592 - val_loss: 0.4906\n",
      "Epoch 33/150\n",
      "\u001B[1m119/119\u001B[0m \u001B[32m━━━━━━━━━━━━━━━━━━━━\u001B[0m\u001B[37m\u001B[0m \u001B[1m47s\u001B[0m 394ms/step - accuracy: 0.8479 - loss: 0.3820 - val_accuracy: 0.8237 - val_loss: 0.4219\n",
      "Epoch 34/150\n",
      "\u001B[1m119/119\u001B[0m \u001B[32m━━━━━━━━━━━━━━━━━━━━\u001B[0m\u001B[37m\u001B[0m \u001B[1m46s\u001B[0m 387ms/step - accuracy: 0.8394 - loss: 0.3890 - val_accuracy: 0.8173 - val_loss: 0.4275\n",
      "Epoch 35/150\n",
      "\u001B[1m119/119\u001B[0m \u001B[32m━━━━━━━━━━━━━━━━━━━━\u001B[0m\u001B[37m\u001B[0m \u001B[1m46s\u001B[0m 387ms/step - accuracy: 0.8488 - loss: 0.3632 - val_accuracy: 0.7867 - val_loss: 0.4458\n",
      "Epoch 36/150\n",
      "\u001B[1m119/119\u001B[0m \u001B[32m━━━━━━━━━━━━━━━━━━━━\u001B[0m\u001B[37m\u001B[0m \u001B[1m46s\u001B[0m 386ms/step - accuracy: 0.8545 - loss: 0.3718 - val_accuracy: 0.7582 - val_loss: 0.4859\n",
      "Epoch 37/150\n",
      "\u001B[1m119/119\u001B[0m \u001B[32m━━━━━━━━━━━━━━━━━━━━\u001B[0m\u001B[37m\u001B[0m \u001B[1m47s\u001B[0m 395ms/step - accuracy: 0.8472 - loss: 0.3618 - val_accuracy: 0.8363 - val_loss: 0.4145\n",
      "Epoch 38/150\n",
      "\u001B[1m119/119\u001B[0m \u001B[32m━━━━━━━━━━━━━━━━━━━━\u001B[0m\u001B[37m\u001B[0m \u001B[1m46s\u001B[0m 388ms/step - accuracy: 0.8532 - loss: 0.3728 - val_accuracy: 0.7888 - val_loss: 0.4524\n",
      "Epoch 39/150\n",
      "\u001B[1m119/119\u001B[0m \u001B[32m━━━━━━━━━━━━━━━━━━━━\u001B[0m\u001B[37m\u001B[0m \u001B[1m46s\u001B[0m 387ms/step - accuracy: 0.8408 - loss: 0.3746 - val_accuracy: 0.7350 - val_loss: 0.5241\n",
      "Epoch 40/150\n",
      "\u001B[1m119/119\u001B[0m \u001B[32m━━━━━━━━━━━━━━━━━━━━\u001B[0m\u001B[37m\u001B[0m \u001B[1m45s\u001B[0m 381ms/step - accuracy: 0.8487 - loss: 0.3592 - val_accuracy: 0.7698 - val_loss: 0.4803\n",
      "Epoch 41/150\n",
      "\u001B[1m119/119\u001B[0m \u001B[32m━━━━━━━━━━━━━━━━━━━━\u001B[0m\u001B[37m\u001B[0m \u001B[1m46s\u001B[0m 387ms/step - accuracy: 0.8516 - loss: 0.3501 - val_accuracy: 0.8205 - val_loss: 0.4340\n",
      "Epoch 42/150\n",
      "\u001B[1m119/119\u001B[0m \u001B[32m━━━━━━━━━━━━━━━━━━━━\u001B[0m\u001B[37m\u001B[0m \u001B[1m45s\u001B[0m 384ms/step - accuracy: 0.8657 - loss: 0.3473 - val_accuracy: 0.7402 - val_loss: 0.5175\n",
      "Epoch 43/150\n",
      "\u001B[1m119/119\u001B[0m \u001B[32m━━━━━━━━━━━━━━━━━━━━\u001B[0m\u001B[37m\u001B[0m \u001B[1m46s\u001B[0m 383ms/step - accuracy: 0.8588 - loss: 0.3477 - val_accuracy: 0.8057 - val_loss: 0.4330\n",
      "Epoch 44/150\n",
      "\u001B[1m119/119\u001B[0m \u001B[32m━━━━━━━━━━━━━━━━━━━━\u001B[0m\u001B[37m\u001B[0m \u001B[1m47s\u001B[0m 393ms/step - accuracy: 0.8598 - loss: 0.3506 - val_accuracy: 0.8289 - val_loss: 0.4096\n",
      "Epoch 45/150\n",
      "\u001B[1m119/119\u001B[0m \u001B[32m━━━━━━━━━━━━━━━━━━━━\u001B[0m\u001B[37m\u001B[0m \u001B[1m46s\u001B[0m 386ms/step - accuracy: 0.8583 - loss: 0.3509 - val_accuracy: 0.7962 - val_loss: 0.4534\n",
      "Epoch 46/150\n",
      "\u001B[1m119/119\u001B[0m \u001B[32m━━━━━━━━━━━━━━━━━━━━\u001B[0m\u001B[37m\u001B[0m \u001B[1m46s\u001B[0m 385ms/step - accuracy: 0.8661 - loss: 0.3360 - val_accuracy: 0.7181 - val_loss: 0.5581\n",
      "Epoch 47/150\n",
      "\u001B[1m119/119\u001B[0m \u001B[32m━━━━━━━━━━━━━━━━━━━━\u001B[0m\u001B[37m\u001B[0m \u001B[1m46s\u001B[0m 385ms/step - accuracy: 0.8546 - loss: 0.3500 - val_accuracy: 0.8110 - val_loss: 0.4362\n",
      "Epoch 48/150\n",
      "\u001B[1m119/119\u001B[0m \u001B[32m━━━━━━━━━━━━━━━━━━━━\u001B[0m\u001B[37m\u001B[0m \u001B[1m46s\u001B[0m 387ms/step - accuracy: 0.8619 - loss: 0.3329 - val_accuracy: 0.8152 - val_loss: 0.4194\n",
      "Epoch 49/150\n",
      "\u001B[1m119/119\u001B[0m \u001B[32m━━━━━━━━━━━━━━━━━━━━\u001B[0m\u001B[37m\u001B[0m \u001B[1m46s\u001B[0m 388ms/step - accuracy: 0.8643 - loss: 0.3369 - val_accuracy: 0.8163 - val_loss: 0.4181\n",
      "Epoch 50/150\n",
      "\u001B[1m119/119\u001B[0m \u001B[32m━━━━━━━━━━━━━━━━━━━━\u001B[0m\u001B[37m\u001B[0m \u001B[1m46s\u001B[0m 385ms/step - accuracy: 0.8774 - loss: 0.3172 - val_accuracy: 0.8152 - val_loss: 0.4382\n",
      "Epoch 51/150\n",
      "\u001B[1m119/119\u001B[0m \u001B[32m━━━━━━━━━━━━━━━━━━━━\u001B[0m\u001B[37m\u001B[0m \u001B[1m46s\u001B[0m 389ms/step - accuracy: 0.8880 - loss: 0.3020 - val_accuracy: 0.7920 - val_loss: 0.4382\n",
      "Epoch 52/150\n",
      "\u001B[1m119/119\u001B[0m \u001B[32m━━━━━━━━━━━━━━━━━━━━\u001B[0m\u001B[37m\u001B[0m \u001B[1m47s\u001B[0m 398ms/step - accuracy: 0.8804 - loss: 0.3160 - val_accuracy: 0.8353 - val_loss: 0.4066\n",
      "Epoch 53/150\n",
      "\u001B[1m119/119\u001B[0m \u001B[32m━━━━━━━━━━━━━━━━━━━━\u001B[0m\u001B[37m\u001B[0m \u001B[1m45s\u001B[0m 384ms/step - accuracy: 0.8786 - loss: 0.3133 - val_accuracy: 0.7983 - val_loss: 0.4285\n",
      "Epoch 54/150\n",
      "\u001B[1m119/119\u001B[0m \u001B[32m━━━━━━━━━━━━━━━━━━━━\u001B[0m\u001B[37m\u001B[0m \u001B[1m47s\u001B[0m 392ms/step - accuracy: 0.8745 - loss: 0.3102 - val_accuracy: 0.8490 - val_loss: 0.3974\n",
      "Epoch 55/150\n",
      "\u001B[1m119/119\u001B[0m \u001B[32m━━━━━━━━━━━━━━━━━━━━\u001B[0m\u001B[37m\u001B[0m \u001B[1m46s\u001B[0m 385ms/step - accuracy: 0.8742 - loss: 0.3207 - val_accuracy: 0.7529 - val_loss: 0.5207\n",
      "Epoch 56/150\n",
      "\u001B[1m119/119\u001B[0m \u001B[32m━━━━━━━━━━━━━━━━━━━━\u001B[0m\u001B[37m\u001B[0m \u001B[1m46s\u001B[0m 381ms/step - accuracy: 0.8795 - loss: 0.3074 - val_accuracy: 0.7920 - val_loss: 0.4447\n",
      "Epoch 57/150\n",
      "\u001B[1m119/119\u001B[0m \u001B[32m━━━━━━━━━━━━━━━━━━━━\u001B[0m\u001B[37m\u001B[0m \u001B[1m46s\u001B[0m 387ms/step - accuracy: 0.8887 - loss: 0.3101 - val_accuracy: 0.8332 - val_loss: 0.4044\n",
      "Epoch 58/150\n",
      "\u001B[1m119/119\u001B[0m \u001B[32m━━━━━━━━━━━━━━━━━━━━\u001B[0m\u001B[37m\u001B[0m \u001B[1m46s\u001B[0m 385ms/step - accuracy: 0.8797 - loss: 0.3101 - val_accuracy: 0.8004 - val_loss: 0.4278\n",
      "Epoch 59/150\n",
      "\u001B[1m119/119\u001B[0m \u001B[32m━━━━━━━━━━━━━━━━━━━━\u001B[0m\u001B[37m\u001B[0m \u001B[1m46s\u001B[0m 386ms/step - accuracy: 0.8772 - loss: 0.3023 - val_accuracy: 0.7804 - val_loss: 0.4744\n",
      "Epoch 60/150\n",
      "\u001B[1m119/119\u001B[0m \u001B[32m━━━━━━━━━━━━━━━━━━━━\u001B[0m\u001B[37m\u001B[0m \u001B[1m46s\u001B[0m 385ms/step - accuracy: 0.8804 - loss: 0.2973 - val_accuracy: 0.7835 - val_loss: 0.4438\n",
      "Epoch 61/150\n",
      "\u001B[1m119/119\u001B[0m \u001B[32m━━━━━━━━━━━━━━━━━━━━\u001B[0m\u001B[37m\u001B[0m \u001B[1m46s\u001B[0m 386ms/step - accuracy: 0.8850 - loss: 0.2983 - val_accuracy: 0.7825 - val_loss: 0.4567\n",
      "Epoch 62/150\n",
      "\u001B[1m119/119\u001B[0m \u001B[32m━━━━━━━━━━━━━━━━━━━━\u001B[0m\u001B[37m\u001B[0m \u001B[1m46s\u001B[0m 384ms/step - accuracy: 0.8894 - loss: 0.2849 - val_accuracy: 0.7973 - val_loss: 0.4558\n",
      "Epoch 63/150\n",
      "\u001B[1m119/119\u001B[0m \u001B[32m━━━━━━━━━━━━━━━━━━━━\u001B[0m\u001B[37m\u001B[0m \u001B[1m46s\u001B[0m 386ms/step - accuracy: 0.8805 - loss: 0.2966 - val_accuracy: 0.7719 - val_loss: 0.4631\n",
      "Epoch 64/150\n",
      "\u001B[1m119/119\u001B[0m \u001B[32m━━━━━━━━━━━━━━━━━━━━\u001B[0m\u001B[37m\u001B[0m \u001B[1m46s\u001B[0m 385ms/step - accuracy: 0.8856 - loss: 0.2915 - val_accuracy: 0.7994 - val_loss: 0.4259\n",
      "Epoch 65/150\n",
      "\u001B[1m119/119\u001B[0m \u001B[32m━━━━━━━━━━━━━━━━━━━━\u001B[0m\u001B[37m\u001B[0m \u001B[1m46s\u001B[0m 385ms/step - accuracy: 0.9032 - loss: 0.2718 - val_accuracy: 0.7677 - val_loss: 0.4852\n",
      "Epoch 66/150\n",
      "\u001B[1m119/119\u001B[0m \u001B[32m━━━━━━━━━━━━━━━━━━━━\u001B[0m\u001B[37m\u001B[0m \u001B[1m46s\u001B[0m 386ms/step - accuracy: 0.8897 - loss: 0.2921 - val_accuracy: 0.8226 - val_loss: 0.4194\n",
      "Epoch 67/150\n",
      "\u001B[1m119/119\u001B[0m \u001B[32m━━━━━━━━━━━━━━━━━━━━\u001B[0m\u001B[37m\u001B[0m \u001B[1m46s\u001B[0m 388ms/step - accuracy: 0.8983 - loss: 0.2790 - val_accuracy: 0.7297 - val_loss: 0.5589\n",
      "Epoch 68/150\n",
      "\u001B[1m119/119\u001B[0m \u001B[32m━━━━━━━━━━━━━━━━━━━━\u001B[0m\u001B[37m\u001B[0m \u001B[1m46s\u001B[0m 385ms/step - accuracy: 0.8925 - loss: 0.2824 - val_accuracy: 0.8068 - val_loss: 0.4226\n",
      "Epoch 69/150\n",
      "\u001B[1m119/119\u001B[0m \u001B[32m━━━━━━━━━━━━━━━━━━━━\u001B[0m\u001B[37m\u001B[0m \u001B[1m46s\u001B[0m 389ms/step - accuracy: 0.8973 - loss: 0.2730 - val_accuracy: 0.8226 - val_loss: 0.4138\n",
      "Epoch 70/150\n",
      "\u001B[1m119/119\u001B[0m \u001B[32m━━━━━━━━━━━━━━━━━━━━\u001B[0m\u001B[37m\u001B[0m \u001B[1m46s\u001B[0m 388ms/step - accuracy: 0.9072 - loss: 0.2611 - val_accuracy: 0.8152 - val_loss: 0.4174\n",
      "Epoch 71/150\n",
      "\u001B[1m119/119\u001B[0m \u001B[32m━━━━━━━━━━━━━━━━━━━━\u001B[0m\u001B[37m\u001B[0m \u001B[1m46s\u001B[0m 386ms/step - accuracy: 0.9034 - loss: 0.2733 - val_accuracy: 0.7930 - val_loss: 0.4370\n",
      "Epoch 72/150\n",
      "\u001B[1m119/119\u001B[0m \u001B[32m━━━━━━━━━━━━━━━━━━━━\u001B[0m\u001B[37m\u001B[0m \u001B[1m46s\u001B[0m 388ms/step - accuracy: 0.8954 - loss: 0.2734 - val_accuracy: 0.7930 - val_loss: 0.4304\n",
      "Epoch 73/150\n",
      "\u001B[1m119/119\u001B[0m \u001B[32m━━━━━━━━━━━━━━━━━━━━\u001B[0m\u001B[37m\u001B[0m \u001B[1m46s\u001B[0m 388ms/step - accuracy: 0.9060 - loss: 0.2585 - val_accuracy: 0.7518 - val_loss: 0.5277\n",
      "Epoch 74/150\n",
      "\u001B[1m119/119\u001B[0m \u001B[32m━━━━━━━━━━━━━━━━━━━━\u001B[0m\u001B[37m\u001B[0m \u001B[1m46s\u001B[0m 387ms/step - accuracy: 0.8882 - loss: 0.2777 - val_accuracy: 0.8247 - val_loss: 0.4099\n",
      "Epoch 74: early stopping\n",
      "Restoring model weights from the end of the best epoch: 54.\n"
     ]
    }
   ],
   "execution_count": 10
  },
  {
   "metadata": {},
   "cell_type": "code",
   "source": "",
   "id": "b4943fa444d524dc",
   "outputs": [],
   "execution_count": null
  }
 ],
 "metadata": {
  "kernelspec": {
   "display_name": "Python 3",
   "language": "python",
   "name": "python3"
  },
  "language_info": {
   "codemirror_mode": {
    "name": "ipython",
    "version": 2
   },
   "file_extension": ".py",
   "mimetype": "text/x-python",
   "name": "python",
   "nbconvert_exporter": "python",
   "pygments_lexer": "ipython2",
   "version": "2.7.6"
  }
 },
 "nbformat": 4,
 "nbformat_minor": 5
}
