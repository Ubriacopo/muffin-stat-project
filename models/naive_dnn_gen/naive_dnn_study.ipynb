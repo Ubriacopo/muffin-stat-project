{
 "cells": [
  {
   "cell_type": "code",
   "outputs": [],
   "source": [
    "import os\n",
    "\n",
    "# Why Torch? You'll find the answer in the .md files! \n",
    "os.environ[\"KERAS_BACKEND\"] = \"torch\""
   ],
   "metadata": {
    "collapsed": false,
    "ExecuteTime": {
     "end_time": "2024-03-06T22:45:00.899352Z",
     "start_time": "2024-03-06T22:45:00.897362Z"
    }
   },
   "id": "eff75a67293f2cc4",
   "execution_count": 1
  },
  {
   "cell_type": "code",
   "outputs": [
    {
     "data": {
      "text/plain": "True"
     },
     "execution_count": 2,
     "metadata": {},
     "output_type": "execute_result"
    }
   ],
   "source": [
    "import torch\n",
    "\n",
    "torch.cuda.is_available()"
   ],
   "metadata": {
    "collapsed": false,
    "ExecuteTime": {
     "end_time": "2024-03-06T22:45:02.321116Z",
     "start_time": "2024-03-06T22:45:01.484156Z"
    }
   },
   "id": "4c77acfbb0667942",
   "execution_count": 2
  },
  {
   "cell_type": "code",
   "outputs": [],
   "source": [
    "from models.hyperparameters import Hyperparameters\n",
    "import json\n",
    "\n",
    "#Hyperparameters redefinition for model.\n",
    "# todo utils for auto loading and saving\n",
    "try:\n",
    "    hp = Hyperparameters(**json.load(open('hyperparameters.json')))\n",
    "except FileNotFoundError:\n",
    "    # Create new configuration parameters\n",
    "    hp = Hyperparameters()\n",
    "    with open(\"hyperparameters.json\", \"w\") as outfile:\n",
    "        outfile.write(hp.toJSON())"
   ],
   "metadata": {
    "collapsed": false,
    "ExecuteTime": {
     "end_time": "2024-03-06T22:45:02.767248Z",
     "start_time": "2024-03-06T22:45:02.716055Z"
    }
   },
   "id": "a10f390a1bc6689b",
   "execution_count": 3
  },
  {
   "cell_type": "code",
   "outputs": [
    {
     "data": {
      "text/plain": "'1.0'"
     },
     "execution_count": 4,
     "metadata": {},
     "output_type": "execute_result"
    }
   ],
   "source": [
    "hp.version"
   ],
   "metadata": {
    "collapsed": false,
    "ExecuteTime": {
     "end_time": "2024-03-06T18:11:15.667659Z",
     "start_time": "2024-03-06T18:11:15.665301Z"
    }
   },
   "id": "f8c8bad4c0a5dfd1",
   "execution_count": 4
  },
  {
   "cell_type": "markdown",
   "source": [
    "## Let's start simple\n",
    "As theoretical evidence goes it is possible to aproximate any function\n",
    "(see better references) by a simple NN. Unfortunally this is unfeasable\n",
    "as the number of neurons should be a O(2e(d/3)) (check). \n",
    "\n",
    "Let's try to build a DNN (more than one layer) in order to achieve a good aproximation."
   ],
   "metadata": {
    "collapsed": false
   },
   "id": "cd9ba6b10a9c40b1"
  },
  {
   "cell_type": "markdown",
   "source": [
    "## HyperParameter: Image Size\n",
    "What size should the image be? For sake of simplicity we want to consider all images to have the same size.\n",
    "\n",
    "The more we reduce the size of an image the less information we contain as in most cases there will be a loss of information.\n",
    "This loss of information while unavoidable can be actually desired as we can force the network to better generalize the features of the image.\n",
    "\n",
    "\n",
    "### Memory Limits\n",
    "My machine has an RTX3070Ti that only has 8GiB of VRAM and this has to be taken into account. Images can be very memory demaning as pointed out:\n",
    "> It really depends on the size of your network and your GPU. You need to fit reasonably sized batch (16-64 images) in Gpu memory. That can easily be very big: you can compute the size of intermediate activations as 4 \\* batch_size * num_feature_maps * height * width. Say you take 32 square images 112x112 with 64 feature maps. It would be 100Mb just for activations and the same amount for gradients. Take relatively big network (for example, VGG16) and you already need a few Gb.\n",
    "Other aspect is the size of receptive field. If you follow current advices to prefer small filter size (3x3) and take big images, you can end up either with quite shallow network (because you can't fit a lot of layers into gpu) or with narrow network (which is ok if you know how to train it). Former network will necessarily have small effective receptive fields, therefore will approximate more local and simpler function.\n",
    "So the rule of thumb is use images about 256x256 for ImageNet-scale networks and about 96x96 for something smaller and easier. I have heard that in kaggle people train on 512x512 sometimes, but you will need to compromise on something. Or just buy gpu cluster.\n",
    "If you train fully convolutional networks like Faster RCNN you can take much bigger images (say 800x600) because you have batch size = 1.\n",
    "> (https://www.researchgate.net/post/Which_Image_resolution_should_I_use_for_training_for_deep_neural_network)\n",
    "\n",
    "\n",
    "> https://arxiv.org/pdf/2103.09950.pdf Has interesting idea of learning the image size but I don't think it will be applied to this project."
   ],
   "metadata": {
    "collapsed": false
   },
   "id": "8b7d729be5eaad69"
  },
  {
   "cell_type": "code",
   "outputs": [],
   "source": [
    "import torchvision\n",
    "\n",
    "loading_transforms = torchvision.transforms.Compose([\n",
    "    torchvision.transforms.Resize((hp.image_size[1], hp.image_size[2])),\n",
    "    # Todo: Check if i rescales to [-1,1]\n",
    "    torchvision.transforms.ToTensor(),\n",
    "    # lambda x: x.to(memory_format=torch.channels_last),\n",
    "])\n",
    "\n",
    "train_dataset = torchvision.datasets.ImageFolder(\"../../data/train\", transform=loading_transforms)\n",
    "validation_dataset = torchvision.datasets.ImageFolder(\"../../data/test/\", transform=loading_transforms)\n"
   ],
   "metadata": {
    "collapsed": true,
    "ExecuteTime": {
     "end_time": "2024-03-06T22:45:09.303458Z",
     "start_time": "2024-03-06T22:45:08.655688Z"
    }
   },
   "id": "initial_id",
   "execution_count": 4
  },
  {
   "cell_type": "code",
   "outputs": [
    {
     "data": {
      "text/plain": "\u001B[1mModel: \"functional_1\"\u001B[0m\n",
      "text/html": "<pre style=\"white-space:pre;overflow-x:auto;line-height:normal;font-family:Menlo,'DejaVu Sans Mono',consolas,'Courier New',monospace\"><span style=\"font-weight: bold\">Model: \"functional_1\"</span>\n</pre>\n"
     },
     "metadata": {},
     "output_type": "display_data"
    },
    {
     "data": {
      "text/plain": "┏━━━━━━━━━━━━━━━━━━━━━━━━━━━━━━━━━┳━━━━━━━━━━━━━━━━━━━━━━━━┳━━━━━━━━━━━━━━━┓\n┃\u001B[1m \u001B[0m\u001B[1mLayer (type)                   \u001B[0m\u001B[1m \u001B[0m┃\u001B[1m \u001B[0m\u001B[1mOutput Shape          \u001B[0m\u001B[1m \u001B[0m┃\u001B[1m \u001B[0m\u001B[1m      Param #\u001B[0m\u001B[1m \u001B[0m┃\n┡━━━━━━━━━━━━━━━━━━━━━━━━━━━━━━━━━╇━━━━━━━━━━━━━━━━━━━━━━━━╇━━━━━━━━━━━━━━━┩\n│ naive_dnn (\u001B[38;5;33mInputLayer\u001B[0m)          │ (\u001B[38;5;45mNone\u001B[0m, \u001B[38;5;34m3\u001B[0m, \u001B[38;5;34m128\u001B[0m, \u001B[38;5;34m128\u001B[0m)    │             \u001B[38;5;34m0\u001B[0m │\n├─────────────────────────────────┼────────────────────────┼───────────────┤\n│ flatten (\u001B[38;5;33mFlatten\u001B[0m)               │ (\u001B[38;5;45mNone\u001B[0m, \u001B[38;5;34m49152\u001B[0m)          │             \u001B[38;5;34m0\u001B[0m │\n├─────────────────────────────────┼────────────────────────┼───────────────┤\n│ dense (\u001B[38;5;33mDense\u001B[0m)                   │ (\u001B[38;5;45mNone\u001B[0m, \u001B[38;5;34m2900\u001B[0m)           │   \u001B[38;5;34m142,543,700\u001B[0m │\n├─────────────────────────────────┼────────────────────────┼───────────────┤\n│ dense_1 (\u001B[38;5;33mDense\u001B[0m)                 │ (\u001B[38;5;45mNone\u001B[0m, \u001B[38;5;34m1100\u001B[0m)           │     \u001B[38;5;34m3,191,100\u001B[0m │\n├─────────────────────────────────┼────────────────────────┼───────────────┤\n│ dense_2 (\u001B[38;5;33mDense\u001B[0m)                 │ (\u001B[38;5;45mNone\u001B[0m, \u001B[38;5;34m1\u001B[0m)              │         \u001B[38;5;34m1,101\u001B[0m │\n└─────────────────────────────────┴────────────────────────┴───────────────┘\n",
      "text/html": "<pre style=\"white-space:pre;overflow-x:auto;line-height:normal;font-family:Menlo,'DejaVu Sans Mono',consolas,'Courier New',monospace\">┏━━━━━━━━━━━━━━━━━━━━━━━━━━━━━━━━━┳━━━━━━━━━━━━━━━━━━━━━━━━┳━━━━━━━━━━━━━━━┓\n┃<span style=\"font-weight: bold\"> Layer (type)                    </span>┃<span style=\"font-weight: bold\"> Output Shape           </span>┃<span style=\"font-weight: bold\">       Param # </span>┃\n┡━━━━━━━━━━━━━━━━━━━━━━━━━━━━━━━━━╇━━━━━━━━━━━━━━━━━━━━━━━━╇━━━━━━━━━━━━━━━┩\n│ naive_dnn (<span style=\"color: #0087ff; text-decoration-color: #0087ff\">InputLayer</span>)          │ (<span style=\"color: #00d7ff; text-decoration-color: #00d7ff\">None</span>, <span style=\"color: #00af00; text-decoration-color: #00af00\">3</span>, <span style=\"color: #00af00; text-decoration-color: #00af00\">128</span>, <span style=\"color: #00af00; text-decoration-color: #00af00\">128</span>)    │             <span style=\"color: #00af00; text-decoration-color: #00af00\">0</span> │\n├─────────────────────────────────┼────────────────────────┼───────────────┤\n│ flatten (<span style=\"color: #0087ff; text-decoration-color: #0087ff\">Flatten</span>)               │ (<span style=\"color: #00d7ff; text-decoration-color: #00d7ff\">None</span>, <span style=\"color: #00af00; text-decoration-color: #00af00\">49152</span>)          │             <span style=\"color: #00af00; text-decoration-color: #00af00\">0</span> │\n├─────────────────────────────────┼────────────────────────┼───────────────┤\n│ dense (<span style=\"color: #0087ff; text-decoration-color: #0087ff\">Dense</span>)                   │ (<span style=\"color: #00d7ff; text-decoration-color: #00d7ff\">None</span>, <span style=\"color: #00af00; text-decoration-color: #00af00\">2900</span>)           │   <span style=\"color: #00af00; text-decoration-color: #00af00\">142,543,700</span> │\n├─────────────────────────────────┼────────────────────────┼───────────────┤\n│ dense_1 (<span style=\"color: #0087ff; text-decoration-color: #0087ff\">Dense</span>)                 │ (<span style=\"color: #00d7ff; text-decoration-color: #00d7ff\">None</span>, <span style=\"color: #00af00; text-decoration-color: #00af00\">1100</span>)           │     <span style=\"color: #00af00; text-decoration-color: #00af00\">3,191,100</span> │\n├─────────────────────────────────┼────────────────────────┼───────────────┤\n│ dense_2 (<span style=\"color: #0087ff; text-decoration-color: #0087ff\">Dense</span>)                 │ (<span style=\"color: #00d7ff; text-decoration-color: #00d7ff\">None</span>, <span style=\"color: #00af00; text-decoration-color: #00af00\">1</span>)              │         <span style=\"color: #00af00; text-decoration-color: #00af00\">1,101</span> │\n└─────────────────────────────────┴────────────────────────┴───────────────┘\n</pre>\n"
     },
     "metadata": {},
     "output_type": "display_data"
    },
    {
     "data": {
      "text/plain": "\u001B[1m Total params: \u001B[0m\u001B[38;5;34m145,735,901\u001B[0m (555.94 MB)\n",
      "text/html": "<pre style=\"white-space:pre;overflow-x:auto;line-height:normal;font-family:Menlo,'DejaVu Sans Mono',consolas,'Courier New',monospace\"><span style=\"font-weight: bold\"> Total params: </span><span style=\"color: #00af00; text-decoration-color: #00af00\">145,735,901</span> (555.94 MB)\n</pre>\n"
     },
     "metadata": {},
     "output_type": "display_data"
    },
    {
     "data": {
      "text/plain": "\u001B[1m Trainable params: \u001B[0m\u001B[38;5;34m145,735,901\u001B[0m (555.94 MB)\n",
      "text/html": "<pre style=\"white-space:pre;overflow-x:auto;line-height:normal;font-family:Menlo,'DejaVu Sans Mono',consolas,'Courier New',monospace\"><span style=\"font-weight: bold\"> Trainable params: </span><span style=\"color: #00af00; text-decoration-color: #00af00\">145,735,901</span> (555.94 MB)\n</pre>\n"
     },
     "metadata": {},
     "output_type": "display_data"
    },
    {
     "data": {
      "text/plain": "\u001B[1m Non-trainable params: \u001B[0m\u001B[38;5;34m0\u001B[0m (0.00 B)\n",
      "text/html": "<pre style=\"white-space:pre;overflow-x:auto;line-height:normal;font-family:Menlo,'DejaVu Sans Mono',consolas,'Courier New',monospace\"><span style=\"font-weight: bold\"> Non-trainable params: </span><span style=\"color: #00af00; text-decoration-color: #00af00\">0</span> (0.00 B)\n</pre>\n"
     },
     "metadata": {},
     "output_type": "display_data"
    }
   ],
   "source": [
    "from keras import Model\n",
    "from models.naive_dnn_gen.naive_dnn import naive_dnn, naive_dnn_augmentation, naive_dnn_pre_process\n",
    "\n",
    "model_inputs, model_outputs = naive_dnn(hp.image_size)\n",
    "\n",
    "augmentation_inputs, augmentation_outputs = naive_dnn_augmentation(hp.image_size)\n",
    "\n",
    "#pre_naive_inputs, pre_naive_outputs = naive_dnn_pre_process(\n",
    "#    hp.image_size,  #Input size of course\n",
    "#    Model(model_inputs, model_outputs),\n",
    "#    Model(augmentation_inputs, augmentation_outputs)\n",
    "#)\n",
    "\n",
    "pre_naive_model = Model(model_inputs, model_outputs)\n",
    "pre_naive_model.summary(expand_nested=True)"
   ],
   "metadata": {
    "collapsed": false,
    "ExecuteTime": {
     "end_time": "2024-03-06T18:50:14.493399Z",
     "start_time": "2024-03-06T18:50:13.739985Z"
    }
   },
   "id": "e37ce022bd97365d",
   "execution_count": 5
  },
  {
   "cell_type": "code",
   "outputs": [
    {
     "name": "stdout",
     "output_type": "stream",
     "text": [
      "Memory footprint of the model is around 1685 MB during training\n"
     ]
    }
   ],
   "source": [
    "network_size = pre_naive_model.count_params()\n",
    "image_batch_size = hp.image_size[0] * hp.image_size[1] * hp.image_size[2] * hp.batch_size\n",
    "\n",
    "# todo Find what it really is\n",
    "optimizer_memory_impact = 3\n",
    "\n",
    "print(\"Memory footprint of the model is around \" + str(\n",
    "    int((4 * (network_size + image_batch_size) * optimizer_memory_impact) / 1024 / 1024)) + \" MB during training\")\n"
   ],
   "metadata": {
    "collapsed": false,
    "ExecuteTime": {
     "end_time": "2024-03-06T18:50:17.679223Z",
     "start_time": "2024-03-06T18:50:17.676652Z"
    }
   },
   "id": "7404a3aad021f283",
   "execution_count": 6
  },
  {
   "cell_type": "code",
   "outputs": [
    {
     "name": "stdout",
     "output_type": "stream",
     "text": [
      "Epoch 1/100\n",
      "\u001B[1m148/148\u001B[0m \u001B[32m━━━━━━━━━━━━━━━━━━━━\u001B[0m\u001B[37m\u001B[0m \u001B[1m93s\u001B[0m 624ms/step - accuracy: 0.5559 - loss: 1.3844 - zero_one_loss_binary: 15.6005 - val_accuracy: 0.7230 - val_loss: 0.6069 - val_zero_one_loss_binary: 15.6182\n",
      "Epoch 2/100\n",
      "\u001B[1m148/148\u001B[0m \u001B[32m━━━━━━━━━━━━━━━━━━━━\u001B[0m\u001B[37m\u001B[0m \u001B[1m52s\u001B[0m 352ms/step - accuracy: 0.6747 - loss: 0.6040 - zero_one_loss_binary: 15.6583 - val_accuracy: 0.5853 - val_loss: 0.6965 - val_zero_one_loss_binary: 16.8395\n",
      "Epoch 3/100\n",
      "\u001B[1m148/148\u001B[0m \u001B[32m━━━━━━━━━━━━━━━━━━━━\u001B[0m\u001B[37m\u001B[0m \u001B[1m53s\u001B[0m 356ms/step - accuracy: 0.6906 - loss: 0.5779 - zero_one_loss_binary: 15.6119 - val_accuracy: 0.7407 - val_loss: 0.5339 - val_zero_one_loss_binary: 15.6436\n",
      "Epoch 4/100\n",
      "\u001B[1m148/148\u001B[0m \u001B[32m━━━━━━━━━━━━━━━━━━━━\u001B[0m\u001B[37m\u001B[0m \u001B[1m53s\u001B[0m 361ms/step - accuracy: 0.7416 - loss: 0.5316 - zero_one_loss_binary: 15.6272 - val_accuracy: 0.7568 - val_loss: 0.5107 - val_zero_one_loss_binary: 15.5034\n",
      "Epoch 5/100\n",
      "\u001B[1m148/148\u001B[0m \u001B[32m━━━━━━━━━━━━━━━━━━━━\u001B[0m\u001B[37m\u001B[0m \u001B[1m52s\u001B[0m 352ms/step - accuracy: 0.7482 - loss: 0.5196 - zero_one_loss_binary: 15.4524 - val_accuracy: 0.7694 - val_loss: 0.5107 - val_zero_one_loss_binary: 15.7416\n",
      "Epoch 6/100\n",
      "\u001B[1m148/148\u001B[0m \u001B[32m━━━━━━━━━━━━━━━━━━━━\u001B[0m\u001B[37m\u001B[0m \u001B[1m52s\u001B[0m 354ms/step - accuracy: 0.7623 - loss: 0.4944 - zero_one_loss_binary: 15.7149 - val_accuracy: 0.7044 - val_loss: 0.5571 - val_zero_one_loss_binary: 15.1571\n",
      "Epoch 7/100\n",
      "\u001B[1m148/148\u001B[0m \u001B[32m━━━━━━━━━━━━━━━━━━━━\u001B[0m\u001B[37m\u001B[0m \u001B[1m53s\u001B[0m 357ms/step - accuracy: 0.7725 - loss: 0.4709 - zero_one_loss_binary: 15.5373 - val_accuracy: 0.7787 - val_loss: 0.4807 - val_zero_one_loss_binary: 15.4764\n",
      "Epoch 8/100\n",
      "\u001B[1m148/148\u001B[0m \u001B[32m━━━━━━━━━━━━━━━━━━━━\u001B[0m\u001B[37m\u001B[0m \u001B[1m51s\u001B[0m 346ms/step - accuracy: 0.7961 - loss: 0.4540 - zero_one_loss_binary: 15.4993 - val_accuracy: 0.7796 - val_loss: 0.4999 - val_zero_one_loss_binary: 15.5068\n",
      "Epoch 9/100\n",
      "\u001B[1m148/148\u001B[0m \u001B[32m━━━━━━━━━━━━━━━━━━━━\u001B[0m\u001B[37m\u001B[0m \u001B[1m51s\u001B[0m 348ms/step - accuracy: 0.7818 - loss: 0.4645 - zero_one_loss_binary: 15.7141 - val_accuracy: 0.7492 - val_loss: 0.5163 - val_zero_one_loss_binary: 15.4679\n",
      "Epoch 10/100\n",
      "\u001B[1m148/148\u001B[0m \u001B[32m━━━━━━━━━━━━━━━━━━━━\u001B[0m\u001B[37m\u001B[0m \u001B[1m51s\u001B[0m 346ms/step - accuracy: 0.7873 - loss: 0.4555 - zero_one_loss_binary: 15.6550 - val_accuracy: 0.7779 - val_loss: 0.4888 - val_zero_one_loss_binary: 15.5980\n",
      "Epoch 11/100\n",
      "\u001B[1m148/148\u001B[0m \u001B[32m━━━━━━━━━━━━━━━━━━━━\u001B[0m\u001B[37m\u001B[0m \u001B[1m51s\u001B[0m 345ms/step - accuracy: 0.8026 - loss: 0.4208 - zero_one_loss_binary: 15.5748 - val_accuracy: 0.7483 - val_loss: 0.5242 - val_zero_one_loss_binary: 16.1166\n",
      "Epoch 12/100\n",
      "\u001B[1m148/148\u001B[0m \u001B[32m━━━━━━━━━━━━━━━━━━━━\u001B[0m\u001B[37m\u001B[0m \u001B[1m51s\u001B[0m 345ms/step - accuracy: 0.8093 - loss: 0.4175 - zero_one_loss_binary: 15.6464 - val_accuracy: 0.7728 - val_loss: 0.4989 - val_zero_one_loss_binary: 15.5389\n",
      "Epoch 13/100\n",
      "\u001B[1m148/148\u001B[0m \u001B[32m━━━━━━━━━━━━━━━━━━━━\u001B[0m\u001B[37m\u001B[0m \u001B[1m51s\u001B[0m 347ms/step - accuracy: 0.8149 - loss: 0.4132 - zero_one_loss_binary: 15.4992 - val_accuracy: 0.7872 - val_loss: 0.4758 - val_zero_one_loss_binary: 15.7196\n",
      "Epoch 14/100\n",
      "\u001B[1m148/148\u001B[0m \u001B[32m━━━━━━━━━━━━━━━━━━━━\u001B[0m\u001B[37m\u001B[0m \u001B[1m50s\u001B[0m 341ms/step - accuracy: 0.8219 - loss: 0.4052 - zero_one_loss_binary: 15.6779 - val_accuracy: 0.7694 - val_loss: 0.5103 - val_zero_one_loss_binary: 15.3834\n",
      "Epoch 15/100\n",
      "\u001B[1m148/148\u001B[0m \u001B[32m━━━━━━━━━━━━━━━━━━━━\u001B[0m\u001B[37m\u001B[0m \u001B[1m51s\u001B[0m 345ms/step - accuracy: 0.8171 - loss: 0.4014 - zero_one_loss_binary: 15.5529 - val_accuracy: 0.7441 - val_loss: 0.5571 - val_zero_one_loss_binary: 15.1858\n",
      "Epoch 16/100\n",
      "\u001B[1m148/148\u001B[0m \u001B[32m━━━━━━━━━━━━━━━━━━━━\u001B[0m\u001B[37m\u001B[0m \u001B[1m51s\u001B[0m 344ms/step - accuracy: 0.8234 - loss: 0.3946 - zero_one_loss_binary: 15.3283 - val_accuracy: 0.7880 - val_loss: 0.4801 - val_zero_one_loss_binary: 15.4341\n",
      "Epoch 17/100\n",
      "\u001B[1m148/148\u001B[0m \u001B[32m━━━━━━━━━━━━━━━━━━━━\u001B[0m\u001B[37m\u001B[0m \u001B[1m51s\u001B[0m 345ms/step - accuracy: 0.8345 - loss: 0.3627 - zero_one_loss_binary: 15.6424 - val_accuracy: 0.7863 - val_loss: 0.4758 - val_zero_one_loss_binary: 15.4020\n",
      "Epoch 18/100\n",
      "\u001B[1m148/148\u001B[0m \u001B[32m━━━━━━━━━━━━━━━━━━━━\u001B[0m\u001B[37m\u001B[0m \u001B[1m50s\u001B[0m 340ms/step - accuracy: 0.8373 - loss: 0.3694 - zero_one_loss_binary: 15.4927 - val_accuracy: 0.7745 - val_loss: 0.4777 - val_zero_one_loss_binary: 15.5811\n",
      "Epoch 19/100\n",
      "\u001B[1m148/148\u001B[0m \u001B[32m━━━━━━━━━━━━━━━━━━━━\u001B[0m\u001B[37m\u001B[0m \u001B[1m50s\u001B[0m 341ms/step - accuracy: 0.8473 - loss: 0.3511 - zero_one_loss_binary: 15.4708 - val_accuracy: 0.7922 - val_loss: 0.4919 - val_zero_one_loss_binary: 15.3581\n",
      "Epoch 20/100\n",
      "\u001B[1m148/148\u001B[0m \u001B[32m━━━━━━━━━━━━━━━━━━━━\u001B[0m\u001B[37m\u001B[0m \u001B[1m50s\u001B[0m 339ms/step - accuracy: 0.8624 - loss: 0.3280 - zero_one_loss_binary: 15.4815 - val_accuracy: 0.7905 - val_loss: 0.4855 - val_zero_one_loss_binary: 15.4764\n",
      "Epoch 21/100\n",
      "\u001B[1m148/148\u001B[0m \u001B[32m━━━━━━━━━━━━━━━━━━━━\u001B[0m\u001B[37m\u001B[0m \u001B[1m50s\u001B[0m 341ms/step - accuracy: 0.8628 - loss: 0.3147 - zero_one_loss_binary: 15.4500 - val_accuracy: 0.7812 - val_loss: 0.4882 - val_zero_one_loss_binary: 15.8378\n",
      "Epoch 22/100\n",
      "\u001B[1m148/148\u001B[0m \u001B[32m━━━━━━━━━━━━━━━━━━━━\u001B[0m\u001B[37m\u001B[0m \u001B[1m50s\u001B[0m 340ms/step - accuracy: 0.8797 - loss: 0.3035 - zero_one_loss_binary: 15.4347 - val_accuracy: 0.7483 - val_loss: 0.5132 - val_zero_one_loss_binary: 15.2145\n",
      "Epoch 23/100\n",
      "\u001B[1m148/148\u001B[0m \u001B[32m━━━━━━━━━━━━━━━━━━━━\u001B[0m\u001B[37m\u001B[0m \u001B[1m50s\u001B[0m 338ms/step - accuracy: 0.8578 - loss: 0.3338 - zero_one_loss_binary: 15.5200 - val_accuracy: 0.7863 - val_loss: 0.5144 - val_zero_one_loss_binary: 15.7838\n",
      "Epoch 24/100\n",
      "\u001B[1m148/148\u001B[0m \u001B[32m━━━━━━━━━━━━━━━━━━━━\u001B[0m\u001B[37m\u001B[0m \u001B[1m50s\u001B[0m 338ms/step - accuracy: 0.8825 - loss: 0.2806 - zero_one_loss_binary: 15.5588 - val_accuracy: 0.7863 - val_loss: 0.5026 - val_zero_one_loss_binary: 15.4899\n",
      "Epoch 25/100\n",
      "\u001B[1m148/148\u001B[0m \u001B[32m━━━━━━━━━━━━━━━━━━━━\u001B[0m\u001B[37m\u001B[0m \u001B[1m50s\u001B[0m 341ms/step - accuracy: 0.8778 - loss: 0.2882 - zero_one_loss_binary: 15.5862 - val_accuracy: 0.7120 - val_loss: 0.8217 - val_zero_one_loss_binary: 15.1993\n",
      "Epoch 26/100\n",
      "\u001B[1m148/148\u001B[0m \u001B[32m━━━━━━━━━━━━━━━━━━━━\u001B[0m\u001B[37m\u001B[0m \u001B[1m50s\u001B[0m 341ms/step - accuracy: 0.8782 - loss: 0.2839 - zero_one_loss_binary: 15.5079 - val_accuracy: 0.7770 - val_loss: 0.5241 - val_zero_one_loss_binary: 15.7044\n",
      "Epoch 27/100\n",
      "\u001B[1m148/148\u001B[0m \u001B[32m━━━━━━━━━━━━━━━━━━━━\u001B[0m\u001B[37m\u001B[0m \u001B[1m50s\u001B[0m 338ms/step - accuracy: 0.8895 - loss: 0.2675 - zero_one_loss_binary: 15.5521 - val_accuracy: 0.7846 - val_loss: 0.4864 - val_zero_one_loss_binary: 15.4105\n"
     ]
    }
   ],
   "source": [
    "from torch.utils.data import DataLoader\n",
    "from models.zero_one_validation_loss import zero_one_loss_binary\n",
    "\n",
    "import keras\n",
    "\n",
    "train_dataloader = DataLoader(dataset=train_dataset, batch_size=hp.batch_size, shuffle=True)\n",
    "validation_dataloader = DataLoader(dataset=validation_dataset, batch_size=hp.batch_size, shuffle=True)\n",
    "\n",
    "pre_naive_model.compile(optimizer=keras.optimizers.SGD(learning_rate=hp.learning_rate, momentum=0.5),\n",
    "                        metrics=['accuracy', zero_one_loss_binary], loss=keras.losses.BinaryCrossentropy())\n",
    "\n",
    "history = pre_naive_model.fit(train_dataloader, validation_data=validation_dataloader, epochs=hp.n_epochs, callbacks=[\n",
    "    # To avoid keep going\n",
    "    keras.callbacks.EarlyStopping(monitor='val_loss', patience=10, restore_best_weights=True),\n",
    "])\n",
    "\n",
    "pre_naive_model.save(f\"compiled_model_{hp.version}.keras\")"
   ],
   "metadata": {
    "collapsed": false,
    "ExecuteTime": {
     "end_time": "2024-03-06T19:14:04.372999Z",
     "start_time": "2024-03-06T18:50:19.383649Z"
    }
   },
   "id": "c14326235cf2dfe3",
   "execution_count": 7
  },
  {
   "cell_type": "markdown",
   "source": [
    "https://arxiv.org/abs/2305.19982#:~:text=Evaluated%20on%20transformer%2Dbased%20models,2%25%20degradation%20in%20training%20throughput.\n",
    "An alternative to Adam"
   ],
   "metadata": {
    "collapsed": false
   },
   "id": "38123b25c7fdd45f"
  },
  {
   "cell_type": "code",
   "outputs": [
    {
     "data": {
      "text/plain": "<Axes: >"
     },
     "execution_count": 8,
     "metadata": {},
     "output_type": "execute_result"
    },
    {
     "data": {
      "text/plain": "<Figure size 640x480 with 1 Axes>",
      "image/png": "[encoded data removed]"
     },
     "metadata": {},
     "output_type": "display_data"
    },
    {
     "data": {
      "text/plain": "<Figure size 640x480 with 1 Axes>",
      "image/png": "[encoded data removed]"
     },
     "metadata": {},
     "output_type": "display_data"
    }
   ],
   "source": [
    "import pandas\n",
    "\n",
    "metrics_df1 = pandas.DataFrame(history.history)\n",
    "metrics_df1[[\"loss\", \"val_loss\"]].plot(ylim=(0, 1))\n",
    "metrics_df1[[\"accuracy\", \"val_accuracy\"]].plot(ylim=(0, 1))\n",
    "\n",
    "# For the 2 Hidden Layers with 2.9k / 1.1k Neurons Layers the Network is prone to Overfitting \n",
    "# as we can deduce by the fact that we had to early stop since the validation loss \n",
    "# hasn't gotten any better for a long period of time (10 Epoches)"
   ],
   "metadata": {
    "collapsed": false,
    "ExecuteTime": {
     "end_time": "2024-03-06T19:43:12.726318Z",
     "start_time": "2024-03-06T19:43:12.385917Z"
    }
   },
   "id": "22b546d724724085",
   "execution_count": 8
  },
  {
   "cell_type": "code",
   "outputs": [
    {
     "data": {
      "text/plain": "    accuracy      loss  zero_one_loss_binary  val_accuracy  val_loss  \\\n0   0.588422  0.872161             15.762159      0.722973  0.606935   \n1   0.682865  0.588914             15.527682      0.585304  0.696504   \n2   0.714980  0.555876             15.542521      0.740709  0.533884   \n3   0.746884  0.521755             15.547370      0.756757  0.510696   \n4   0.753645  0.511757             15.496884      0.769426  0.510681   \n5   0.764420  0.497481             15.560753      0.704392  0.557120   \n6   0.769702  0.480182             15.514766      0.778716  0.480730   \n7   0.787027  0.458116             15.476162      0.779561  0.499931   \n8   0.786182  0.456689             15.562675      0.749155  0.516276   \n9   0.785760  0.451597             15.540016      0.777872  0.488770   \n10  0.801606  0.426608             15.526955      0.748311  0.524224   \n11  0.801817  0.423251             15.577208      0.772804  0.498883   \n12  0.815128  0.415687             15.504863      0.787162  0.475821   \n13  0.817029  0.412362             15.595644      0.769426  0.510349   \n14  0.819776  0.402724             15.602530      0.744088  0.557102   \n15  0.827805  0.391947             15.430103      0.788007  0.480073   \n16  0.840059  0.363935             15.558802      0.786318  0.475811   \n17  0.833932  0.372430             15.485847      0.774493  0.477699   \n18  0.846398  0.350251             15.512320      0.792230  0.491941   \n19  0.852102  0.340999             15.379150      0.790541  0.485530   \n20  0.853370  0.337420             15.491190      0.781250  0.488220   \n21  0.868371  0.316033             15.469711      0.748311  0.513208   \n22  0.861610  0.328531             15.622409      0.786318  0.514436   \n23  0.866047  0.309843             15.557272      0.786318  0.502558   \n24  0.875977  0.293318             15.446106      0.711993  0.821710   \n25  0.877034  0.290841             15.442640      0.777027  0.524107   \n26  0.876400  0.295024             15.570189      0.784628  0.486372   \n\n    val_zero_one_loss_binary  \n0                  15.618243  \n1                  16.839527  \n2                  15.643581  \n3                  15.503378  \n4                  15.741554  \n5                  15.157095  \n6                  15.476352  \n7                  15.506757  \n8                  15.467905  \n9                  15.597973  \n10                 16.116554  \n11                 15.538852  \n12                 15.719595  \n13                 15.383446  \n14                 15.185811  \n15                 15.434122  \n16                 15.402027  \n17                 15.581081  \n18                 15.358109  \n19                 15.476352  \n20                 15.837838  \n21                 15.214527  \n22                 15.783784  \n23                 15.489865  \n24                 15.199325  \n25                 15.704391  \n26                 15.410473  ",
      "text/html": "<div>\n<style scoped>\n    .dataframe tbody tr th:only-of-type {\n        vertical-align: middle;\n    }\n\n    .dataframe tbody tr th {\n        vertical-align: top;\n    }\n\n    .dataframe thead th {\n        text-align: right;\n    }\n</style>\n<table border=\"1\" class=\"dataframe\">\n  <thead>\n    <tr style=\"text-align: right;\">\n      <th></th>\n      <th>accuracy</th>\n      <th>loss</th>\n      <th>zero_one_loss_binary</th>\n      <th>val_accuracy</th>\n      <th>val_loss</th>\n      <th>val_zero_one_loss_binary</th>\n    </tr>\n  </thead>\n  <tbody>\n    <tr>\n      <th>0</th>\n      <td>0.588422</td>\n      <td>0.872161</td>\n      <td>15.762159</td>\n      <td>0.722973</td>\n      <td>0.606935</td>\n      <td>15.618243</td>\n    </tr>\n    <tr>\n      <th>1</th>\n      <td>0.682865</td>\n      <td>0.588914</td>\n      <td>15.527682</td>\n      <td>0.585304</td>\n      <td>0.696504</td>\n      <td>16.839527</td>\n    </tr>\n    <tr>\n      <th>2</th>\n      <td>0.714980</td>\n      <td>0.555876</td>\n      <td>15.542521</td>\n      <td>0.740709</td>\n      <td>0.533884</td>\n      <td>15.643581</td>\n    </tr>\n    <tr>\n      <th>3</th>\n      <td>0.746884</td>\n      <td>0.521755</td>\n      <td>15.547370</td>\n      <td>0.756757</td>\n      <td>0.510696</td>\n      <td>15.503378</td>\n    </tr>\n    <tr>\n      <th>4</th>\n      <td>0.753645</td>\n      <td>0.511757</td>\n      <td>15.496884</td>\n      <td>0.769426</td>\n      <td>0.510681</td>\n      <td>15.741554</td>\n    </tr>\n    <tr>\n      <th>5</th>\n      <td>0.764420</td>\n      <td>0.497481</td>\n      <td>15.560753</td>\n      <td>0.704392</td>\n      <td>0.557120</td>\n      <td>15.157095</td>\n    </tr>\n    <tr>\n      <th>6</th>\n      <td>0.769702</td>\n      <td>0.480182</td>\n      <td>15.514766</td>\n      <td>0.778716</td>\n      <td>0.480730</td>\n      <td>15.476352</td>\n    </tr>\n    <tr>\n      <th>7</th>\n      <td>0.787027</td>\n      <td>0.458116</td>\n      <td>15.476162</td>\n      <td>0.779561</td>\n      <td>0.499931</td>\n      <td>15.506757</td>\n    </tr>\n    <tr>\n      <th>8</th>\n      <td>0.786182</td>\n      <td>0.456689</td>\n      <td>15.562675</td>\n      <td>0.749155</td>\n      <td>0.516276</td>\n      <td>15.467905</td>\n    </tr>\n    <tr>\n      <th>9</th>\n      <td>0.785760</td>\n      <td>0.451597</td>\n      <td>15.540016</td>\n      <td>0.777872</td>\n      <td>0.488770</td>\n      <td>15.597973</td>\n    </tr>\n    <tr>\n      <th>10</th>\n      <td>0.801606</td>\n      <td>0.426608</td>\n      <td>15.526955</td>\n      <td>0.748311</td>\n      <td>0.524224</td>\n      <td>16.116554</td>\n    </tr>\n    <tr>\n      <th>11</th>\n      <td>0.801817</td>\n      <td>0.423251</td>\n      <td>15.577208</td>\n      <td>0.772804</td>\n      <td>0.498883</td>\n      <td>15.538852</td>\n    </tr>\n    <tr>\n      <th>12</th>\n      <td>0.815128</td>\n      <td>0.415687</td>\n      <td>15.504863</td>\n      <td>0.787162</td>\n      <td>0.475821</td>\n      <td>15.719595</td>\n    </tr>\n    <tr>\n      <th>13</th>\n      <td>0.817029</td>\n      <td>0.412362</td>\n      <td>15.595644</td>\n      <td>0.769426</td>\n      <td>0.510349</td>\n      <td>15.383446</td>\n    </tr>\n    <tr>\n      <th>14</th>\n      <td>0.819776</td>\n      <td>0.402724</td>\n      <td>15.602530</td>\n      <td>0.744088</td>\n      <td>0.557102</td>\n      <td>15.185811</td>\n    </tr>\n    <tr>\n      <th>15</th>\n      <td>0.827805</td>\n      <td>0.391947</td>\n      <td>15.430103</td>\n      <td>0.788007</td>\n      <td>0.480073</td>\n      <td>15.434122</td>\n    </tr>\n    <tr>\n      <th>16</th>\n      <td>0.840059</td>\n      <td>0.363935</td>\n      <td>15.558802</td>\n      <td>0.786318</td>\n      <td>0.475811</td>\n      <td>15.402027</td>\n    </tr>\n    <tr>\n      <th>17</th>\n      <td>0.833932</td>\n      <td>0.372430</td>\n      <td>15.485847</td>\n      <td>0.774493</td>\n      <td>0.477699</td>\n      <td>15.581081</td>\n    </tr>\n    <tr>\n      <th>18</th>\n      <td>0.846398</td>\n      <td>0.350251</td>\n      <td>15.512320</td>\n      <td>0.792230</td>\n      <td>0.491941</td>\n      <td>15.358109</td>\n    </tr>\n    <tr>\n      <th>19</th>\n      <td>0.852102</td>\n      <td>0.340999</td>\n      <td>15.379150</td>\n      <td>0.790541</td>\n      <td>0.485530</td>\n      <td>15.476352</td>\n    </tr>\n    <tr>\n      <th>20</th>\n      <td>0.853370</td>\n      <td>0.337420</td>\n      <td>15.491190</td>\n      <td>0.781250</td>\n      <td>0.488220</td>\n      <td>15.837838</td>\n    </tr>\n    <tr>\n      <th>21</th>\n      <td>0.868371</td>\n      <td>0.316033</td>\n      <td>15.469711</td>\n      <td>0.748311</td>\n      <td>0.513208</td>\n      <td>15.214527</td>\n    </tr>\n    <tr>\n      <th>22</th>\n      <td>0.861610</td>\n      <td>0.328531</td>\n      <td>15.622409</td>\n      <td>0.786318</td>\n      <td>0.514436</td>\n      <td>15.783784</td>\n    </tr>\n    <tr>\n      <th>23</th>\n      <td>0.866047</td>\n      <td>0.309843</td>\n      <td>15.557272</td>\n      <td>0.786318</td>\n      <td>0.502558</td>\n      <td>15.489865</td>\n    </tr>\n    <tr>\n      <th>24</th>\n      <td>0.875977</td>\n      <td>0.293318</td>\n      <td>15.446106</td>\n      <td>0.711993</td>\n      <td>0.821710</td>\n      <td>15.199325</td>\n    </tr>\n    <tr>\n      <th>25</th>\n      <td>0.877034</td>\n      <td>0.290841</td>\n      <td>15.442640</td>\n      <td>0.777027</td>\n      <td>0.524107</td>\n      <td>15.704391</td>\n    </tr>\n    <tr>\n      <th>26</th>\n      <td>0.876400</td>\n      <td>0.295024</td>\n      <td>15.570189</td>\n      <td>0.784628</td>\n      <td>0.486372</td>\n      <td>15.410473</td>\n    </tr>\n  </tbody>\n</table>\n</div>"
     },
     "execution_count": 9,
     "metadata": {},
     "output_type": "execute_result"
    }
   ],
   "source": [
    "metrics_df1"
   ],
   "metadata": {
    "collapsed": false,
    "ExecuteTime": {
     "end_time": "2024-03-06T22:30:54.133211Z",
     "start_time": "2024-03-06T22:30:54.125052Z"
    }
   },
   "id": "35bebda5a47c8e75",
   "execution_count": 9
  },
  {
   "cell_type": "code",
   "outputs": [
    {
     "data": {
      "text/plain": "\u001B[1mModel: \"functional_5\"\u001B[0m\n",
      "text/html": "<pre style=\"white-space:pre;overflow-x:auto;line-height:normal;font-family:Menlo,'DejaVu Sans Mono',consolas,'Courier New',monospace\"><span style=\"font-weight: bold\">Model: \"functional_5\"</span>\n</pre>\n"
     },
     "metadata": {},
     "output_type": "display_data"
    },
    {
     "data": {
      "text/plain": "┏━━━━━━━━━━━━━━━━━━━━━━━━━━━━━━━━━┳━━━━━━━━━━━━━━━━━━━━━━━━┳━━━━━━━━━━━━━━━┓\n┃\u001B[1m \u001B[0m\u001B[1mLayer (type)                   \u001B[0m\u001B[1m \u001B[0m┃\u001B[1m \u001B[0m\u001B[1mOutput Shape          \u001B[0m\u001B[1m \u001B[0m┃\u001B[1m \u001B[0m\u001B[1m      Param #\u001B[0m\u001B[1m \u001B[0m┃\n┡━━━━━━━━━━━━━━━━━━━━━━━━━━━━━━━━━╇━━━━━━━━━━━━━━━━━━━━━━━━╇━━━━━━━━━━━━━━━┩\n│ naive_dnn_pre (\u001B[38;5;33mInputLayer\u001B[0m)      │ (\u001B[38;5;45mNone\u001B[0m, \u001B[38;5;34m3\u001B[0m, \u001B[38;5;34m128\u001B[0m, \u001B[38;5;34m128\u001B[0m)    │             \u001B[38;5;34m0\u001B[0m │\n├─────────────────────────────────┼────────────────────────┼───────────────┤\n│ functional_3 (\u001B[38;5;33mFunctional\u001B[0m)       │ (\u001B[38;5;45mNone\u001B[0m, \u001B[38;5;34m3\u001B[0m, \u001B[38;5;34m128\u001B[0m, \u001B[38;5;34m128\u001B[0m)    │             \u001B[38;5;34m0\u001B[0m │\n├─────────────────────────────────┼────────────────────────┼───────────────┤\n│    └ naive_dnn_augmentation     │ (\u001B[38;5;45mNone\u001B[0m, \u001B[38;5;34m3\u001B[0m, \u001B[38;5;34m128\u001B[0m, \u001B[38;5;34m128\u001B[0m)    │             \u001B[38;5;34m0\u001B[0m │\n│ (\u001B[38;5;33mInputLayer\u001B[0m)                    │                        │               │\n├─────────────────────────────────┼────────────────────────┼───────────────┤\n│    └ random_rotation            │ (\u001B[38;5;45mNone\u001B[0m, \u001B[38;5;34m3\u001B[0m, \u001B[38;5;34m128\u001B[0m, \u001B[38;5;34m128\u001B[0m)    │             \u001B[38;5;34m0\u001B[0m │\n│ (\u001B[38;5;33mRandomRotation\u001B[0m)                │                        │               │\n├─────────────────────────────────┼────────────────────────┼───────────────┤\n│    └ random_flip (\u001B[38;5;33mRandomFlip\u001B[0m)   │ (\u001B[38;5;45mNone\u001B[0m, \u001B[38;5;34m3\u001B[0m, \u001B[38;5;34m128\u001B[0m, \u001B[38;5;34m128\u001B[0m)    │             \u001B[38;5;34m0\u001B[0m │\n├─────────────────────────────────┼────────────────────────┼───────────────┤\n│ functional_1 (\u001B[38;5;33mFunctional\u001B[0m)       │ (\u001B[38;5;45mNone\u001B[0m, \u001B[38;5;34m1\u001B[0m)              │   \u001B[38;5;34m145,735,901\u001B[0m │\n├─────────────────────────────────┼────────────────────────┼───────────────┤\n│    └ naive_dnn (\u001B[38;5;33mInputLayer\u001B[0m)     │ (\u001B[38;5;45mNone\u001B[0m, \u001B[38;5;34m3\u001B[0m, \u001B[38;5;34m128\u001B[0m, \u001B[38;5;34m128\u001B[0m)    │             \u001B[38;5;34m0\u001B[0m │\n├─────────────────────────────────┼────────────────────────┼───────────────┤\n│    └ flatten (\u001B[38;5;33mFlatten\u001B[0m)          │ (\u001B[38;5;45mNone\u001B[0m, \u001B[38;5;34m49152\u001B[0m)          │             \u001B[38;5;34m0\u001B[0m │\n├─────────────────────────────────┼────────────────────────┼───────────────┤\n│    └ dense (\u001B[38;5;33mDense\u001B[0m)              │ (\u001B[38;5;45mNone\u001B[0m, \u001B[38;5;34m2900\u001B[0m)           │   \u001B[38;5;34m142,543,700\u001B[0m │\n├─────────────────────────────────┼────────────────────────┼───────────────┤\n│    └ dense_1 (\u001B[38;5;33mDense\u001B[0m)            │ (\u001B[38;5;45mNone\u001B[0m, \u001B[38;5;34m1100\u001B[0m)           │     \u001B[38;5;34m3,191,100\u001B[0m │\n├─────────────────────────────────┼────────────────────────┼───────────────┤\n│    └ dense_2 (\u001B[38;5;33mDense\u001B[0m)            │ (\u001B[38;5;45mNone\u001B[0m, \u001B[38;5;34m1\u001B[0m)              │         \u001B[38;5;34m1,101\u001B[0m │\n└─────────────────────────────────┴────────────────────────┴───────────────┘\n",
      "text/html": "<pre style=\"white-space:pre;overflow-x:auto;line-height:normal;font-family:Menlo,'DejaVu Sans Mono',consolas,'Courier New',monospace\">┏━━━━━━━━━━━━━━━━━━━━━━━━━━━━━━━━━┳━━━━━━━━━━━━━━━━━━━━━━━━┳━━━━━━━━━━━━━━━┓\n┃<span style=\"font-weight: bold\"> Layer (type)                    </span>┃<span style=\"font-weight: bold\"> Output Shape           </span>┃<span style=\"font-weight: bold\">       Param # </span>┃\n┡━━━━━━━━━━━━━━━━━━━━━━━━━━━━━━━━━╇━━━━━━━━━━━━━━━━━━━━━━━━╇━━━━━━━━━━━━━━━┩\n│ naive_dnn_pre (<span style=\"color: #0087ff; text-decoration-color: #0087ff\">InputLayer</span>)      │ (<span style=\"color: #00d7ff; text-decoration-color: #00d7ff\">None</span>, <span style=\"color: #00af00; text-decoration-color: #00af00\">3</span>, <span style=\"color: #00af00; text-decoration-color: #00af00\">128</span>, <span style=\"color: #00af00; text-decoration-color: #00af00\">128</span>)    │             <span style=\"color: #00af00; text-decoration-color: #00af00\">0</span> │\n├─────────────────────────────────┼────────────────────────┼───────────────┤\n│ functional_3 (<span style=\"color: #0087ff; text-decoration-color: #0087ff\">Functional</span>)       │ (<span style=\"color: #00d7ff; text-decoration-color: #00d7ff\">None</span>, <span style=\"color: #00af00; text-decoration-color: #00af00\">3</span>, <span style=\"color: #00af00; text-decoration-color: #00af00\">128</span>, <span style=\"color: #00af00; text-decoration-color: #00af00\">128</span>)    │             <span style=\"color: #00af00; text-decoration-color: #00af00\">0</span> │\n├─────────────────────────────────┼────────────────────────┼───────────────┤\n│    └ naive_dnn_augmentation     │ (<span style=\"color: #00d7ff; text-decoration-color: #00d7ff\">None</span>, <span style=\"color: #00af00; text-decoration-color: #00af00\">3</span>, <span style=\"color: #00af00; text-decoration-color: #00af00\">128</span>, <span style=\"color: #00af00; text-decoration-color: #00af00\">128</span>)    │             <span style=\"color: #00af00; text-decoration-color: #00af00\">0</span> │\n│ (<span style=\"color: #0087ff; text-decoration-color: #0087ff\">InputLayer</span>)                    │                        │               │\n├─────────────────────────────────┼────────────────────────┼───────────────┤\n│    └ random_rotation            │ (<span style=\"color: #00d7ff; text-decoration-color: #00d7ff\">None</span>, <span style=\"color: #00af00; text-decoration-color: #00af00\">3</span>, <span style=\"color: #00af00; text-decoration-color: #00af00\">128</span>, <span style=\"color: #00af00; text-decoration-color: #00af00\">128</span>)    │             <span style=\"color: #00af00; text-decoration-color: #00af00\">0</span> │\n│ (<span style=\"color: #0087ff; text-decoration-color: #0087ff\">RandomRotation</span>)                │                        │               │\n├─────────────────────────────────┼────────────────────────┼───────────────┤\n│    └ random_flip (<span style=\"color: #0087ff; text-decoration-color: #0087ff\">RandomFlip</span>)   │ (<span style=\"color: #00d7ff; text-decoration-color: #00d7ff\">None</span>, <span style=\"color: #00af00; text-decoration-color: #00af00\">3</span>, <span style=\"color: #00af00; text-decoration-color: #00af00\">128</span>, <span style=\"color: #00af00; text-decoration-color: #00af00\">128</span>)    │             <span style=\"color: #00af00; text-decoration-color: #00af00\">0</span> │\n├─────────────────────────────────┼────────────────────────┼───────────────┤\n│ functional_1 (<span style=\"color: #0087ff; text-decoration-color: #0087ff\">Functional</span>)       │ (<span style=\"color: #00d7ff; text-decoration-color: #00d7ff\">None</span>, <span style=\"color: #00af00; text-decoration-color: #00af00\">1</span>)              │   <span style=\"color: #00af00; text-decoration-color: #00af00\">145,735,901</span> │\n├─────────────────────────────────┼────────────────────────┼───────────────┤\n│    └ naive_dnn (<span style=\"color: #0087ff; text-decoration-color: #0087ff\">InputLayer</span>)     │ (<span style=\"color: #00d7ff; text-decoration-color: #00d7ff\">None</span>, <span style=\"color: #00af00; text-decoration-color: #00af00\">3</span>, <span style=\"color: #00af00; text-decoration-color: #00af00\">128</span>, <span style=\"color: #00af00; text-decoration-color: #00af00\">128</span>)    │             <span style=\"color: #00af00; text-decoration-color: #00af00\">0</span> │\n├─────────────────────────────────┼────────────────────────┼───────────────┤\n│    └ flatten (<span style=\"color: #0087ff; text-decoration-color: #0087ff\">Flatten</span>)          │ (<span style=\"color: #00d7ff; text-decoration-color: #00d7ff\">None</span>, <span style=\"color: #00af00; text-decoration-color: #00af00\">49152</span>)          │             <span style=\"color: #00af00; text-decoration-color: #00af00\">0</span> │\n├─────────────────────────────────┼────────────────────────┼───────────────┤\n│    └ dense (<span style=\"color: #0087ff; text-decoration-color: #0087ff\">Dense</span>)              │ (<span style=\"color: #00d7ff; text-decoration-color: #00d7ff\">None</span>, <span style=\"color: #00af00; text-decoration-color: #00af00\">2900</span>)           │   <span style=\"color: #00af00; text-decoration-color: #00af00\">142,543,700</span> │\n├─────────────────────────────────┼────────────────────────┼───────────────┤\n│    └ dense_1 (<span style=\"color: #0087ff; text-decoration-color: #0087ff\">Dense</span>)            │ (<span style=\"color: #00d7ff; text-decoration-color: #00d7ff\">None</span>, <span style=\"color: #00af00; text-decoration-color: #00af00\">1100</span>)           │     <span style=\"color: #00af00; text-decoration-color: #00af00\">3,191,100</span> │\n├─────────────────────────────────┼────────────────────────┼───────────────┤\n│    └ dense_2 (<span style=\"color: #0087ff; text-decoration-color: #0087ff\">Dense</span>)            │ (<span style=\"color: #00d7ff; text-decoration-color: #00d7ff\">None</span>, <span style=\"color: #00af00; text-decoration-color: #00af00\">1</span>)              │         <span style=\"color: #00af00; text-decoration-color: #00af00\">1,101</span> │\n└─────────────────────────────────┴────────────────────────┴───────────────┘\n</pre>\n"
     },
     "metadata": {},
     "output_type": "display_data"
    },
    {
     "data": {
      "text/plain": "\u001B[1m Total params: \u001B[0m\u001B[38;5;34m145,735,901\u001B[0m (555.94 MB)\n",
      "text/html": "<pre style=\"white-space:pre;overflow-x:auto;line-height:normal;font-family:Menlo,'DejaVu Sans Mono',consolas,'Courier New',monospace\"><span style=\"font-weight: bold\"> Total params: </span><span style=\"color: #00af00; text-decoration-color: #00af00\">145,735,901</span> (555.94 MB)\n</pre>\n"
     },
     "metadata": {},
     "output_type": "display_data"
    },
    {
     "data": {
      "text/plain": "\u001B[1m Trainable params: \u001B[0m\u001B[38;5;34m145,735,901\u001B[0m (555.94 MB)\n",
      "text/html": "<pre style=\"white-space:pre;overflow-x:auto;line-height:normal;font-family:Menlo,'DejaVu Sans Mono',consolas,'Courier New',monospace\"><span style=\"font-weight: bold\"> Trainable params: </span><span style=\"color: #00af00; text-decoration-color: #00af00\">145,735,901</span> (555.94 MB)\n</pre>\n"
     },
     "metadata": {},
     "output_type": "display_data"
    },
    {
     "data": {
      "text/plain": "\u001B[1m Non-trainable params: \u001B[0m\u001B[38;5;34m0\u001B[0m (0.00 B)\n",
      "text/html": "<pre style=\"white-space:pre;overflow-x:auto;line-height:normal;font-family:Menlo,'DejaVu Sans Mono',consolas,'Courier New',monospace\"><span style=\"font-weight: bold\"> Non-trainable params: </span><span style=\"color: #00af00; text-decoration-color: #00af00\">0</span> (0.00 B)\n</pre>\n"
     },
     "metadata": {},
     "output_type": "display_data"
    }
   ],
   "source": [
    "from keras import Model\n",
    "from models.naive_dnn_gen.naive_dnn import naive_dnn, naive_dnn_augmentation, naive_dnn_pre_process\n",
    "\n",
    "model_inputs, model_outputs = naive_dnn(hp.image_size)\n",
    "augmentation_inputs, augmentation_outputs = naive_dnn_augmentation(hp.image_size, random_flip=[True, True])\n",
    "\n",
    "pre_naive_inputs, pre_naive_outputs = naive_dnn_pre_process(\n",
    "    hp.image_size,  #Input size of course\n",
    "    Model(model_inputs, model_outputs),\n",
    "    Model(augmentation_inputs, augmentation_outputs)\n",
    ")\n",
    "\n",
    "pre_naive_model = Model(pre_naive_inputs, pre_naive_outputs)\n",
    "pre_naive_model.summary(expand_nested=True)"
   ],
   "metadata": {
    "collapsed": false,
    "ExecuteTime": {
     "end_time": "2024-03-06T22:45:15.121417Z",
     "start_time": "2024-03-06T22:45:14.675285Z"
    }
   },
   "id": "c9abfee307cce705",
   "execution_count": 5
  },
  {
   "cell_type": "code",
   "outputs": [
    {
     "name": "stdout",
     "output_type": "stream",
     "text": [
      "Epoch 1/100\n",
      "\u001B[1m148/148\u001B[0m \u001B[32m━━━━━━━━━━━━━━━━━━━━\u001B[0m\u001B[37m\u001B[0m \u001B[1m58s\u001B[0m 391ms/step - accuracy: 0.5359 - loss: 1.0460 - zero_one_loss_binary: 15.5347 - val_accuracy: 0.5532 - val_loss: 0.6691 - val_zero_one_loss_binary: 14.8649\n",
      "Epoch 2/100\n",
      "\u001B[1m148/148\u001B[0m \u001B[32m━━━━━━━━━━━━━━━━━━━━\u001B[0m\u001B[37m\u001B[0m \u001B[1m56s\u001B[0m 380ms/step - accuracy: 0.5767 - loss: 0.6651 - zero_one_loss_binary: 15.7986 - val_accuracy: 0.5726 - val_loss: 0.6672 - val_zero_one_loss_binary: 15.7061\n",
      "Epoch 3/100\n",
      "\u001B[1m148/148\u001B[0m \u001B[32m━━━━━━━━━━━━━━━━━━━━\u001B[0m\u001B[37m\u001B[0m \u001B[1m54s\u001B[0m 368ms/step - accuracy: 0.5978 - loss: 0.6503 - zero_one_loss_binary: 15.5352 - val_accuracy: 0.5836 - val_loss: 0.6691 - val_zero_one_loss_binary: 16.4392\n",
      "Epoch 4/100\n",
      "\u001B[1m148/148\u001B[0m \u001B[32m━━━━━━━━━━━━━━━━━━━━\u001B[0m\u001B[37m\u001B[0m \u001B[1m55s\u001B[0m 375ms/step - accuracy: 0.6229 - loss: 0.6447 - zero_one_loss_binary: 15.6470 - val_accuracy: 0.6503 - val_loss: 0.6381 - val_zero_one_loss_binary: 15.6402\n",
      "Epoch 5/100\n",
      "\u001B[1m148/148\u001B[0m \u001B[32m━━━━━━━━━━━━━━━━━━━━\u001B[0m\u001B[37m\u001B[0m \u001B[1m58s\u001B[0m 390ms/step - accuracy: 0.6277 - loss: 0.6337 - zero_one_loss_binary: 15.7088 - val_accuracy: 0.6275 - val_loss: 0.6368 - val_zero_one_loss_binary: 15.3361\n",
      "Epoch 6/100\n",
      "\u001B[1m148/148\u001B[0m \u001B[32m━━━━━━━━━━━━━━━━━━━━\u001B[0m\u001B[37m\u001B[0m \u001B[1m58s\u001B[0m 393ms/step - accuracy: 0.6446 - loss: 0.6243 - zero_one_loss_binary: 15.6015 - val_accuracy: 0.6512 - val_loss: 0.6263 - val_zero_one_loss_binary: 15.6233\n",
      "Epoch 7/100\n",
      "\u001B[1m 73/148\u001B[0m \u001B[32m━━━━━━━━━\u001B[0m\u001B[37m━━━━━━━━━━━\u001B[0m \u001B[1m23s\u001B[0m 319ms/step - accuracy: 0.6333 - loss: 0.6271 - zero_one_loss_binary: 15.5874"
     ]
    }
   ],
   "source": [
    "from torch.utils.data import DataLoader\n",
    "from models.zero_one_validation_loss import zero_one_loss_binary\n",
    "\n",
    "import keras\n",
    "\n",
    "train_dataloader = DataLoader(dataset=train_dataset, batch_size=hp.batch_size, shuffle=True)\n",
    "validation_dataloader = DataLoader(dataset=validation_dataset, batch_size=hp.batch_size, shuffle=True)\n",
    "\n",
    "pre_naive_model.compile(optimizer=keras.optimizers.SGD(learning_rate=hp.learning_rate, momentum=0.5),\n",
    "                        metrics=['accuracy', zero_one_loss_binary], loss=keras.losses.BinaryCrossentropy())\n",
    "\n",
    "history = pre_naive_model.fit(train_dataloader, validation_data=validation_dataloader, epochs=hp.n_epochs, callbacks=[\n",
    "    # To avoid keep going\n",
    "    keras.callbacks.EarlyStopping(monitor='val_loss', patience=10, restore_best_weights=True),\n",
    "])\n",
    "# Prolly too much noise\n",
    "pre_naive_model.save(f\"compiled_model_{hp.version}.keras\")"
   ],
   "metadata": {
    "collapsed": false,
    "is_executing": true,
    "ExecuteTime": {
     "start_time": "2024-03-06T22:45:16.791367Z"
    }
   },
   "id": "9ddbba7df09d515b",
   "execution_count": null
  },
  {
   "cell_type": "code",
   "outputs": [],
   "source": [],
   "metadata": {
    "collapsed": false
   },
   "id": "e064c7c40f37bbb2"
  }
 ],
 "metadata": {
  "kernelspec": {
   "display_name": "Python 3",
   "language": "python",
   "name": "python3"
  },
  "language_info": {
   "codemirror_mode": {
    "name": "ipython",
    "version": 2
   },
   "file_extension": ".py",
   "mimetype": "text/x-python",
   "name": "python",
   "nbconvert_exporter": "python",
   "pygments_lexer": "ipython2",
   "version": "2.7.6"
  }
 },
 "nbformat": 4,
 "nbformat_minor": 5
}
