{
 "cells": [
  {
   "metadata": {
    "ExecuteTime": {
     "end_time": "2024-04-18T16:27:14.433864Z",
     "start_time": "2024-04-18T16:27:14.431386Z"
    }
   },
   "cell_type": "code",
   "source": [
    "import os\n",
    "\n",
    "# Why Torch? You'll find the answer in the .md files! \n",
    "os.environ[\"KERAS_BACKEND\"] = \"torch\"\n",
    "\n",
    "import keras\n",
    "import keras_tuner\n",
    "from k_fold_cv.k_fold_generator import KFoldController\n",
    "from utils.dataset_loader import dataset_loader\n",
    "import keras_tuner\n",
    "from k_fold_cv.k_fold_generator import KFoldController\n",
    "from utils.dataset_loader import dataset_loader\n",
    "import keras_tuner\n",
    "from torch.utils.data import DataLoader\n",
    "from torch.utils.data import DataLoader"
   ],
   "id": "ec73a1b9e66b106d",
   "execution_count": 6,
   "outputs": []
  },
  {
   "metadata": {},
   "cell_type": "code",
   "source": [
    "from utils.my_tuner import HyperBandSaveLess\n",
    "from models.tunable import Tunable\n",
    "from models.simple_cnn.simple_cnn import SimpleCnnModelFamily\n",
    "\n",
    "hyperparameters = keras_tuner.HyperParameters()\n",
    "train, test = dataset_loader((224, 224), is_grayscale=False)\n",
    "\n",
    "dataset_split_controller = KFoldController(5)\n",
    "dataset_split_controller.load_data(train)\n",
    "\n",
    "local_train, validation = dataset_split_controller.get_data_for_fold(0)\n",
    "train_dataloader = DataLoader(dataset=local_train, batch_size=16, shuffle=True)\n",
    "validation_dataloader = DataLoader(dataset=validation, batch_size=16, shuffle=True)\n",
    "\n",
    "hypermodel = SimpleCnnModelFamily()\n",
    "tunableModel = Tunable((3,224,224), hypermodel)\n",
    "\n",
    "hyperparameters.Int(\"conv_layers\", min_value=1, max_value=2) # We only want one Conv layer \n",
    "hyperparameters.Fixed(\"optimizer\", \"adam\")\n",
    "\n",
    "#todo change name it is not hyperband as we have to avoid disk usage problem\n",
    "tuner = HyperBandSaveLess(\n",
    "    tunableModel,\n",
    "    hyperparameters=hyperparameters,\n",
    "    objective='val_loss',\n",
    "    tune_new_entries=True,\n",
    "    overwrite=True,\n",
    "    directory=\"cnn_search\",\n",
    "    max_trials=50,\n",
    "    project_name=\"standard_image\"\n",
    ")\n",
    "\n",
    "tuner.search_space_summary()\n",
    "tuner.search(train_dataloader, epochs=30, validation_data=validation_dataloader,\n",
    "             callbacks=[\n",
    "                 # keras.callbacks.TensorBoard(\"/tmp/tb_logs\"),\n",
    "                 keras.callbacks.EarlyStopping(monitor='val_loss', patience=5)\n",
    "             ])"
   ],
   "id": "9eda3eb01b078434",
   "execution_count": 7,
   "outputs": []
  },
  {
   "metadata": {
    "ExecuteTime": {
     "end_time": "2024-04-18T16:10:52.403594Z",
     "start_time": "2024-04-18T16:10:52.399365Z"
    }
   },
   "cell_type": "code",
   "source": "tuner.get_best_hyperparameters()",
   "id": "457ae40c32341b3d",
   "execution_count": 3,
   "outputs": []
  },
  {
   "metadata": {
    "ExecuteTime": {
     "end_time": "2024-04-18T19:52:50.590090Z",
     "start_time": "2024-04-18T19:52:50.586861Z"
    }
   },
   "cell_type": "code",
   "source": "tuner.results_summary()",
   "id": "ff3f3e88f18ea3da",
   "execution_count": 8,
   "outputs": []
  },
  {
   "metadata": {
    "ExecuteTime": {
     "end_time": "2024-04-18T19:54:22.565645Z",
     "start_time": "2024-04-18T19:54:22.561857Z"
    }
   },
   "cell_type": "code",
   "source": [
    "tuner.get_best_hyperparameters()\n",
    "# On first 5 best hyperparameters sets"
   ],
   "id": "dfcf117f9f51fb3a",
   "execution_count": 9,
   "outputs": []
  },
  {
   "metadata": {},
   "cell_type": "code",
   "source": "",
   "id": "c29f213b85d1cf51",
   "execution_count": null,
   "outputs": []
  },
  {
   "metadata": {},
   "cell_type": "code",
   "source": [
    "from keras_tuner import HyperParameters\n",
    "\n",
    "## Lets try our best hypermodel\n",
    "hyperparameters = HyperParameters()\n",
    "hyperparameters.Fixed(\"lr\", value=1e-3)\n",
    "hyperparameters.Int(name=\"yey\", min_value=32, max_value=64)\n",
    "hyperparameters.Fixed(name=f\"kernel_0\", value=3),\n",
    "hyperparameters.Fixed(name=f\"filters_0\", value=32)\n",
    "\n",
    "hyperparameters.Fixed(name=f\"kernel_1\", value=3),\n",
    "hyperparameters.Fixed(name=f\"filters_1\", value=64)\n",
    "hyperparameters.Fixed(name=\"hidden_units\", value=64)"
   ],
   "id": "81f4cd13413f6673",
   "execution_count": null,
   "outputs": []
  },
  {
   "metadata": {},
   "cell_type": "code",
   "source": [
    "type(hyperparameters.get(\"yey\"))\n",
    "hyperparameters.Int(name=\"yey\", min_value=3, max_value=22, default=11)"
   ],
   "id": "23e4693041d4d0df",
   "execution_count": null,
   "outputs": []
  },
  {
   "metadata": {},
   "cell_type": "code",
   "source": [
    "# todo: trova l'errore. Se uso il KFOLD pare funzionare correttamrente l'apprendimento mentre con i dataset diretti no. Che sia un problema di shuffle? Che sia che i channel non sono invertiti?\n",
    "hypermodel = SimpleCNNContainer((3, 224, 224))\n",
    "\n",
    "train, test = dataset_loader((224, 224), is_grayscale=False)\n",
    "\n",
    "dataset_split_controller = KFoldController(5)\n",
    "dataset_split_controller.load_data(train)\n",
    "\n",
    "local_train, validation = dataset_split_controller.get_data_for_fold(0)\n",
    "\n",
    "train_dataloader = DataLoader(dataset=local_train, batch_size=32)\n",
    "validation_dataloader = DataLoader(dataset=validation, batch_size=32)\n",
    "\n",
    "model = hypermodel.build(hyperparameters)\n",
    "model.summary()"
   ],
   "id": "563d566dac1c0f45",
   "execution_count": null,
   "outputs": []
  },
  {
   "metadata": {},
   "cell_type": "code",
   "source": [
    "train_dataloader = DataLoader(dataset=train, batch_size=32, shuffle=True)\n",
    "validation_dataloader = DataLoader(dataset=test, batch_size=32,shuffle=True)"
   ],
   "id": "93c374212ea9f1c5",
   "execution_count": null,
   "outputs": []
  },
  {
   "metadata": {},
   "cell_type": "code",
   "source": [
    "from matplotlib import pyplot as plt\n",
    "figure = plt.figure(figsize=(8, 8))\n",
    "\n",
    "image, label = train[0]\n",
    "figure.add_subplot(1,1,image)\n",
    "plt.title(label)\n",
    "plt.axis(\"off\")\n",
    "plt.imshow(image.squeeze(), cmap=\"gray\")\n",
    "plt.show()"
   ],
   "id": "6cfea79773452af1",
   "execution_count": null,
   "outputs": []
  },
  {
   "metadata": {},
   "cell_type": "code",
   "source": [
    "i_history = model.fit(train_dataloader, epochs=100, validation_data=validation_dataloader,\n",
    "                      callbacks=[\n",
    "                          # To avoid keep going\n",
    "                          keras.callbacks.EarlyStopping(monitor='val_loss', patience=10,\n",
    "                                                        restore_best_weights=True),\n",
    "\n",
    "                          # To reduce learning rate (like Hot Stocastic bla bla)\n",
    "                          #keras.callbacks.LearningRateScheduler(\n",
    "                          #    learning_rate_reschedule.learning_rate_reschedule)\n",
    "                      ])"
   ],
   "id": "98dac739ddcd4051",
   "execution_count": null,
   "outputs": []
  },
  {
   "metadata": {},
   "cell_type": "code",
   "source": "",
   "id": "1f8ca079339e2165",
   "execution_count": null,
   "outputs": []
  }
 ],
 "metadata": {
  "kernelspec": {
   "display_name": "Python 3",
   "language": "python",
   "name": "python3"
  },
  "language_info": {
   "codemirror_mode": {
    "name": "ipython",
    "version": 2
   },
   "file_extension": ".py",
   "mimetype": "text/x-python",
   "name": "python",
   "nbconvert_exporter": "python",
   "pygments_lexer": "ipython2",
   "version": "2.7.6"
  }
 },
 "nbformat": 4,
 "nbformat_minor": 5
}
