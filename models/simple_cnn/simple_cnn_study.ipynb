{
 "cells": [
  {
   "cell_type": "code",
   "execution_count": 1,
   "id": "initial_id",
   "metadata": {
    "collapsed": true
   },
   "outputs": [
    {
     "name": "stdout",
     "output_type": "stream",
     "text": [
      "Trial 31 Complete [00h 00m 46s]\n",
      "\n",
      "Best val_loss So Far: 0.5786980390548706\n",
      "Total elapsed time: 00h 45m 17s\n",
      "\n",
      "Search: Running Trial #32\n",
      "\n",
      "Value             |Best Value So Far |Hyperparameter\n",
      "0.001             |0.001             |lr\n",
      "4                 |4                 |kernel_0\n",
      "64                |64                |filters_0\n",
      "False             |False             |second_conv_layer\n",
      "3                 |3                 |kernel_1\n",
      "48                |48                |filters_1\n",
      "96                |32                |hidden_units\n",
      "2                 |2                 |tuner/epochs\n",
      "0                 |0                 |tuner/initial_epoch\n",
      "4                 |4                 |tuner/bracket\n",
      "0                 |0                 |tuner/round\n",
      "Epoch 1/2\n",
      "\u001B[1m119/119\u001B[0m \u001B[32m━━━━━━━━━━━━━━━━━━━━\u001B[0m\u001B[37m\u001B[0m \u001B[1m0s\u001B[0m 316ms/step - accuracy: 0.5576 - loss: 0.6815"
     ]
    },
    {
     "name": "stderr",
     "output_type": "stream",
     "text": [
      "Traceback (most recent call last):\n",
      "  File \"/home/jacopo/miniconda3/envs/keras-pytorch/lib/python3.12/site-packages/keras_tuner/src/engine/base_tuner.py\", line 274, in _try_run_and_update_trial\n",
      "    self._run_and_update_trial(trial, *fit_args, **fit_kwargs)\n",
      "  File \"/home/jacopo/miniconda3/envs/keras-pytorch/lib/python3.12/site-packages/keras_tuner/src/engine/base_tuner.py\", line 239, in _run_and_update_trial\n",
      "    results = self.run_trial(trial, *fit_args, **fit_kwargs)\n",
      "              ^^^^^^^^^^^^^^^^^^^^^^^^^^^^^^^^^^^^^^^^^^^^^^\n",
      "  File \"/home/jacopo/miniconda3/envs/keras-pytorch/lib/python3.12/site-packages/keras_tuner/src/tuners/hyperband.py\", line 427, in run_trial\n",
      "    return super().run_trial(trial, *fit_args, **fit_kwargs)\n",
      "           ^^^^^^^^^^^^^^^^^^^^^^^^^^^^^^^^^^^^^^^^^^^^^^^^^\n",
      "  File \"/home/jacopo/miniconda3/envs/keras-pytorch/lib/python3.12/site-packages/keras_tuner/src/engine/tuner.py\", line 314, in run_trial\n",
      "    obj_value = self._build_and_fit_model(trial, *args, **copied_kwargs)\n",
      "                ^^^^^^^^^^^^^^^^^^^^^^^^^^^^^^^^^^^^^^^^^^^^^^^^^^^^^^^^\n",
      "  File \"/home/jacopo/miniconda3/envs/keras-pytorch/lib/python3.12/site-packages/keras_tuner/src/engine/tuner.py\", line 233, in _build_and_fit_model\n",
      "    results = self.hypermodel.fit(hp, model, *args, **kwargs)\n",
      "              ^^^^^^^^^^^^^^^^^^^^^^^^^^^^^^^^^^^^^^^^^^^^^^^\n",
      "  File \"/home/jacopo/miniconda3/envs/keras-pytorch/lib/python3.12/site-packages/keras_tuner/src/engine/hypermodel.py\", line 149, in fit\n",
      "    return model.fit(*args, **kwargs)\n",
      "           ^^^^^^^^^^^^^^^^^^^^^^^^^^\n",
      "  File \"/home/jacopo/miniconda3/envs/keras-pytorch/lib/python3.12/site-packages/keras/src/utils/traceback_utils.py\", line 123, in error_handler\n",
      "    raise e.with_traceback(filtered_tb) from None\n",
      "  File \"/home/jacopo/miniconda3/envs/keras-pytorch/lib/python3.12/site-packages/keras_tuner/src/engine/tuner_utils.py\", line 76, in on_epoch_end\n",
      "    self._save_model()\n",
      "  File \"/home/jacopo/miniconda3/envs/keras-pytorch/lib/python3.12/site-packages/keras_tuner/src/engine/tuner_utils.py\", line 80, in _save_model\n",
      "    self.model.save_weights(self.filepath)\n",
      "  File \"/home/jacopo/miniconda3/envs/keras-pytorch/lib/python3.12/site-packages/h5py/_hl/group.py\", line 483, in __setitem__\n",
      "    ds = self.create_dataset(None, data=obj)\n",
      "         ^^^^^^^^^^^^^^^^^^^^^^^^^^^^^^^^^^^\n",
      "  File \"/home/jacopo/miniconda3/envs/keras-pytorch/lib/python3.12/site-packages/h5py/_hl/group.py\", line 183, in create_dataset\n",
      "    dsid = dataset.make_new_dset(group, shape, dtype, data, name, **kwds)\n",
      "           ^^^^^^^^^^^^^^^^^^^^^^^^^^^^^^^^^^^^^^^^^^^^^^^^^^^^^^^^^^^^^^\n",
      "  File \"/home/jacopo/miniconda3/envs/keras-pytorch/lib/python3.12/site-packages/h5py/_hl/dataset.py\", line 166, in make_new_dset\n",
      "    dset_id.write(h5s.ALL, h5s.ALL, data)\n",
      "  File \"h5py/_objects.pyx\", line 54, in h5py._objects.with_phil.wrapper\n",
      "  File \"h5py/_objects.pyx\", line 55, in h5py._objects.with_phil.wrapper\n",
      "  File \"h5py/h5d.pyx\", line 282, in h5py.h5d.DatasetID.write\n",
      "  File \"h5py/_proxy.pyx\", line 115, in h5py._proxy.dset_rw\n",
      "OSError: [Errno 28] Can't synchronously write data (file write failed: time = Mon Apr 15 19:32:24 2024\n",
      ", filename = 'naive_dnn_search/grayscale_fixed_lr/trial_0031/checkpoint.weights.h5', file descriptor = 88, errno = 28, error message = 'No space left on device', buf = 0x7989af2f4680, total write size = 282110352, bytes this sub-write = 282110352, bytes actually written = 18446744073709551615, offset = 0)\n"
     ]
    },
    {
     "ename": "RuntimeError",
     "evalue": "Number of consecutive failures exceeded the limit of 3.\nTraceback (most recent call last):\n  File \"/home/jacopo/miniconda3/envs/keras-pytorch/lib/python3.12/site-packages/keras_tuner/src/engine/base_tuner.py\", line 274, in _try_run_and_update_trial\n    self._run_and_update_trial(trial, *fit_args, **fit_kwargs)\n  File \"/home/jacopo/miniconda3/envs/keras-pytorch/lib/python3.12/site-packages/keras_tuner/src/engine/base_tuner.py\", line 239, in _run_and_update_trial\n    results = self.run_trial(trial, *fit_args, **fit_kwargs)\n              ^^^^^^^^^^^^^^^^^^^^^^^^^^^^^^^^^^^^^^^^^^^^^^\n  File \"/home/jacopo/miniconda3/envs/keras-pytorch/lib/python3.12/site-packages/keras_tuner/src/tuners/hyperband.py\", line 427, in run_trial\n    return super().run_trial(trial, *fit_args, **fit_kwargs)\n           ^^^^^^^^^^^^^^^^^^^^^^^^^^^^^^^^^^^^^^^^^^^^^^^^^\n  File \"/home/jacopo/miniconda3/envs/keras-pytorch/lib/python3.12/site-packages/keras_tuner/src/engine/tuner.py\", line 314, in run_trial\n    obj_value = self._build_and_fit_model(trial, *args, **copied_kwargs)\n                ^^^^^^^^^^^^^^^^^^^^^^^^^^^^^^^^^^^^^^^^^^^^^^^^^^^^^^^^\n  File \"/home/jacopo/miniconda3/envs/keras-pytorch/lib/python3.12/site-packages/keras_tuner/src/engine/tuner.py\", line 233, in _build_and_fit_model\n    results = self.hypermodel.fit(hp, model, *args, **kwargs)\n              ^^^^^^^^^^^^^^^^^^^^^^^^^^^^^^^^^^^^^^^^^^^^^^^\n  File \"/home/jacopo/miniconda3/envs/keras-pytorch/lib/python3.12/site-packages/keras_tuner/src/engine/hypermodel.py\", line 149, in fit\n    return model.fit(*args, **kwargs)\n           ^^^^^^^^^^^^^^^^^^^^^^^^^^\n  File \"/home/jacopo/miniconda3/envs/keras-pytorch/lib/python3.12/site-packages/keras/src/utils/traceback_utils.py\", line 123, in error_handler\n    raise e.with_traceback(filtered_tb) from None\n  File \"/home/jacopo/miniconda3/envs/keras-pytorch/lib/python3.12/site-packages/keras_tuner/src/engine/tuner_utils.py\", line 76, in on_epoch_end\n    self._save_model()\n  File \"/home/jacopo/miniconda3/envs/keras-pytorch/lib/python3.12/site-packages/keras_tuner/src/engine/tuner_utils.py\", line 80, in _save_model\n    self.model.save_weights(self.filepath)\n  File \"/home/jacopo/miniconda3/envs/keras-pytorch/lib/python3.12/site-packages/h5py/_hl/group.py\", line 483, in __setitem__\n    ds = self.create_dataset(None, data=obj)\n         ^^^^^^^^^^^^^^^^^^^^^^^^^^^^^^^^^^^\n  File \"/home/jacopo/miniconda3/envs/keras-pytorch/lib/python3.12/site-packages/h5py/_hl/group.py\", line 183, in create_dataset\n    dsid = dataset.make_new_dset(group, shape, dtype, data, name, **kwds)\n           ^^^^^^^^^^^^^^^^^^^^^^^^^^^^^^^^^^^^^^^^^^^^^^^^^^^^^^^^^^^^^^\n  File \"/home/jacopo/miniconda3/envs/keras-pytorch/lib/python3.12/site-packages/h5py/_hl/dataset.py\", line 166, in make_new_dset\n    dset_id.write(h5s.ALL, h5s.ALL, data)\n  File \"h5py/_objects.pyx\", line 54, in h5py._objects.with_phil.wrapper\n  File \"h5py/_objects.pyx\", line 55, in h5py._objects.with_phil.wrapper\n  File \"h5py/h5d.pyx\", line 282, in h5py.h5d.DatasetID.write\n  File \"h5py/_proxy.pyx\", line 115, in h5py._proxy.dset_rw\nOSError: [Errno 28] Can't synchronously write data (file write failed: time = Mon Apr 15 19:32:24 2024\n, filename = 'naive_dnn_search/grayscale_fixed_lr/trial_0031/checkpoint.weights.h5', file descriptor = 88, errno = 28, error message = 'No space left on device', buf = 0x7989af2f4680, total write size = 282110352, bytes this sub-write = 282110352, bytes actually written = 18446744073709551615, offset = 0)\n",
     "output_type": "error",
     "traceback": [
      "\u001B[0;31m---------------------------------------------------------------------------\u001B[0m",
      "\u001B[0;31mRuntimeError\u001B[0m                              Traceback (most recent call last)",
      "Cell \u001B[0;32mIn[1], line 44\u001B[0m\n\u001B[1;32m     32\u001B[0m tuner \u001B[38;5;241m=\u001B[39m keras_tuner\u001B[38;5;241m.\u001B[39mHyperband(\n\u001B[1;32m     33\u001B[0m     hypermodel,\n\u001B[1;32m     34\u001B[0m     hyperparameters\u001B[38;5;241m=\u001B[39mhyperparameters,\n\u001B[0;32m   (...)\u001B[0m\n\u001B[1;32m     40\u001B[0m     project_name\u001B[38;5;241m=\u001B[39m\u001B[38;5;124m\"\u001B[39m\u001B[38;5;124mgrayscale_fixed_lr\u001B[39m\u001B[38;5;124m\"\u001B[39m \u001B[38;5;66;03m# should be highest possible\u001B[39;00m\n\u001B[1;32m     41\u001B[0m )\n\u001B[1;32m     43\u001B[0m tuner\u001B[38;5;241m.\u001B[39msearch_space_summary()\n\u001B[0;32m---> 44\u001B[0m \u001B[43mtuner\u001B[49m\u001B[38;5;241;43m.\u001B[39;49m\u001B[43msearch\u001B[49m\u001B[43m(\u001B[49m\u001B[43mtrain_dataloader\u001B[49m\u001B[43m,\u001B[49m\u001B[43m \u001B[49m\u001B[43mepochs\u001B[49m\u001B[38;5;241;43m=\u001B[39;49m\u001B[38;5;241;43m30\u001B[39;49m\u001B[43m,\u001B[49m\u001B[43m \u001B[49m\u001B[43mvalidation_data\u001B[49m\u001B[38;5;241;43m=\u001B[39;49m\u001B[43mvalidation_dataloader\u001B[49m\u001B[43m,\u001B[49m\n\u001B[1;32m     45\u001B[0m \u001B[43m             \u001B[49m\u001B[43mcallbacks\u001B[49m\u001B[38;5;241;43m=\u001B[39;49m\u001B[43m[\u001B[49m\n\u001B[1;32m     46\u001B[0m \u001B[43m                 \u001B[49m\u001B[38;5;66;43;03m# keras.callbacks.TensorBoard(\"/tmp/tb_logs\"),\u001B[39;49;00m\n\u001B[1;32m     47\u001B[0m \u001B[43m                 \u001B[49m\u001B[43mkeras\u001B[49m\u001B[38;5;241;43m.\u001B[39;49m\u001B[43mcallbacks\u001B[49m\u001B[38;5;241;43m.\u001B[39;49m\u001B[43mEarlyStopping\u001B[49m\u001B[43m(\u001B[49m\u001B[43mmonitor\u001B[49m\u001B[38;5;241;43m=\u001B[39;49m\u001B[38;5;124;43m'\u001B[39;49m\u001B[38;5;124;43mval_loss\u001B[39;49m\u001B[38;5;124;43m'\u001B[39;49m\u001B[43m,\u001B[49m\u001B[43m \u001B[49m\u001B[43mpatience\u001B[49m\u001B[38;5;241;43m=\u001B[39;49m\u001B[38;5;241;43m4\u001B[39;49m\u001B[43m)\u001B[49m\n\u001B[1;32m     48\u001B[0m \u001B[43m             \u001B[49m\u001B[43m]\u001B[49m\u001B[43m)\u001B[49m\n",
      "File \u001B[0;32m~/miniconda3/envs/keras-pytorch/lib/python3.12/site-packages/keras_tuner/src/engine/base_tuner.py:235\u001B[0m, in \u001B[0;36mBaseTuner.search\u001B[0;34m(self, *fit_args, **fit_kwargs)\u001B[0m\n\u001B[1;32m    233\u001B[0m     \u001B[38;5;28mself\u001B[39m\u001B[38;5;241m.\u001B[39mon_trial_begin(trial)\n\u001B[1;32m    234\u001B[0m     \u001B[38;5;28mself\u001B[39m\u001B[38;5;241m.\u001B[39m_try_run_and_update_trial(trial, \u001B[38;5;241m*\u001B[39mfit_args, \u001B[38;5;241m*\u001B[39m\u001B[38;5;241m*\u001B[39mfit_kwargs)\n\u001B[0;32m--> 235\u001B[0m     \u001B[38;5;28;43mself\u001B[39;49m\u001B[38;5;241;43m.\u001B[39;49m\u001B[43mon_trial_end\u001B[49m\u001B[43m(\u001B[49m\u001B[43mtrial\u001B[49m\u001B[43m)\u001B[49m\n\u001B[1;32m    236\u001B[0m \u001B[38;5;28mself\u001B[39m\u001B[38;5;241m.\u001B[39mon_search_end()\n",
      "File \u001B[0;32m~/miniconda3/envs/keras-pytorch/lib/python3.12/site-packages/keras_tuner/src/engine/base_tuner.py:339\u001B[0m, in \u001B[0;36mBaseTuner.on_trial_end\u001B[0;34m(self, trial)\u001B[0m\n\u001B[1;32m    333\u001B[0m \u001B[38;5;28;01mdef\u001B[39;00m \u001B[38;5;21mon_trial_end\u001B[39m(\u001B[38;5;28mself\u001B[39m, trial):\n\u001B[1;32m    334\u001B[0m \u001B[38;5;250m    \u001B[39m\u001B[38;5;124;03m\"\"\"Called at the end of a trial.\u001B[39;00m\n\u001B[1;32m    335\u001B[0m \n\u001B[1;32m    336\u001B[0m \u001B[38;5;124;03m    Args:\u001B[39;00m\n\u001B[1;32m    337\u001B[0m \u001B[38;5;124;03m        trial: A `Trial` instance.\u001B[39;00m\n\u001B[1;32m    338\u001B[0m \u001B[38;5;124;03m    \"\"\"\u001B[39;00m\n\u001B[0;32m--> 339\u001B[0m     \u001B[38;5;28;43mself\u001B[39;49m\u001B[38;5;241;43m.\u001B[39;49m\u001B[43moracle\u001B[49m\u001B[38;5;241;43m.\u001B[39;49m\u001B[43mend_trial\u001B[49m\u001B[43m(\u001B[49m\u001B[43mtrial\u001B[49m\u001B[43m)\u001B[49m\n\u001B[1;32m    340\u001B[0m     \u001B[38;5;28mself\u001B[39m\u001B[38;5;241m.\u001B[39msave()\n",
      "File \u001B[0;32m~/miniconda3/envs/keras-pytorch/lib/python3.12/site-packages/keras_tuner/src/engine/oracle.py:108\u001B[0m, in \u001B[0;36msynchronized.<locals>.wrapped_func\u001B[0;34m(*args, **kwargs)\u001B[0m\n\u001B[1;32m    106\u001B[0m     LOCKS[oracle]\u001B[38;5;241m.\u001B[39macquire()\n\u001B[1;32m    107\u001B[0m     THREADS[oracle] \u001B[38;5;241m=\u001B[39m thread_name\n\u001B[0;32m--> 108\u001B[0m ret_val \u001B[38;5;241m=\u001B[39m \u001B[43mfunc\u001B[49m\u001B[43m(\u001B[49m\u001B[38;5;241;43m*\u001B[39;49m\u001B[43margs\u001B[49m\u001B[43m,\u001B[49m\u001B[43m \u001B[49m\u001B[38;5;241;43m*\u001B[39;49m\u001B[38;5;241;43m*\u001B[39;49m\u001B[43mkwargs\u001B[49m\u001B[43m)\u001B[49m\n\u001B[1;32m    109\u001B[0m \u001B[38;5;28;01mif\u001B[39;00m need_acquire:\n\u001B[1;32m    110\u001B[0m     THREADS[oracle] \u001B[38;5;241m=\u001B[39m \u001B[38;5;28;01mNone\u001B[39;00m\n",
      "File \u001B[0;32m~/miniconda3/envs/keras-pytorch/lib/python3.12/site-packages/keras_tuner/src/engine/oracle.py:588\u001B[0m, in \u001B[0;36mOracle.end_trial\u001B[0;34m(self, trial)\u001B[0m\n\u001B[1;32m    586\u001B[0m \u001B[38;5;28;01mif\u001B[39;00m \u001B[38;5;129;01mnot\u001B[39;00m \u001B[38;5;28mself\u001B[39m\u001B[38;5;241m.\u001B[39m_retry(trial):\n\u001B[1;32m    587\u001B[0m     \u001B[38;5;28mself\u001B[39m\u001B[38;5;241m.\u001B[39mend_order\u001B[38;5;241m.\u001B[39mappend(trial\u001B[38;5;241m.\u001B[39mtrial_id)\n\u001B[0;32m--> 588\u001B[0m     \u001B[38;5;28;43mself\u001B[39;49m\u001B[38;5;241;43m.\u001B[39;49m\u001B[43m_check_consecutive_failures\u001B[49m\u001B[43m(\u001B[49m\u001B[43m)\u001B[49m\n\u001B[1;32m    590\u001B[0m \u001B[38;5;28mself\u001B[39m\u001B[38;5;241m.\u001B[39m_save_trial(trial)\n\u001B[1;32m    591\u001B[0m \u001B[38;5;28mself\u001B[39m\u001B[38;5;241m.\u001B[39msave()\n",
      "File \u001B[0;32m~/miniconda3/envs/keras-pytorch/lib/python3.12/site-packages/keras_tuner/src/engine/oracle.py:545\u001B[0m, in \u001B[0;36mOracle._check_consecutive_failures\u001B[0;34m(self)\u001B[0m\n\u001B[1;32m    543\u001B[0m     consecutive_failures \u001B[38;5;241m=\u001B[39m \u001B[38;5;241m0\u001B[39m\n\u001B[1;32m    544\u001B[0m \u001B[38;5;28;01mif\u001B[39;00m consecutive_failures \u001B[38;5;241m==\u001B[39m \u001B[38;5;28mself\u001B[39m\u001B[38;5;241m.\u001B[39mmax_consecutive_failed_trials:\n\u001B[0;32m--> 545\u001B[0m     \u001B[38;5;28;01mraise\u001B[39;00m \u001B[38;5;167;01mRuntimeError\u001B[39;00m(\n\u001B[1;32m    546\u001B[0m         \u001B[38;5;124m\"\u001B[39m\u001B[38;5;124mNumber of consecutive failures exceeded the limit \u001B[39m\u001B[38;5;124m\"\u001B[39m\n\u001B[1;32m    547\u001B[0m         \u001B[38;5;124mf\u001B[39m\u001B[38;5;124m\"\u001B[39m\u001B[38;5;124mof \u001B[39m\u001B[38;5;132;01m{\u001B[39;00m\u001B[38;5;28mself\u001B[39m\u001B[38;5;241m.\u001B[39mmax_consecutive_failed_trials\u001B[38;5;132;01m}\u001B[39;00m\u001B[38;5;124m.\u001B[39m\u001B[38;5;130;01m\\n\u001B[39;00m\u001B[38;5;124m\"\u001B[39m\n\u001B[1;32m    548\u001B[0m         \u001B[38;5;241m+\u001B[39m (trial\u001B[38;5;241m.\u001B[39mmessage \u001B[38;5;129;01mor\u001B[39;00m \u001B[38;5;124m\"\u001B[39m\u001B[38;5;124m\"\u001B[39m)\n\u001B[1;32m    549\u001B[0m     )\n",
      "\u001B[0;31mRuntimeError\u001B[0m: Number of consecutive failures exceeded the limit of 3.\nTraceback (most recent call last):\n  File \"/home/jacopo/miniconda3/envs/keras-pytorch/lib/python3.12/site-packages/keras_tuner/src/engine/base_tuner.py\", line 274, in _try_run_and_update_trial\n    self._run_and_update_trial(trial, *fit_args, **fit_kwargs)\n  File \"/home/jacopo/miniconda3/envs/keras-pytorch/lib/python3.12/site-packages/keras_tuner/src/engine/base_tuner.py\", line 239, in _run_and_update_trial\n    results = self.run_trial(trial, *fit_args, **fit_kwargs)\n              ^^^^^^^^^^^^^^^^^^^^^^^^^^^^^^^^^^^^^^^^^^^^^^\n  File \"/home/jacopo/miniconda3/envs/keras-pytorch/lib/python3.12/site-packages/keras_tuner/src/tuners/hyperband.py\", line 427, in run_trial\n    return super().run_trial(trial, *fit_args, **fit_kwargs)\n           ^^^^^^^^^^^^^^^^^^^^^^^^^^^^^^^^^^^^^^^^^^^^^^^^^\n  File \"/home/jacopo/miniconda3/envs/keras-pytorch/lib/python3.12/site-packages/keras_tuner/src/engine/tuner.py\", line 314, in run_trial\n    obj_value = self._build_and_fit_model(trial, *args, **copied_kwargs)\n                ^^^^^^^^^^^^^^^^^^^^^^^^^^^^^^^^^^^^^^^^^^^^^^^^^^^^^^^^\n  File \"/home/jacopo/miniconda3/envs/keras-pytorch/lib/python3.12/site-packages/keras_tuner/src/engine/tuner.py\", line 233, in _build_and_fit_model\n    results = self.hypermodel.fit(hp, model, *args, **kwargs)\n              ^^^^^^^^^^^^^^^^^^^^^^^^^^^^^^^^^^^^^^^^^^^^^^^\n  File \"/home/jacopo/miniconda3/envs/keras-pytorch/lib/python3.12/site-packages/keras_tuner/src/engine/hypermodel.py\", line 149, in fit\n    return model.fit(*args, **kwargs)\n           ^^^^^^^^^^^^^^^^^^^^^^^^^^\n  File \"/home/jacopo/miniconda3/envs/keras-pytorch/lib/python3.12/site-packages/keras/src/utils/traceback_utils.py\", line 123, in error_handler\n    raise e.with_traceback(filtered_tb) from None\n  File \"/home/jacopo/miniconda3/envs/keras-pytorch/lib/python3.12/site-packages/keras_tuner/src/engine/tuner_utils.py\", line 76, in on_epoch_end\n    self._save_model()\n  File \"/home/jacopo/miniconda3/envs/keras-pytorch/lib/python3.12/site-packages/keras_tuner/src/engine/tuner_utils.py\", line 80, in _save_model\n    self.model.save_weights(self.filepath)\n  File \"/home/jacopo/miniconda3/envs/keras-pytorch/lib/python3.12/site-packages/h5py/_hl/group.py\", line 483, in __setitem__\n    ds = self.create_dataset(None, data=obj)\n         ^^^^^^^^^^^^^^^^^^^^^^^^^^^^^^^^^^^\n  File \"/home/jacopo/miniconda3/envs/keras-pytorch/lib/python3.12/site-packages/h5py/_hl/group.py\", line 183, in create_dataset\n    dsid = dataset.make_new_dset(group, shape, dtype, data, name, **kwds)\n           ^^^^^^^^^^^^^^^^^^^^^^^^^^^^^^^^^^^^^^^^^^^^^^^^^^^^^^^^^^^^^^\n  File \"/home/jacopo/miniconda3/envs/keras-pytorch/lib/python3.12/site-packages/h5py/_hl/dataset.py\", line 166, in make_new_dset\n    dset_id.write(h5s.ALL, h5s.ALL, data)\n  File \"h5py/_objects.pyx\", line 54, in h5py._objects.with_phil.wrapper\n  File \"h5py/_objects.pyx\", line 55, in h5py._objects.with_phil.wrapper\n  File \"h5py/h5d.pyx\", line 282, in h5py.h5d.DatasetID.write\n  File \"h5py/_proxy.pyx\", line 115, in h5py._proxy.dset_rw\nOSError: [Errno 28] Can't synchronously write data (file write failed: time = Mon Apr 15 19:32:24 2024\n, filename = 'naive_dnn_search/grayscale_fixed_lr/trial_0031/checkpoint.weights.h5', file descriptor = 88, errno = 28, error message = 'No space left on device', buf = 0x7989af2f4680, total write size = 282110352, bytes this sub-write = 282110352, bytes actually written = 18446744073709551615, offset = 0)\n"
     ]
    }
   ],
   "source": [
    "import os\n",
    "\n",
    "# Why Torch? You'll find the answer in the .md files! \n",
    "os.environ[\"KERAS_BACKEND\"] = \"torch\"\n",
    "\n",
    "import keras\n",
    "from models.simple_cnn.simple_cnn import SimpleCNNContainer\n",
    "import keras_tuner\n",
    "from k_fold_cv.k_fold_generator import KFoldController\n",
    "from utils.dataset_loader import dataset_loader\n",
    "\n",
    "from torch.utils.data import DataLoader\n",
    "## Let's try Grayscale\n",
    "hyperparameters = keras_tuner.HyperParameters()\n",
    "train, test = dataset_loader((224, 224), is_grayscale=False)\n",
    "\n",
    "# todo change name of KFoldController and also check it is shuffled\n",
    "# I am using the KFoldController class to simply get 20% of the dataset as a validation fold. I won't do any\n",
    "# k-Fold CV on the parameters search or else this will take forever\n",
    "dataset_split_controller = KFoldController(5)\n",
    "dataset_split_controller.load_data(train)\n",
    "\n",
    "local_train, validation = dataset_split_controller.get_data_for_fold(0)\n",
    "\n",
    "train_dataloader = DataLoader(dataset=local_train, batch_size=32)\n",
    "validation_dataloader = DataLoader(dataset=validation, batch_size=32)\n",
    "hypermodel = SimpleCNNContainer((3, 224, 224))\n",
    "# We are learning the structure of the network with fixed parameters for learning.\n",
    "# As we know hyperparamters of NN are: Neurons, Layers, Optimizer, Learning-Rate, Epochs, Batch size etc\n",
    "hyperparameters.Fixed(\"lr\", value=1e-3)\n",
    "\n",
    "\n",
    "## TODO VEDI QUESTI PARAMETERI https://keras.io/api/keras_tuner/tuners/base_tuner/#tuner-class\n",
    "tuner = keras_tuner.Hyperband(\n",
    "    hypermodel,\n",
    "    hyperparameters=hyperparameters,\n",
    "    hyperband_iterations=3,\n",
    "    objective='val_loss',\n",
    "    tune_new_entries=True,\n",
    "    overwrite=True,\n",
    "    directory=\"naive_dnn_search\",\n",
    "    project_name=\"grayscale_fixed_lr\" # should be highest possible\n",
    ")\n",
    "\n",
    "tuner.search_space_summary()\n",
    "tuner.search(train_dataloader, epochs=30, validation_data=validation_dataloader,\n",
    "             callbacks=[\n",
    "                 # keras.callbacks.TensorBoard(\"/tmp/tb_logs\"),\n",
    "                 keras.callbacks.EarlyStopping(monitor='val_loss', patience=4)\n",
    "             ])"
   ]
  },
  {
   "cell_type": "code",
   "outputs": [],
   "source": [
    "local_train.cumsum(dim=0)"
   ],
   "metadata": {
    "collapsed": false
   },
   "id": "f5cced82dac8b35"
  },
  {
   "cell_type": "code",
   "outputs": [],
   "source": [
    "len(local_train)"
   ],
   "metadata": {
    "collapsed": false
   },
   "id": "ba94fdabfc91d1a3"
  },
  {
   "cell_type": "code",
   "outputs": [
    {
     "data": {
      "text/plain": "[<keras_tuner.src.engine.hyperparameters.hyperparameters.HyperParameters at 0x798a6965d400>]"
     },
     "execution_count": 2,
     "metadata": {},
     "output_type": "execute_result"
    }
   ],
   "source": [
    "tuner.get_best_hyperparameters()"
   ],
   "metadata": {
    "collapsed": false,
    "ExecuteTime": {
     "end_time": "2024-04-15T17:37:06.340502Z",
     "start_time": "2024-04-15T17:37:06.336766Z"
    }
   },
   "id": "9361a4878196f53a",
   "execution_count": 2
  },
  {
   "cell_type": "code",
   "outputs": [],
   "source": [],
   "metadata": {
    "collapsed": false
   },
   "id": "686cad57d2d3291"
  }
 ],
 "metadata": {
  "kernelspec": {
   "display_name": "Python 3",
   "language": "python",
   "name": "python3"
  },
  "language_info": {
   "codemirror_mode": {
    "name": "ipython",
    "version": 2
   },
   "file_extension": ".py",
   "mimetype": "text/x-python",
   "name": "python",
   "nbconvert_exporter": "python",
   "pygments_lexer": "ipython2",
   "version": "2.7.6"
  }
 },
 "nbformat": 4,
 "nbformat_minor": 5
}
