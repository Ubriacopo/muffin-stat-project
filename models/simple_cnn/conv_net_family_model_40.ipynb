{
 "cells": [
  {
   "cell_type": "code",
   "id": "initial_id",
   "metadata": {
    "collapsed": true,
    "ExecuteTime": {
     "end_time": "2024-05-11T14:35:00.569802Z",
     "start_time": "2024-05-11T14:35:00.553194Z"
    }
   },
   "source": [
    "import torch\n",
    "from torch.utils.data import DataLoader\n",
    "from dataset.k_fold_dataset_wrapper import KFoldDatasetWrapper\n",
    "from dataset.dataset_loader import dataset_loader\n",
    "import keras_tuner\n",
    "\n",
    "# Search for best hyperparameters for model 4 and 8: Batch size, and SGD params\n",
    "\n",
    "# Initial steps\n",
    "hyperparameters = keras_tuner.HyperParameters()\n",
    "train, test = dataset_loader((224, 224), is_grayscale=False)\n",
    "dataset_split_controller = KFoldDatasetWrapper(5)\n",
    "dataset_split_controller.load_data(train)\n",
    "\n",
    "# No batch size is fixed\n",
    "local_train, validation = dataset_split_controller.get_data_for_fold(0)\n",
    "train_dataloader = DataLoader(dataset=local_train, shuffle=True)\n",
    "validation_dataloader = DataLoader(dataset=validation, shuffle=True, batch_size=32)"
   ],
   "outputs": [],
   "execution_count": 6
  },
  {
   "metadata": {
    "ExecuteTime": {
     "end_time": "2024-05-11T14:35:00.604500Z",
     "start_time": "2024-05-11T14:35:00.571264Z"
    }
   },
   "cell_type": "code",
   "source": [
    "from utils.my_tuner import HistoryDeletingRandomSearch\n",
    "\n",
    "search_project_name = \"random-search-rich-structure\"\n",
    "search_directory = \"cnn_search\"\n",
    "# Load previous hypertuner\n",
    "previous_tuner = HistoryDeletingRandomSearch(\n",
    "    None, overwrite=False,\n",
    "    project_name=search_project_name,\n",
    "    directory=search_directory\n",
    ")"
   ],
   "id": "9c2807128abac2ac",
   "outputs": [
    {
     "name": "stdout",
     "output_type": "stream",
     "text": [
      "Reloading Tuner from cnn_search/random-search-rich-structure/tuner0.json\n"
     ]
    }
   ],
   "execution_count": 7
  },
  {
   "metadata": {
    "ExecuteTime": {
     "end_time": "2024-05-11T14:35:00.607650Z",
     "start_time": "2024-05-11T14:35:00.605183Z"
    }
   },
   "cell_type": "code",
   "source": "previous_tuner.results_summary(5)",
   "id": "99c44cd012a067e6",
   "outputs": [
    {
     "name": "stdout",
     "output_type": "stream",
     "text": [
      "Results summary\n",
      "Results in cnn_search/random-search-rich-structure\n",
      "Showing 5 best trials\n",
      "Objective(name=\"default_objective\", direction=\"min\")\n",
      "\n",
      "Trial 42 summary\n",
      "Hyperparameters:\n",
      "lr: 0.0001\n",
      "momentum: 0.9\n",
      "filters_0: 64\n",
      "filters_1: 64\n",
      "filters_2: 64\n",
      "filters_3: 64\n",
      "kernel_0: 3\n",
      "kernel_1: 5\n",
      "kernel_2: 5\n",
      "kernel_3: 3\n",
      "units_0: 128\n",
      "units_1: 64\n",
      "units_2: 64\n",
      "dropout_0: False\n",
      "dropout_1: False\n",
      "dropout_2: False\n",
      "convolution_layers: 2\n",
      "hidden_layers: 2\n",
      "Score: 0.3861699104309082\n",
      "\n",
      "Trial 08 summary\n",
      "Hyperparameters:\n",
      "lr: 0.0001\n",
      "momentum: 0.9\n",
      "filters_0: 64\n",
      "filters_1: 64\n",
      "filters_2: 128\n",
      "filters_3: 32\n",
      "kernel_0: 5\n",
      "kernel_1: 3\n",
      "kernel_2: 3\n",
      "kernel_3: 3\n",
      "units_0: 256\n",
      "units_1: 32\n",
      "units_2: 64\n",
      "dropout_0: False\n",
      "dropout_1: False\n",
      "dropout_2: False\n",
      "convolution_layers: 1\n",
      "hidden_layers: 1\n",
      "Score: 0.3864298164844513\n",
      "\n",
      "Trial 23 summary\n",
      "Hyperparameters:\n",
      "lr: 0.0001\n",
      "momentum: 0.9\n",
      "filters_0: 16\n",
      "filters_1: 256\n",
      "filters_2: 128\n",
      "filters_3: 256\n",
      "kernel_0: 5\n",
      "kernel_1: 5\n",
      "kernel_2: 3\n",
      "kernel_3: 3\n",
      "units_0: 64\n",
      "units_1: 64\n",
      "units_2: 128\n",
      "dropout_0: False\n",
      "dropout_1: False\n",
      "dropout_2: False\n",
      "convolution_layers: 2\n",
      "hidden_layers: 1\n",
      "Score: 0.3894437849521637\n",
      "\n",
      "Trial 47 summary\n",
      "Hyperparameters:\n",
      "lr: 0.0001\n",
      "momentum: 0.9\n",
      "filters_0: 128\n",
      "filters_1: 32\n",
      "filters_2: 64\n",
      "filters_3: 32\n",
      "kernel_0: 5\n",
      "kernel_1: 5\n",
      "kernel_2: 3\n",
      "kernel_3: 3\n",
      "units_0: 256\n",
      "units_1: 64\n",
      "units_2: 128\n",
      "dropout_0: False\n",
      "dropout_1: False\n",
      "dropout_2: False\n",
      "convolution_layers: 2\n",
      "hidden_layers: 2\n",
      "Score: 0.39108169078826904\n",
      "\n",
      "Trial 14 summary\n",
      "Hyperparameters:\n",
      "lr: 0.0001\n",
      "momentum: 0.9\n",
      "filters_0: 64\n",
      "filters_1: 16\n",
      "filters_2: 128\n",
      "filters_3: 128\n",
      "kernel_0: 5\n",
      "kernel_1: 3\n",
      "kernel_2: 3\n",
      "kernel_3: 3\n",
      "units_0: 256\n",
      "units_1: 64\n",
      "units_2: 128\n",
      "dropout_0: False\n",
      "dropout_1: False\n",
      "dropout_2: False\n",
      "convolution_layers: 1\n",
      "hidden_layers: 1\n",
      "Score: 0.39342281222343445\n"
     ]
    }
   ],
   "execution_count": 8
  },
  {
   "metadata": {
    "ExecuteTime": {
     "end_time": "2024-05-11T14:35:00.610131Z",
     "start_time": "2024-05-11T14:35:00.608518Z"
    }
   },
   "cell_type": "code",
   "source": [
    "project_name = \"random-search-best-40-hp-env\"\n",
    "directory = \"cnn_search\""
   ],
   "id": "7911e999650793f3",
   "outputs": [],
   "execution_count": 9
  },
  {
   "metadata": {
    "ExecuteTime": {
     "end_time": "2024-05-11T14:35:00.612338Z",
     "start_time": "2024-05-11T14:35:00.610649Z"
    }
   },
   "cell_type": "code",
   "source": [
    "from models.simple_cnn.conv_net_family import TunableConvNetFamily\n",
    "\n",
    "# Model 8\n",
    "model_family = TunableConvNetFamily()\n",
    "model_family.load_parameters(previous_tuner.get_best_hyperparameters(2)[0])\n",
    "\n",
    "model_family.parameters_fixed = True"
   ],
   "id": "2c6816b596800f80",
   "outputs": [],
   "execution_count": 10
  },
  {
   "metadata": {
    "ExecuteTime": {
     "end_time": "2024-05-11T14:35:00.616388Z",
     "start_time": "2024-05-11T14:35:00.612776Z"
    }
   },
   "cell_type": "code",
   "source": [
    "from keras_tuner import HyperParameters\n",
    "\n",
    "learning_parameters = HyperParameters()\n",
    "learning_parameters.Choice(name=\"batch_size\", values=[8, 16, 32, 64], default=16)\n",
    "learning_parameters.Float(name=\"lr\", min_value=1e-5, max_value=1e-2, sampling='log', step=2),\n",
    "learning_parameters.Float(name=\"momentum\", min_value=0.5, max_value=1, sampling='reverse_log', step=2)"
   ],
   "id": "6def4e3f18c1c70a",
   "outputs": [
    {
     "data": {
      "text/plain": [
       "0.5"
      ]
     },
     "execution_count": 11,
     "metadata": {},
     "output_type": "execute_result"
    }
   ],
   "execution_count": 11
  },
  {
   "metadata": {
    "ExecuteTime": {
     "end_time": "2024-05-11T14:35:00.835739Z",
     "start_time": "2024-05-11T14:35:00.616985Z"
    }
   },
   "cell_type": "code",
   "source": [
    "from models.zero_one_validation_loss import ZeroOneLoss, iter_0_1_loss\n",
    "from models.structure.learning_parameters.sgd_learning_parameters import SgdLearningParametersTunable\n",
    "from models.structure.tunable_hypermodel import TunableHyperModel\n",
    "from utils.my_tuner import HistoryDeletingBayesianOptimization\n",
    "import keras\n",
    "\n",
    "batch_tuner = HistoryDeletingBayesianOptimization(\n",
    "    TunableHyperModel(model_family, SgdLearningParametersTunable(learning_rate=1e-4),\n",
    "                      (3, 224, 224), tune_batch=True, verbose=False),\n",
    "    hyperparameters=learning_parameters,\n",
    "    objective='val_loss',\n",
    "    tune_new_entries=False,\n",
    "    executions_per_trial=1,\n",
    "    overwrite=False,\n",
    "    directory=directory,\n",
    "    metrics=['accuracy', iter_0_1_loss, ZeroOneLoss()],\n",
    "    max_trials=15,\n",
    "    project_name=project_name\n",
    ")"
   ],
   "id": "9c5aee359aa5364f",
   "outputs": [],
   "execution_count": 12
  },
  {
   "metadata": {},
   "cell_type": "code",
   "source": [
    "import keras\n",
    "import callbacks.threshold_stop_cb\n",
    "\n",
    "batch_tuner.search(train_dataloader, epochs=12, validation_data=validation_dataloader, callbacks=[\n",
    "    keras.callbacks.CSVLogger(f\"{directory}/{project_name}/search.log\", separator=\",\", append=True),\n",
    "    callbacks.threshold_stop_cb.ThresholdStopCallback(0.6, 4),\n",
    "])"
   ],
   "id": "807070e88ec1a36d",
   "execution_count": 13,
   "outputs": [
    {
     "name": "stdout",
     "output_type": "stream",
     "text": [
      "Trial 15 Complete [00h 09m 13s]\n",
      "val_loss: 0.3308117687702179\n",
      "\n",
      "Best val_loss So Far: 0.3124878704547882\n",
      "Total elapsed time: 02h 03m 58s\n"
     ]
    }
   ]
  }
 ],
 "metadata": {
  "kernelspec": {
   "display_name": "Python 3",
   "language": "python",
   "name": "python3"
  },
  "language_info": {
   "codemirror_mode": {
    "name": "ipython",
    "version": 2
   },
   "file_extension": ".py",
   "mimetype": "text/x-python",
   "name": "python",
   "nbconvert_exporter": "python",
   "pygments_lexer": "ipython2",
   "version": "2.7.6"
  }
 },
 "nbformat": 4,
 "nbformat_minor": 5
}
