{
 "cells": [
  {
   "metadata": {},
   "cell_type": "markdown",
   "source": "We want to explore a first solution guided by common rules of thumb when building CNNs.",
   "id": "8a28b097cc038de"
  },
  {
   "metadata": {},
   "cell_type": "markdown",
   "source": [
    "# Load Data for first Training\n",
    "For our first attempt we want to use the full dataset without considering the possibility of being lucky or having bad luck. \n",
    "\n",
    "The final evaluations will be performed via k-Fold-CV."
   ],
   "id": "82387c25d520ad3"
  },
  {
   "cell_type": "code",
   "id": "initial_id",
   "metadata": {
    "collapsed": true,
    "ExecuteTime": {
     "end_time": "2024-05-08T21:36:04.802074Z",
     "start_time": "2024-05-08T21:36:03.390909Z"
    }
   },
   "source": [
    "import models.structure.base_model_wrapper\n",
    "from dataset.k_fold_dataset_wrapper import KFoldDatasetWrapper\n",
    "from torch.utils.data import DataLoader\n",
    "from dataset.dataset_loader import dataset_loader\n",
    "\n",
    "train, test = dataset_loader((224, 224), is_grayscale=False)\n",
    "\n",
    "# We take 20% of dataset as validation.\n",
    "dataset_split_controller = KFoldDatasetWrapper(5)\n",
    "dataset_split_controller.load_data(train)\n",
    "\n",
    "local_train, validation = dataset_split_controller.get_data_for_fold(0)\n",
    "\n",
    "train_dataloader = DataLoader(dataset=local_train, batch_size=32, shuffle=True)\n",
    "validation_dataloader = DataLoader(dataset=validation, batch_size=32, shuffle=True)\n",
    "test_dataloader = DataLoader(dataset=test, batch_size=32, shuffle=True)"
   ],
   "execution_count": 1,
   "outputs": []
  },
  {
   "metadata": {
    "ExecuteTime": {
     "end_time": "2024-05-08T21:36:04.805161Z",
     "start_time": "2024-05-08T21:36:04.802913Z"
    }
   },
   "cell_type": "code",
   "source": [
    "print(f\"Validation set is {len(validation) / (len(train) + len(test)) * 100:.2f}% of total dataset.\")\n",
    "print(f\"This might be too little to realistically do some early stopping. Estimating epoches might be the way to go.\")"
   ],
   "id": "93f578e149e6d194",
   "execution_count": 2,
   "outputs": []
  },
  {
   "metadata": {},
   "cell_type": "markdown",
   "source": [
    "# Handmade First Attempt\n",
    "The first handmade attempt is done before fine tuning the hyperparameters. We simply follow,\n",
    "for this step, common rules of thumb such as:\n",
    "- The number of filter may be mixed in increasing order to better match more complex patterns in the images\n",
    "- A (3x3) kernel generally performs well\n",
    "- CNN benefit from having a multiple succession of layers"
   ],
   "id": "67100d4a8027b39d"
  },
  {
   "metadata": {
    "ExecuteTime": {
     "end_time": "2024-05-08T21:36:12.598624Z",
     "start_time": "2024-05-08T21:36:11.870146Z"
    }
   },
   "cell_type": "code",
   "source": [
    "from models.simple_cnn.hand_tailored_conv_net import HandTailoredConvNetV1\n",
    "from models.structure.learning_parameters.sgd_learning_parameters import SgdLearningParameters\n",
    "\n",
    "model_family = HandTailoredConvNetV1()\n",
    "model = HandTailoredConvNetV1().make_model((3, 224, 224))\n",
    "\n",
    "learning_parameters = SgdLearningParameters(learning_rate=1e-4)\n",
    "learning_parameters.compile_model(model)\n",
    "\n",
    "model.summary()"
   ],
   "id": "f71796898c3e4500",
   "execution_count": 3,
   "outputs": []
  },
  {
   "metadata": {
    "ExecuteTime": {
     "end_time": "2024-05-08T22:46:23.613261Z",
     "start_time": "2024-05-08T22:46:23.510621Z"
    }
   },
   "cell_type": "code",
   "source": [
    "import keras\n",
    "\n",
    "keras.utils.plot_model(\n",
    "    model, to_file='hand_tailored_conv_net.png', show_layer_names=True, expand_nested=True, show_shapes=True\n",
    ")"
   ],
   "id": "df4133ae1469bd81",
   "execution_count": 22,
   "outputs": []
  },
  {
   "metadata": {
    "ExecuteTime": {
     "end_time": "2024-05-08T22:34:46.499747Z",
     "start_time": "2024-05-08T21:36:20.009018Z"
    }
   },
   "cell_type": "code",
   "source": [
    "import keras\n",
    "\n",
    "# In this simple approach we have fixed [Train 0.8 - Val 0.2 - Test] without doing any k-fold CV.\n",
    "# The number of epoches is fixed by early stopping. (In the case of k-fold-CV it will be a hp given by average performance?)\n",
    "history = model.fit(x=train_dataloader, validation_data=validation_dataloader, batch_size=32, epochs=120, callbacks=[\n",
    "    # To avoid going further when training\n",
    "    keras.callbacks.EarlyStopping(\n",
    "        monitor='val_loss', min_delta=1e-4, patience=10,\n",
    "        verbose=1, mode='min', restore_best_weights=True\n",
    "    ),\n",
    "    # To persist the history\n",
    "    keras.callbacks.CSVLogger(f\"hand-tailored-cnn.log\", separator=\",\", append=True)\n",
    "])"
   ],
   "id": "1789a9bbe67ea586",
   "execution_count": 4,
   "outputs": []
  },
  {
   "metadata": {
    "ExecuteTime": {
     "end_time": "2024-05-08T22:37:51.165184Z",
     "start_time": "2024-05-08T22:37:39.579632Z"
    }
   },
   "cell_type": "code",
   "source": [
    "res = model.evaluate(test_dataloader)\n",
    "persist_model: bool = False\n",
    "\n",
    "# We don't want to persist the model as I already saved it.\n",
    "if persist_model:\n",
    "    model.save('hand_tailored_conv_net.keras')"
   ],
   "id": "1754701388392113",
   "execution_count": 9,
   "outputs": []
  },
  {
   "metadata": {
    "ExecuteTime": {
     "end_time": "2024-05-08T22:42:42.455746Z",
     "start_time": "2024-05-08T22:42:42.453108Z"
    }
   },
   "cell_type": "code",
   "source": [
    "print(f\"Test accuracy is {res[1] * 100:.2f}% while loss is {res[0]}\")\n",
    "print(f\"The model is not that bad considering we have no pre-processing done and the parameters were chosen freely\")"
   ],
   "id": "41ea9894b00fb753",
   "execution_count": 20,
   "outputs": []
  },
  {
   "metadata": {
    "ExecuteTime": {
     "end_time": "2024-05-09T08:22:32.814127Z",
     "start_time": "2024-05-09T08:22:32.634308Z"
    }
   },
   "cell_type": "code",
   "source": [
    "import pandas\n",
    "\n",
    "csv = pandas.read_csv(f\"hand-tailored-cnn.log\")"
   ],
   "id": "a9afd67f59b13c9c",
   "execution_count": 2,
   "outputs": []
  },
  {
   "metadata": {
    "ExecuteTime": {
     "end_time": "2024-05-09T08:22:33.876088Z",
     "start_time": "2024-05-09T08:22:33.658935Z"
    }
   },
   "cell_type": "code",
   "source": [
    "import plotly.express as px\n",
    "\n",
    "loss_figure = px.line(csv, x=\"epoch\", y=[\"loss\", \"val_loss\"], template=\"plotly_white\", markers=True)\n",
    "loss_figure.update_layout(title=\"Loss\", xaxis_title=\"Epoch\", yaxis_title=\"Loss\")"
   ],
   "id": "42c84407be751aa3",
   "execution_count": 3,
   "outputs": []
  },
  {
   "metadata": {
    "ExecuteTime": {
     "end_time": "2024-05-09T08:22:34.929839Z",
     "start_time": "2024-05-09T08:22:34.900784Z"
    }
   },
   "cell_type": "code",
   "source": [
    "figure = px.line(csv, x=\"epoch\", y=[\"accuracy\", \"val_accuracy\"], template=\"plotly_white\", markers=True)\n",
    "figure.update_layout(title=\"Accuracy\", xaxis_title=\"Epoch\", yaxis_title=\"Loss\")"
   ],
   "id": "728423a6bd52eb4e",
   "execution_count": 4,
   "outputs": []
  },
  {
   "metadata": {},
   "cell_type": "markdown",
   "source": [
    "The model I proposed works fairly well although it seems to be overfitting. \n",
    "\n",
    "The chosen hyperparameters seem to be good enough, but we will still try to find the best network structure via Keras Tuner.\n",
    " \n",
    "The model we obtained might be the result of a lucky run. We should run k-fold cv to really estimate the model performance."
   ],
   "id": "47d01aa561b6eba"
  },
  {
   "metadata": {},
   "cell_type": "markdown",
   "source": "# K-fold CV\n",
   "id": "3c97b021b4843a97"
  },
  {
   "metadata": {},
   "cell_type": "code",
   "execution_count": null,
   "source": [
    "# How do I choose the number of epochs?\n",
    "# Nested k-fold-CV"
   ],
   "id": "c060d2715b7b26bf",
   "outputs": []
  },
  {
   "metadata": {},
   "cell_type": "markdown",
   "source": "# Reduce the parameters to avoid overfitting or add regularization?",
   "id": "9d58dd98bbd79853"
  },
  {
   "metadata": {},
   "cell_type": "code",
   "execution_count": null,
   "source": [
    "class HandTailoredConvV2(models.structure.base_model_wrapper.BaseModelWrapper):\n",
    "    def make_layers(self, input_shape: (int, int, int)) -> tuple[keras.Layer, keras.Layer]:\n",
    "        input_layer = keras.Input(shape=input_shape, name=self.__class__.__name__)\n",
    "        x = keras.layers.Conv2D(32, kernel_size=(3, 3), padding=\"same\", activation=\"relu\",\n",
    "                                data_format=self.data_format.value)(input_layer)\n",
    "        x = keras.layers.MaxPool2D(pool_size=(2, 2), data_format=self.data_format.value)(x)\n",
    "        \n",
    "        x = keras.layers.Conv2D(64, kernel_size=(3, 3), padding=\"same\",\n",
    "                                data_format=self.data_format.value, activation=\"relu\")(x)\n",
    "        x = keras.layers.MaxPool2D(pool_size=(2, 2), data_format=self.data_format.value)(x)\n",
    "\n",
    "\n",
    "        x = keras.layers.Flatten()(x)\n",
    "        x = keras.layers.Dense(units=64, activation=\"relu\")(x)\n",
    "        output_layer = keras.layers.Dense(units=1, activation=\"sigmoid\")(x)\n",
    "        \n",
    "        return input_layer, output_layer"
   ],
   "id": "8bafe7d633234448",
   "outputs": []
  }
 ],
 "metadata": {
  "kernelspec": {
   "display_name": "Python 3",
   "language": "python",
   "name": "python3"
  },
  "language_info": {
   "codemirror_mode": {
    "name": "ipython",
    "version": 2
   },
   "file_extension": ".py",
   "mimetype": "text/x-python",
   "name": "python",
   "nbconvert_exporter": "python",
   "pygments_lexer": "ipython2",
   "version": "2.7.6"
  }
 },
 "nbformat": 4,
 "nbformat_minor": 5
}
