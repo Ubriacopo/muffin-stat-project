{
 "cells": [
  {
   "metadata": {
    "ExecuteTime": {
     "end_time": "2024-05-17T15:05:05.067998Z",
     "start_time": "2024-05-17T15:05:05.066045Z"
    }
   },
   "cell_type": "code",
   "source": "label_mappings = {0: \"chihuahua\", 1: \"muffin\"}",
   "id": "5d1580063967358",
   "execution_count": 1,
   "outputs": []
  },
  {
   "metadata": {},
   "cell_type": "markdown",
   "source": [
    "Case Studies we take a look at:\n",
    "- VGG-16 (from Keras models repository, fine tuned)\n",
    "- XCeption\n",
    "\n",
    "> https://www.topbots.com/important-cnn-architectures/"
   ],
   "id": "350b825d7a2597e9"
  },
  {
   "metadata": {
    "ExecuteTime": {
     "end_time": "2024-05-17T14:14:55.252900Z",
     "start_time": "2024-05-17T14:14:55.250678Z"
    }
   },
   "cell_type": "code",
   "source": "# https://keras.io/guides/transfer_learning/",
   "id": "f9f1cecb54733ab7",
   "execution_count": 50,
   "outputs": []
  },
  {
   "metadata": {},
   "cell_type": "markdown",
   "source": "## Utility functions\n",
   "id": "da752fb40c702b12"
  },
  {
   "metadata": {
    "ExecuteTime": {
     "end_time": "2024-05-17T15:05:10.985050Z",
     "start_time": "2024-05-17T15:05:09.379400Z"
    }
   },
   "cell_type": "code",
   "source": [
    "from torchvision.datasets import ImageFolder\n",
    "from keras.src import Functional\n",
    "from typing import Callable\n",
    "import plotly.express as px\n",
    "import torch\n",
    "import numpy as np\n",
    "\n",
    "\n",
    "def make_evaluations_list(evaluate_model: Callable[[any, Functional], any], model: Functional,\n",
    "                          reference_dataset: ImageFolder, samples: int = 8) -> list[tuple[any, any, any]]:\n",
    "    \"\"\"\n",
    "    \n",
    "    :param evaluate_model: \n",
    "    :param model: \n",
    "    :param reference_dataset: \n",
    "    :param samples: \n",
    "    :return: A tuple containing: [the image ready for plotting, the predicted label from the model, the true label]\n",
    "    \"\"\"\n",
    "    for i in torch.rand(samples):\n",
    "        # Random draw\n",
    "        random_index = int(i * (len(reference_dataset)))\n",
    "\n",
    "        img = reference_dataset[random_index][0]\n",
    "        label = reference_dataset[random_index][1]\n",
    "        yield torch.permute(img, (1, 2, 0)), evaluate_model(img, model), label\n",
    "\n",
    "\n",
    "def print_evaluation_lists_information(image_evaluations_list: list[tuple[any, any, any]]) -> None:\n",
    "    current_index = 0\n",
    "    images = []\n",
    "\n",
    "    for img, pred, y in image_evaluations_list:\n",
    "        images.append(img)\n",
    "        \n",
    "        print(f\"For facet {current_index} model has predicted: {[pred_entry[1] for pred_entry in pred]}. \"\n",
    "              f\"The correct label is {y}\")\n",
    "\n",
    "        current_index += 1\n",
    "        \n",
    "    image_show = px.imshow(np.array(images), binary_string=True, facet_col=0, facet_col_wrap=4)\n",
    "    image_show.show()"
   ],
   "id": "53a2ad69812d5c9c",
   "execution_count": 2,
   "outputs": []
  },
  {
   "metadata": {},
   "cell_type": "markdown",
   "source": [
    "# 1 - Xception\n",
    "Before training and fine tuning lets see the performance of the pretrained model on some samples."
   ],
   "id": "cd51aeb3cecd018"
  },
  {
   "metadata": {
    "ExecuteTime": {
     "end_time": "2024-05-17T15:20:33.866206Z",
     "start_time": "2024-05-17T15:20:33.864341Z"
    }
   },
   "cell_type": "code",
   "source": "project_definition: dict[str, any] = {\"name\": \"xception\"}",
   "id": "e652f2b4af3b361c",
   "execution_count": 1,
   "outputs": []
  },
  {
   "metadata": {
    "ExecuteTime": {
     "end_time": "2024-05-17T14:23:54.402607Z",
     "start_time": "2024-05-17T14:23:54.026860Z"
    }
   },
   "cell_type": "code",
   "source": [
    "import keras\n",
    "\n",
    "untouched_xception = keras.applications.Xception(weights='imagenet')"
   ],
   "id": "2e03e311896aa47a",
   "execution_count": 85,
   "outputs": []
  },
  {
   "metadata": {
    "ExecuteTime": {
     "end_time": "2024-05-17T15:20:35.189767Z",
     "start_time": "2024-05-17T15:20:35.117298Z"
    }
   },
   "cell_type": "code",
   "source": [
    "import numpy\n",
    "\n",
    "\n",
    "def evaluate_xception(image, xception, verbose: bool = False):\n",
    "    local_image = torch.permute(image, (1, 2, 0))\n",
    "    local_image = numpy.expand_dims(local_image, 0)\n",
    "\n",
    "    return keras.applications.xception.decode_predictions(xception.predict(local_image, verbose=verbose), top=3)[0]"
   ],
   "id": "2bb17d64ca75d580",
   "execution_count": 2,
   "outputs": []
  },
  {
   "metadata": {},
   "cell_type": "markdown",
   "source": "## 1.2 - Data loading for Xception",
   "id": "4b06c416811c42ee"
  },
  {
   "metadata": {
    "ExecuteTime": {
     "end_time": "2024-05-17T15:20:38.109744Z",
     "start_time": "2024-05-17T15:20:36.584005Z"
    }
   },
   "cell_type": "code",
   "source": [
    "from torch.utils.data import DataLoader\n",
    "from dataset.k_fold_dataset_wrapper import KFoldDatasetWrapper\n",
    "\n",
    "from dataset.dataset_loader import dataset_loader\n",
    "\n",
    "train, test = dataset_loader((299, 299))\n",
    "dataset_split_controller = KFoldDatasetWrapper(5)\n",
    "dataset_split_controller.load_data(train)\n",
    "\n",
    "local_train, validation = dataset_split_controller.get_data_for_fold(0)\n",
    "\n",
    "train_dataloader = DataLoader(dataset=local_train, batch_size=16, shuffle=True)\n",
    "validation_dataloader = DataLoader(dataset=validation, batch_size=16, shuffle=True)\n",
    "test_dataloader = DataLoader(dataset=test, batch_size=16, shuffle=True)"
   ],
   "id": "4814667f2fbebf16",
   "execution_count": 3,
   "outputs": []
  },
  {
   "metadata": {},
   "cell_type": "markdown",
   "source": [
    "We don't need to calculate the mean and variance of the dataset as we use a pre-trained model.\n",
    "\n",
    "It is required to use mean/variance of the data xception used (as in the pre-process pipe)."
   ],
   "id": "916b7b4e00fda564"
  },
  {
   "metadata": {},
   "cell_type": "markdown",
   "source": "## 1.1 -  Model Evaluation without training",
   "id": "3fe0e9ae9d0a6767"
  },
  {
   "metadata": {
    "ExecuteTime": {
     "end_time": "2024-05-17T14:23:55.975480Z",
     "start_time": "2024-05-17T14:23:55.424047Z"
    }
   },
   "cell_type": "code",
   "source": "print_evaluation_lists_information(make_evaluations_list(evaluate_xception, untouched_xception, local_train))",
   "id": "4786b908a5c73d33",
   "execution_count": 88,
   "outputs": []
  },
  {
   "metadata": {},
   "cell_type": "code",
   "source": [
    "# The model does not recognize Muffins as being muffins just as bakery (Which makes sense)\n",
    "# As the label Muffin is missing in the decoding of the Xception we just map it to bakery"
   ],
   "id": "3b61df463b12a6e6",
   "execution_count": null,
   "outputs": []
  },
  {
   "metadata": {},
   "cell_type": "code",
   "source": "predictions: list[tuple[list, int]] = [(evaluate_xception(i[0], untouched_xception), i[1]) for i in test]",
   "id": "50e019d48ef72cd7",
   "execution_count": null,
   "outputs": []
  },
  {
   "metadata": {},
   "cell_type": "code",
   "source": [
    "# Redefine the labels to fit the observations on Xception\n",
    "label_mappings = {0: [\"chihuahua\", \"dog\"], 1: [\"muffin\", \"bakery\"]}\n",
    "\n",
    "TP = 0  # True positives\n",
    "for i in range(len(predictions)):\n",
    "    predicted_values = [j[1].lower() for j in predictions[i][0]]\n",
    "    true_label = label_mappings[predictions[i][1]]\n",
    "\n",
    "    TP += 1 if set(predicted_values) & set(true_label) else 0\n",
    "\n",
    "precision = TP / len(predictions)\n",
    "precision  # On the top 3 considering the fact that many miss classifications happen for the fact that the labels are more accurate for the dogs (some samples in the training set are not chihuahuas) and that Muffins do not have a real label."
   ],
   "id": "93359fabc60beab8",
   "execution_count": null,
   "outputs": []
  },
  {
   "metadata": {},
   "cell_type": "markdown",
   "source": [
    "## 1.2 - Fine tuning the model\n",
    "We follow the following guide: https://keras.io/guides/transfer_learning/"
   ],
   "id": "7762e48f7089294d"
  },
  {
   "metadata": {},
   "cell_type": "markdown",
   "source": "### 1.2.1 - Model definition",
   "id": "69add1ea9d110677"
  },
  {
   "metadata": {},
   "cell_type": "markdown",
   "source": "> Note: each Keras Application expects a specific kind of input preprocessing. For Xception, call keras.applications.xception.preprocess_input on your inputs before passing them to the model. xception.preprocess_input will scale input pixels between -1 and 1",
   "id": "6b96c70d9f6e1e30"
  },
  {
   "metadata": {
    "ExecuteTime": {
     "end_time": "2024-05-17T15:20:55.200923Z",
     "start_time": "2024-05-17T15:20:54.832680Z"
    }
   },
   "cell_type": "code",
   "source": [
    "from models.structure.base_model_wrapper import BaseModelWrapper\n",
    "import keras\n",
    "from keras.src import Functional\n",
    "\n",
    "# https://keras.io/guides/transfer_learning/#the-typical-transferlearning-workflow \n",
    "# With augmentation just to permute here\n",
    "class XceptionAugmented(BaseModelWrapper):\n",
    "    latest_xception_model: Functional\n",
    "\n",
    "    def make_layers(self, input_shape: (int, int, int)) -> tuple[keras.Layer, keras.Layer]:\n",
    "        C, W, H = input_shape\n",
    "\n",
    "        inputs = keras.Input(input_shape)\n",
    "\n",
    "        x = keras.layers.Permute((2, 3, 1))(inputs)\n",
    "        # todo uso questa?\n",
    "        x = keras.applications.xception.preprocess_input(x)\n",
    "        # x = keras.layers.Rescaling(scale=1 / 2, offset=-1)(x)\n",
    "\n",
    "        self.latest_xception_model = keras.applications.Xception(\n",
    "            weights='imagenet', include_top=False, input_shape=(W, H, C)\n",
    "        )\n",
    "\n",
    "        self.latest_xception_model.trainable = False\n",
    "        x = self.latest_xception_model(x, training=False)\n",
    "        x = keras.layers.GlobalAveragePooling2D()(x)\n",
    "\n",
    "        outputs = keras.layers.Dense(1, activation='sigmoid')(x)\n",
    "        return inputs, outputs"
   ],
   "id": "7c00a10b3e288eb7",
   "execution_count": 4,
   "outputs": []
  },
  {
   "metadata": {},
   "cell_type": "markdown",
   "source": "### 1.2.2 - Training and evaluation only on appended structure",
   "id": "e35e65973289a7f1"
  },
  {
   "metadata": {
    "ExecuteTime": {
     "end_time": "2024-05-17T15:20:57.260350Z",
     "start_time": "2024-05-17T15:20:56.851702Z"
    }
   },
   "cell_type": "code",
   "source": [
    "xception_aug = XceptionAugmented()\n",
    "model = xception_aug.make_model((3, 299, 299))\n",
    "# Default configuration for the Xception model learning\n",
    "model.compile(optimizer=\"adam\", loss=\"binary_crossentropy\", metrics=[\"accuracy\"])\n",
    "model.summary()"
   ],
   "id": "32bc7db2127080f1",
   "execution_count": 5,
   "outputs": []
  },
  {
   "metadata": {
    "ExecuteTime": {
     "end_time": "2024-05-17T15:26:05.898794Z",
     "start_time": "2024-05-17T15:20:58.168937Z"
    }
   },
   "cell_type": "code",
   "source": [
    "history = model.fit(train_dataloader, epochs=5, validation_data=validation_dataloader, callbacks=[\n",
    "    # To persist the history\n",
    "    keras.callbacks.CSVLogger(f\"{project_definition['name']}_train.csv\", separator=\",\", append=True),\n",
    "    keras.callbacks.EarlyStopping(monitor='val_loss', patience=2, verbose=1, mode='min')\n",
    "])"
   ],
   "id": "d2ea8f80435452a9",
   "execution_count": 6,
   "outputs": []
  },
  {
   "metadata": {
    "ExecuteTime": {
     "end_time": "2024-05-17T15:26:22.189188Z",
     "start_time": "2024-05-17T15:26:05.899669Z"
    }
   },
   "cell_type": "code",
   "source": [
    "res = model.evaluate(test_dataloader)\n",
    "print(f\"Test accuracy is {res[1] * 100:.2f}% while loss is {res[0]}\")"
   ],
   "id": "816db91bd9e94df2",
   "execution_count": 7,
   "outputs": []
  },
  {
   "metadata": {},
   "cell_type": "markdown",
   "source": "### 1.2.3 - Free the network and final training ",
   "id": "deadaab7dcbaf477"
  },
  {
   "metadata": {
    "ExecuteTime": {
     "end_time": "2024-05-17T15:26:44.022450Z",
     "start_time": "2024-05-17T15:26:43.090912Z"
    }
   },
   "cell_type": "code",
   "source": [
    "xception_aug.latest_xception_model.trainable = True\n",
    "model.compile(optimizer=keras.optimizers.Adam(1e-5), loss=\"binary_crossentropy\", metrics=[\"accuracy\"])\n",
    "\n",
    "history = model.fit(train_dataloader, epochs=5, validation_data=validation_dataloader)"
   ],
   "id": "7d5e13a6d2c9c349",
   "execution_count": 8,
   "outputs": []
  },
  {
   "metadata": {},
   "cell_type": "markdown",
   "source": "### 1.2.4 - Tuning with augmentation",
   "id": "d771b750a110fa4"
  },
  {
   "metadata": {},
   "cell_type": "markdown",
   "source": "## 1.3 - K Fold Cross Validation",
   "id": "fa6d1bbe764c067f"
  },
  {
   "metadata": {},
   "cell_type": "code",
   "execution_count": null,
   "source": "",
   "id": "c2a2098494338479",
   "outputs": []
  },
  {
   "metadata": {},
   "cell_type": "markdown",
   "source": [
    "# 2- VGG-16\n",
    "https://arxiv.org/abs/1409.1556"
   ],
   "id": "742da383b8529833"
  },
  {
   "metadata": {},
   "cell_type": "markdown",
   "source": "## 2.1 - Data loading for VGG-16",
   "id": "5672622774b4650d"
  },
  {
   "metadata": {},
   "cell_type": "code",
   "source": [
    "from torch.utils.data import DataLoader\n",
    "from dataset.k_fold_dataset_wrapper import KFoldDatasetWrapper\n",
    "\n",
    "from dataset.dataset_loader import dataset_loader\n",
    "\n",
    "train, test = dataset_loader((224, 224))\n",
    "dataset_split_controller = KFoldDatasetWrapper(5)\n",
    "dataset_split_controller.load_data(train)\n",
    "\n",
    "local_train, validation = dataset_split_controller.get_data_for_fold(0)\n",
    "\n",
    "train_dataloader = DataLoader(dataset=local_train, batch_size=16, shuffle=True)\n",
    "validation_dataloader = DataLoader(dataset=validation, batch_size=16, shuffle=True)\n",
    "test_dataloader = DataLoader(dataset=test, batch_size=16, shuffle=True)"
   ],
   "id": "174568df8984bf9e",
   "execution_count": null,
   "outputs": []
  },
  {
   "metadata": {},
   "cell_type": "markdown",
   "source": "## 2.1 -Model evaulation without training",
   "id": "f6984c686d18a7fd"
  },
  {
   "metadata": {},
   "cell_type": "code",
   "source": "untouched_vgg16 = keras.applications.VGG16(weights='imagenet')",
   "id": "8849a8ce2c3639b7",
   "execution_count": null,
   "outputs": []
  },
  {
   "metadata": {},
   "cell_type": "code",
   "source": [
    "def evaluate_vgg16(image, vgg16, verbose: bool = False):\n",
    "    local_image = torch.permute(image, (1, 2, 0))\n",
    "    local_image = numpy.expand_dims(local_image, 0)\n",
    "\n",
    "    return keras.applications.vgg16.decode_predictions(vgg16.predict(local_image, verbose=verbose), top=3)[0]"
   ],
   "id": "261473ad88fd5be1",
   "execution_count": null,
   "outputs": []
  },
  {
   "metadata": {},
   "cell_type": "code",
   "source": [
    "import torch\n",
    "import plotly.express as px\n",
    "import numpy as np\n",
    "\n",
    "# todo make this a method. We repeat it 3 times like idiots\n",
    "# We look at 8 samples directly\n",
    "VISUALIZE_SAMPLES: int = 8\n",
    "image_list: list = []\n",
    "\n",
    "evaluations: list[tuple] = []\n",
    "\n",
    "for i in torch.rand(VISUALIZE_SAMPLES):\n",
    "    image = test[int(i * len(test))][0]\n",
    "    evaluations.append((evaluate_vgg16(image, untouched_vgg16), test[int(i * len(test))][1]))\n",
    "    image_list.append(torch.permute(image, (1, 2, 0)))\n",
    "\n",
    "fig = px.imshow(np.array(image_list), binary_string=True, facet_col=0, facet_col_wrap=4)\n",
    "fig.show()\n",
    "\n",
    "for i in range(len(evaluations)):\n",
    "    print(\n",
    "        f\"For facet {i} VGG16 has prediceted: {[i[1] for i in evaluations[i][0]]} while the true label is {label_mappings[evaluations[i][1]]}\")"
   ],
   "id": "4ec17999abb7e0f8",
   "execution_count": null,
   "outputs": []
  },
  {
   "metadata": {},
   "cell_type": "code",
   "source": [
    "import torch\n",
    "import keras\n",
    "\n",
    "predictions: list[tuple[list, int]] = [(evaluate_vgg16(i[0], untouched_vgg16), i[1]) for i in test]"
   ],
   "id": "a39c84388187ef30",
   "execution_count": null,
   "outputs": []
  },
  {
   "metadata": {},
   "cell_type": "code",
   "source": [
    "label_mappings = {0: [\"chihuahua\", \"dog\"], 1: [\"muffin\", \"bakery\"]}\n",
    "TP = 0  # True positives\n",
    "for i in range(len(predictions)):\n",
    "    predicted_values = [j[1].lower() for j in predictions[i][0]]\n",
    "    true_label = label_mappings[predictions[i][1]]\n",
    "\n",
    "    TP += 1 if set(predicted_values) & set(true_label) else 0\n",
    "\n",
    "precision = TP / len(predictions)\n",
    "precision  # On the top 3 considering the fact that many miss classifications happen for the fact that the labels are more accurate for the dogs (some samples in the training set are not chihuahuas) and that Muffins do not have a real label."
   ],
   "id": "394145f5f0d68c",
   "execution_count": null,
   "outputs": []
  },
  {
   "metadata": {},
   "cell_type": "markdown",
   "source": "## 2.2 - Fine tuning the model",
   "id": "35ad05782b3e03a3"
  },
  {
   "metadata": {},
   "cell_type": "markdown",
   "source": "### 2.2.1 -  Model definition",
   "id": "9529bae626cd067d"
  },
  {
   "metadata": {},
   "cell_type": "code",
   "execution_count": null,
   "source": [
    "from models.structure.base_model_wrapper import BaseModelWrapper\n",
    "\n",
    "import keras\n",
    "\n",
    "\n",
    "# https://keras.io/guides/transfer_learning/#the-typical-transferlearning-workflow \n",
    "class VGG16Custom(BaseModelWrapper):\n",
    "    latest_model: Functional\n",
    "\n",
    "    def make_layers(self, input_shape: (int, int, int)) -> tuple[keras.Layer, keras.Layer]:\n",
    "        C, W, H = input_shape\n",
    "        inputs = keras.Input(input_shape)\n",
    "\n",
    "        x = keras.applications.mobilenet.preprocess_input(inputs, data_format=self.data_format.value)\n",
    "        x = keras.layers.Permute((2, 3, 1))(x)\n",
    "\n",
    "        self.latest_model = keras.applications.VGG16(\n",
    "            weights='imagenet', include_top=False, input_shape=(W, H, C)\n",
    "        )\n",
    "\n",
    "        self.latest_model.trainable = False\n",
    "        x = self.latest_model(x, training=False)\n",
    "        x = keras.layers.GlobalAveragePooling2D()(x)\n",
    "\n",
    "        outputs = keras.layers.Dense(1, activation='sigmoid')(x)\n",
    "        return inputs, outputs"
   ],
   "id": "42685059a78477c2",
   "outputs": []
  },
  {
   "metadata": {},
   "cell_type": "markdown",
   "source": "### 2.2.2. - Training and evaluation on frozen base model",
   "id": "db707d243a1fd6df"
  },
  {
   "metadata": {},
   "cell_type": "code",
   "execution_count": null,
   "source": [
    "vgg_custom_wrapper = VGG16Custom()\n",
    "model = vgg_custom_wrapper.make_model((3, 224, 224))\n",
    "# Default configuration for the Xception model learning\n",
    "model.compile(optimizer=\"adam\", loss=\"binary_crossentropy\", metrics=[\"accuracy\"])\n",
    "model.summary()"
   ],
   "id": "c996bdc7f09c444d",
   "outputs": []
  },
  {
   "metadata": {},
   "cell_type": "code",
   "execution_count": null,
   "source": "history = model.fit(train_dataloader, epochs=20, validation_data=validation_dataloader, callbacks=[])",
   "id": "7c41a93b0525dcc6",
   "outputs": []
  },
  {
   "metadata": {},
   "cell_type": "code",
   "execution_count": null,
   "source": [
    "res = model.evaluate(test_dataloader)\n",
    "print(f\"Test accuracy is {res[1] * 100:.2f}% while loss is {res[0]}\")"
   ],
   "id": "7a936ac5fcf5d577",
   "outputs": []
  },
  {
   "metadata": {},
   "cell_type": "markdown",
   "source": "### 2.2.3 - Fine tuning on the whole structure ",
   "id": "4e9dbc7dfc8227b9"
  },
  {
   "metadata": {},
   "cell_type": "code",
   "execution_count": null,
   "source": [
    "vgg_custom_wrapper.latest_model.trainable = True\n",
    "model.compile(optimizer=keras.optimizers.Adam(1e-5), loss=\"binary_crossentropy\", metrics=[\"accuracy\"])\n",
    "\n",
    "history = model.fit(train_dataloader, epochs=10, validation_data=validation_dataloader)"
   ],
   "id": "5ac80eb580755204",
   "outputs": []
  },
  {
   "metadata": {},
   "cell_type": "markdown",
   "source": "## 2.3 - K fold CV",
   "id": "527d975a5203503a"
  },
  {
   "metadata": {},
   "cell_type": "code",
   "execution_count": null,
   "source": [
    "k_fold_controller = dataset_split_controller\n",
    "results = []\n",
    "for i in range(k_fold_controller.k):\n",
    "    # Delete previous model in memory todo\n",
    "\n",
    "    local_train, local_test = dataset_split_controller.get_data_for_fold(i)\n",
    "\n",
    "    train_dataloader = DataLoader(dataset=local_train, batch_size=16, shuffle=True)\n",
    "    test_dataloader = DataLoader(dataset=local_test, batch_size=16, shuffle=True)\n",
    "\n",
    "    # Do we want to early stop? If so we need to split train further to have a validation split.\n",
    "    model = vgg_custom_wrapper.make_model((3, 224, 224))\n",
    "    model.compile(optimizer=\"adam\", loss=\"binary_crossentropy\", metrics=[\"accuracy\"])\n",
    "\n",
    "    model.fit(train_dataloader, epochs=20, callbacks=[])\n",
    "    results.append(model.evaluate(test_dataloader))"
   ],
   "id": "e0160be98d01fa2d",
   "outputs": []
  },
  {
   "metadata": {},
   "cell_type": "code",
   "execution_count": null,
   "source": [
    "from torch.utils.data import DataLoader\n",
    "from dataset.k_fold_dataset_wrapper import KFoldDatasetWrapper\n",
    "\n",
    "from dataset.dataset_loader import dataset_loader\n",
    "\n",
    "train, test = dataset_loader((224, 224))\n",
    "dataset_split_controller = KFoldDatasetWrapper(5)\n",
    "dataset_split_controller.load_data(train)\n",
    "\n",
    "local_train, validation = dataset_split_controller.get_data_for_fold(0)\n",
    "\n",
    "train_dataloader = DataLoader(dataset=local_train, batch_size=16, shuffle=True)\n",
    "validation_dataloader = DataLoader(dataset=validation, batch_size=16, shuffle=True)\n",
    "test_dataloader = DataLoader(dataset=test, batch_size=16, shuffle=True)"
   ],
   "id": "9e7cbdd07e718d1b",
   "outputs": []
  }
 ],
 "metadata": {
  "kernelspec": {
   "display_name": "Python 3",
   "language": "python",
   "name": "python3"
  },
  "language_info": {
   "codemirror_mode": {
    "name": "ipython",
    "version": 2
   },
   "file_extension": ".py",
   "mimetype": "text/x-python",
   "name": "python",
   "nbconvert_exporter": "python",
   "pygments_lexer": "ipython2",
   "version": "2.7.6"
  }
 },
 "nbformat": 4,
 "nbformat_minor": 5
}
