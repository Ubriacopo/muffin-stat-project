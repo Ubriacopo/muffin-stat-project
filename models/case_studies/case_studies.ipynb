{
 "cells": [
  {
   "cell_type": "code",
   "execution_count": null,
   "id": "initial_id",
   "metadata": {
    "collapsed": true
   },
   "outputs": [],
   "source": ""
  },
  {
   "metadata": {},
   "cell_type": "markdown",
   "source": [
    "# Case Studies:\n",
    "- VGG-16 (from Keras models repository, fine tuned)\n",
    "- ResNet152\n",
    "- XCeption\n",
    "\n",
    "> https://www.topbots.com/important-cnn-architectures/"
   ],
   "id": "350b825d7a2597e9"
  },
  {
   "metadata": {
    "ExecuteTime": {
     "end_time": "2024-05-07T18:36:48.687368Z",
     "start_time": "2024-05-07T18:36:48.685678Z"
    }
   },
   "cell_type": "code",
   "source": "# https://keras.io/guides/transfer_learning/",
   "id": "f9f1cecb54733ab7",
   "outputs": [],
   "execution_count": 1
  },
  {
   "metadata": {},
   "cell_type": "markdown",
   "source": [
    "# Xception\n",
    "Before training and fine tuning lets see the performance of the pretrained model on some samples."
   ],
   "id": "cd51aeb3cecd018"
  },
  {
   "metadata": {},
   "cell_type": "code",
   "outputs": [],
   "execution_count": null,
   "source": [
    "import keras\n",
    "untouched_xception = keras.applications.Xception(weights='imagenet')\n",
    "# Try on 10 different images\n",
    "untouched_xception.predict()"
   ],
   "id": "7fa65ffd2dbf8307"
  },
  {
   "metadata": {},
   "cell_type": "code",
   "outputs": [],
   "execution_count": null,
   "source": [
    "from models.structure.default_augmented_model_family import ChannelsLastFixAugmentedNaiveDNNModelFamily\n",
    "\n",
    "# With augmentation\n",
    "class XceptionAugmented(ChannelsLastFixAugmentedNaiveDNNModelFamily):\n",
    "    def make_layers(self, input_shape: (int, int, int)) -> tuple[keras.Layer, keras.Layer]:\n",
    "        inputs = keras.Input(input_shape)\n",
    "        x = keras.applications.xception.preprocess_input(inputs, data_format=\"channels_first\")\n",
    "        x = keras.applications.Xception(weights='imagenet', include_top=False)(x, training=False, pooling='max')\n",
    "        outputs = keras.layers.Dense(1, activation='sigmoid')(x)\n",
    "\n",
    "        return inputs, outputs"
   ],
   "id": "7c00a10b3e288eb7"
  },
  {
   "metadata": {},
   "cell_type": "code",
   "outputs": [],
   "execution_count": null,
   "source": [
    "from torch.utils.data import DataLoader\n",
    "from dataset.k_fold_dataset_wrapper import KFoldDatasetWrapper\n",
    "\n",
    "from dataset.dataset_loader import dataset_loader\n",
    "\n",
    "train, test = dataset_loader((299, 299), is_grayscale=False)\n",
    "dataset_split_controller = KFoldDatasetWrapper(5)\n",
    "dataset_split_controller.load_data(train)\n",
    "\n",
    "local_train, validation = dataset_split_controller.get_data_for_fold(0)\n",
    "train_dataloader = DataLoader(dataset=local_train, batch_size=16, shuffle=True)\n",
    "validation_dataloader = DataLoader(dataset=validation, batch_size=16, shuffle=True)"
   ],
   "id": "e1ee9d890f1c642"
  },
  {
   "metadata": {},
   "cell_type": "code",
   "outputs": [],
   "execution_count": null,
   "source": [
    "model = XceptionAugmented(\"AugmentedXCeption\", \"binary_crossentropy\").make_model((3, 299, 299))\n",
    "model.compile(optimizer=keras.optimizers.Adam(),\n",
    "              loss=keras.losses.BinaryCrossentropy(from_logits=True),\n",
    "              metrics=[keras.metrics.BinaryAccuracy()])\n",
    "\n",
    "model.summary()"
   ],
   "id": "32bc7db2127080f1"
  },
  {
   "metadata": {},
   "cell_type": "code",
   "outputs": [],
   "execution_count": null,
   "source": "history = model.fit(local_train, epochs=20, validation_data=validation_dataloader)",
   "id": "d2ea8f80435452a9"
  },
  {
   "metadata": {},
   "cell_type": "markdown",
   "source": [
    "# VGG-16\n",
    "https://arxiv.org/abs/1409.1556"
   ],
   "id": "742da383b8529833"
  },
  {
   "metadata": {},
   "cell_type": "code",
   "outputs": [],
   "execution_count": null,
   "source": "",
   "id": "8849a8ce2c3639b7"
  },
  {
   "metadata": {},
   "cell_type": "markdown",
   "source": "# Resnet-152",
   "id": "4d7be585d468f546"
  },
  {
   "metadata": {},
   "cell_type": "code",
   "outputs": [],
   "execution_count": null,
   "source": "",
   "id": "4d8a2774ea1d6a75"
  }
 ],
 "metadata": {
  "kernelspec": {
   "display_name": "Python 3",
   "language": "python",
   "name": "python3"
  },
  "language_info": {
   "codemirror_mode": {
    "name": "ipython",
    "version": 2
   },
   "file_extension": ".py",
   "mimetype": "text/x-python",
   "name": "python",
   "nbconvert_exporter": "python",
   "pygments_lexer": "ipython2",
   "version": "2.7.6"
  }
 },
 "nbformat": 4,
 "nbformat_minor": 5
}
