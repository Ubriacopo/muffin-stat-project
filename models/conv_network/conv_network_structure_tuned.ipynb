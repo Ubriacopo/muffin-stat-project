{
 "cells": [
  {
   "cell_type": "code",
   "id": "initial_id",
   "metadata": {
    "collapsed": true,
    "ExecuteTime": {
     "end_time": "2024-05-16T16:53:01.897118Z",
     "start_time": "2024-05-16T16:53:01.895133Z"
    }
   },
   "source": "default_values = {\"batch_size\": 32, \"epochs\": 20, \"learning_rate\": 1e-2}",
   "execution_count": 1,
   "outputs": []
  },
  {
   "metadata": {},
   "cell_type": "markdown",
   "source": [
    "The goal of this procedure is to find a good structure for the network that by hand we might not\n",
    "find as the process is all but trivial. We begin by finding good networks, we select one or two and then we tune the learning hyperparameters.\n",
    "\n",
    "This kind of approach seems to be very popular"
   ],
   "id": "54ddf0304ffa5927"
  },
  {
   "metadata": {},
   "cell_type": "markdown",
   "source": "# 1- Load data",
   "id": "bc0cf79459f32963"
  },
  {
   "metadata": {
    "ExecuteTime": {
     "end_time": "2024-05-16T16:53:01.933152Z",
     "start_time": "2024-05-16T16:53:01.931223Z"
    }
   },
   "cell_type": "code",
   "source": "project_definition: dict[str, any] = {\"name\": \"complete_search\"}",
   "id": "6e980260e226f350",
   "outputs": [],
   "execution_count": 2
  },
  {
   "metadata": {
    "ExecuteTime": {
     "end_time": "2024-05-16T16:53:03.674431Z",
     "start_time": "2024-05-16T16:53:01.933920Z"
    }
   },
   "cell_type": "code",
   "source": [
    "import models.structure.base_model_wrapper\n",
    "from dataset.k_fold_dataset_wrapper import KFoldDatasetWrapper\n",
    "from torch.utils.data import DataLoader\n",
    "from dataset.dataset_loader import dataset_loader\n",
    "\n",
    "train, test = dataset_loader((224, 224), is_grayscale=False)\n",
    "\n",
    "# We take 20% of train as validation. \n",
    "dataset_split_controller = KFoldDatasetWrapper(5)\n",
    "dataset_split_controller.load_data(train)\n",
    "\n",
    "local_train, validation = dataset_split_controller.get_data_for_fold(0)\n",
    "\n",
    "train_dataloader = DataLoader(dataset=local_train, batch_size=default_values[\"batch_size\"], shuffle=True)\n",
    "validation_dataloader = DataLoader(dataset=validation, batch_size=default_values[\"batch_size\"], shuffle=True)\n",
    "test_dataloader = DataLoader(dataset=test, batch_size=default_values[\"batch_size\"], shuffle=True)"
   ],
   "id": "e27cb91abc38e4d5",
   "outputs": [],
   "execution_count": 3
  },
  {
   "metadata": {},
   "cell_type": "markdown",
   "source": [
    "# 2 - Model family definition\n",
    "The model family is defined in the file ```conv_network_structure.py``` as ```ConvNetworkStructure```. To work with my custom implementation of the keras hypermodel\n",
    "I extended it to be ```TunableConvNetworkStructure```"
   ],
   "id": "6ded04e414e8ce56"
  },
  {
   "metadata": {
    "ExecuteTime": {
     "end_time": "2024-05-16T16:53:03.929604Z",
     "start_time": "2024-05-16T16:53:03.675283Z"
    }
   },
   "cell_type": "code",
   "source": [
    "from models.structure.augmentation_wrapper import CustomInvertedAugmentationWrapper\n",
    "from conv_network_structure import TunableConvNetworkStructure\n",
    "\n",
    "\n",
    "# Cannot use augmentation as time is CPU then?\n",
    "class TunableConvNetworkFamilyWithPreprocess(TunableConvNetworkStructure, CustomInvertedAugmentationWrapper):\n",
    "    pass\n",
    "\n",
    "\n",
    "tunableConvNetworkFamily = TunableConvNetworkFamilyWithPreprocess()\n"
   ],
   "id": "5b9f1150f9aab6ef",
   "outputs": [],
   "execution_count": 4
  },
  {
   "metadata": {},
   "cell_type": "markdown",
   "source": [
    "# 3 - Tuning process\n",
    "\n",
    "## 3.1 - Search space definition"
   ],
   "id": "f39b31348b8b3084"
  },
  {
   "metadata": {
    "ExecuteTime": {
     "end_time": "2024-05-16T16:53:03.934076Z",
     "start_time": "2024-05-16T16:53:03.930193Z"
    }
   },
   "cell_type": "code",
   "source": [
    "from keras_tuner import HyperParameters\n",
    "\n",
    "hyperparameters = HyperParameters()\n",
    "\n",
    "# To avoid a bug with the keras tuner generation that doesn't correctly register variables\n",
    "# If not done like this some iteration would be lost as we have no way of knowing some parameters.\n",
    "for i in range(4):\n",
    "    hyperparameters.Int(f\"filters_{i}\", min_value=16, max_value=256, step=2, sampling='log')\n",
    "    hyperparameters.Choice(f\"kernel_{i}\", values=[3, 5], default=3)\n",
    "\n",
    "hyperparameters.Int(name=f\"units_0\", min_value=32, max_value=256, step=2, sampling='log')\n",
    "hyperparameters.Int(name=f\"units_1\", min_value=32, max_value=256, step=2, sampling='log')"
   ],
   "id": "2480617a9dfd2d7a",
   "outputs": [
    {
     "data": {
      "text/plain": [
       "32"
      ]
     },
     "execution_count": 5,
     "metadata": {},
     "output_type": "execute_result"
    }
   ],
   "execution_count": 5
  },
  {
   "metadata": {
    "ExecuteTime": {
     "end_time": "2024-05-16T16:53:04.144990Z",
     "start_time": "2024-05-16T16:53:03.934762Z"
    }
   },
   "cell_type": "code",
   "source": [
    "from utils.my_tuner import HistoryDeletingBayesianOptimization\n",
    "from models.structure.learning_parameters.sgd_learning_parameters import SgdLearningParameters\n",
    "from models.structure.tunable_hypermodel import TunableHyperModel\n",
    "\n",
    "sgd_learning_parameters = SgdLearningParameters(learning_rate=default_values[\"learning_rate\"])\n",
    "hypermodel = TunableHyperModel(tunableConvNetworkFamily, sgd_learning_parameters, (3, 224, 224))\n",
    "\n",
    "tuner = HistoryDeletingBayesianOptimization(\n",
    "    hypermodel,\n",
    "    hyperparameters=hyperparameters,\n",
    "    objective='val_loss',\n",
    "    tune_new_entries=True,\n",
    "    overwrite=False,\n",
    "    directory=\"tuned_models\",\n",
    "    project_name=project_definition[\"name\"],\n",
    "    max_trials=15  # We do 15 now, 15 later and 15 later again. I split it so i can resume later\n",
    ")"
   ],
   "id": "9a65965dec0f1f55",
   "outputs": [
    {
     "name": "stdout",
     "output_type": "stream",
     "text": [
      "Given model is tunable\n"
     ]
    },
    {
     "data": {
      "text/plain": [
       "\u001B[1mModel: \"functional_5\"\u001B[0m\n"
      ],
      "text/html": [
       "<pre style=\"white-space:pre;overflow-x:auto;line-height:normal;font-family:Menlo,'DejaVu Sans Mono',consolas,'Courier New',monospace\"><span style=\"font-weight: bold\">Model: \"functional_5\"</span>\n",
       "</pre>\n"
      ]
     },
     "metadata": {},
     "output_type": "display_data"
    },
    {
     "data": {
      "text/plain": [
       "┏━━━━━━━━━━━━━━━━━━━━━━━━━━━━━━━━━┳━━━━━━━━━━━━━━━━━━━━━━━━┳━━━━━━━━━━━━━━━┓\n",
       "┃\u001B[1m \u001B[0m\u001B[1mLayer (type)                   \u001B[0m\u001B[1m \u001B[0m┃\u001B[1m \u001B[0m\u001B[1mOutput Shape          \u001B[0m\u001B[1m \u001B[0m┃\u001B[1m \u001B[0m\u001B[1m      Param #\u001B[0m\u001B[1m \u001B[0m┃\n",
       "┡━━━━━━━━━━━━━━━━━━━━━━━━━━━━━━━━━╇━━━━━━━━━━━━━━━━━━━━━━━━╇━━━━━━━━━━━━━━━┩\n",
       "│ TunableConvNetworkFamilyWithPr… │ (\u001B[38;5;45mNone\u001B[0m, \u001B[38;5;34m3\u001B[0m, \u001B[38;5;34m224\u001B[0m, \u001B[38;5;34m224\u001B[0m)    │             \u001B[38;5;34m0\u001B[0m │\n",
       "│ (\u001B[38;5;33mInputLayer\u001B[0m)                    │                        │               │\n",
       "├─────────────────────────────────┼────────────────────────┼───────────────┤\n",
       "│ functional_1 (\u001B[38;5;33mFunctional\u001B[0m)       │ (\u001B[38;5;45mNone\u001B[0m, \u001B[38;5;34m224\u001B[0m, \u001B[38;5;34m224\u001B[0m, \u001B[38;5;34m3\u001B[0m)    │             \u001B[38;5;34m0\u001B[0m │\n",
       "├─────────────────────────────────┼────────────────────────┼───────────────┤\n",
       "│    └                            │ (\u001B[38;5;45mNone\u001B[0m, \u001B[38;5;34m3\u001B[0m, \u001B[38;5;34m224\u001B[0m, \u001B[38;5;34m224\u001B[0m)    │             \u001B[38;5;34m0\u001B[0m │\n",
       "│ TunableConvNetworkFamilyWithPr… │                        │               │\n",
       "│ (\u001B[38;5;33mInputLayer\u001B[0m)                    │                        │               │\n",
       "├─────────────────────────────────┼────────────────────────┼───────────────┤\n",
       "│    └ permute (\u001B[38;5;33mPermute\u001B[0m)          │ (\u001B[38;5;45mNone\u001B[0m, \u001B[38;5;34m224\u001B[0m, \u001B[38;5;34m224\u001B[0m, \u001B[38;5;34m3\u001B[0m)    │             \u001B[38;5;34m0\u001B[0m │\n",
       "├─────────────────────────────────┼────────────────────────┼───────────────┤\n",
       "│    └ random_flip (\u001B[38;5;33mRandomFlip\u001B[0m)   │ (\u001B[38;5;45mNone\u001B[0m, \u001B[38;5;34m224\u001B[0m, \u001B[38;5;34m224\u001B[0m, \u001B[38;5;34m3\u001B[0m)    │             \u001B[38;5;34m0\u001B[0m │\n",
       "├─────────────────────────────────┼────────────────────────┼───────────────┤\n",
       "│    └ random_rotation            │ (\u001B[38;5;45mNone\u001B[0m, \u001B[38;5;34m224\u001B[0m, \u001B[38;5;34m224\u001B[0m, \u001B[38;5;34m3\u001B[0m)    │             \u001B[38;5;34m0\u001B[0m │\n",
       "│ (\u001B[38;5;33mRandomRotation\u001B[0m)                │                        │               │\n",
       "├─────────────────────────────────┼────────────────────────┼───────────────┤\n",
       "│    └ random_brightness          │ (\u001B[38;5;45mNone\u001B[0m, \u001B[38;5;34m224\u001B[0m, \u001B[38;5;34m224\u001B[0m, \u001B[38;5;34m3\u001B[0m)    │             \u001B[38;5;34m0\u001B[0m │\n",
       "│ (\u001B[38;5;33mRandomBrightness\u001B[0m)              │                        │               │\n",
       "├─────────────────────────────────┼────────────────────────┼───────────────┤\n",
       "│ functional_3 (\u001B[38;5;33mFunctional\u001B[0m)       │ (\u001B[38;5;45mNone\u001B[0m, \u001B[38;5;34m1\u001B[0m)              │     \u001B[38;5;34m6,423,041\u001B[0m │\n",
       "├─────────────────────────────────┼────────────────────────┼───────────────┤\n",
       "│    └                            │ (\u001B[38;5;45mNone\u001B[0m, \u001B[38;5;34m224\u001B[0m, \u001B[38;5;34m224\u001B[0m, \u001B[38;5;34m3\u001B[0m)    │             \u001B[38;5;34m0\u001B[0m │\n",
       "│ TunableConvNetworkFamilyWithPr… │                        │               │\n",
       "│ (\u001B[38;5;33mInputLayer\u001B[0m)                    │                        │               │\n",
       "├─────────────────────────────────┼────────────────────────┼───────────────┤\n",
       "│    └ conv2d (\u001B[38;5;33mConv2D\u001B[0m)            │ (\u001B[38;5;45mNone\u001B[0m, \u001B[38;5;34m224\u001B[0m, \u001B[38;5;34m224\u001B[0m, \u001B[38;5;34m16\u001B[0m)   │           \u001B[38;5;34m448\u001B[0m │\n",
       "├─────────────────────────────────┼────────────────────────┼───────────────┤\n",
       "│    └ max_pooling2d              │ (\u001B[38;5;45mNone\u001B[0m, \u001B[38;5;34m112\u001B[0m, \u001B[38;5;34m112\u001B[0m, \u001B[38;5;34m16\u001B[0m)   │             \u001B[38;5;34m0\u001B[0m │\n",
       "│ (\u001B[38;5;33mMaxPooling2D\u001B[0m)                  │                        │               │\n",
       "├─────────────────────────────────┼────────────────────────┼───────────────┤\n",
       "│    └ flatten (\u001B[38;5;33mFlatten\u001B[0m)          │ (\u001B[38;5;45mNone\u001B[0m, \u001B[38;5;34m200704\u001B[0m)         │             \u001B[38;5;34m0\u001B[0m │\n",
       "├─────────────────────────────────┼────────────────────────┼───────────────┤\n",
       "│    └ dense (\u001B[38;5;33mDense\u001B[0m)              │ (\u001B[38;5;45mNone\u001B[0m, \u001B[38;5;34m32\u001B[0m)             │     \u001B[38;5;34m6,422,560\u001B[0m │\n",
       "├─────────────────────────────────┼────────────────────────┼───────────────┤\n",
       "│    └ dense_1 (\u001B[38;5;33mDense\u001B[0m)            │ (\u001B[38;5;45mNone\u001B[0m, \u001B[38;5;34m1\u001B[0m)              │            \u001B[38;5;34m33\u001B[0m │\n",
       "└─────────────────────────────────┴────────────────────────┴───────────────┘\n"
      ],
      "text/html": [
       "<pre style=\"white-space:pre;overflow-x:auto;line-height:normal;font-family:Menlo,'DejaVu Sans Mono',consolas,'Courier New',monospace\">┏━━━━━━━━━━━━━━━━━━━━━━━━━━━━━━━━━┳━━━━━━━━━━━━━━━━━━━━━━━━┳━━━━━━━━━━━━━━━┓\n",
       "┃<span style=\"font-weight: bold\"> Layer (type)                    </span>┃<span style=\"font-weight: bold\"> Output Shape           </span>┃<span style=\"font-weight: bold\">       Param # </span>┃\n",
       "┡━━━━━━━━━━━━━━━━━━━━━━━━━━━━━━━━━╇━━━━━━━━━━━━━━━━━━━━━━━━╇━━━━━━━━━━━━━━━┩\n",
       "│ TunableConvNetworkFamilyWithPr… │ (<span style=\"color: #00d7ff; text-decoration-color: #00d7ff\">None</span>, <span style=\"color: #00af00; text-decoration-color: #00af00\">3</span>, <span style=\"color: #00af00; text-decoration-color: #00af00\">224</span>, <span style=\"color: #00af00; text-decoration-color: #00af00\">224</span>)    │             <span style=\"color: #00af00; text-decoration-color: #00af00\">0</span> │\n",
       "│ (<span style=\"color: #0087ff; text-decoration-color: #0087ff\">InputLayer</span>)                    │                        │               │\n",
       "├─────────────────────────────────┼────────────────────────┼───────────────┤\n",
       "│ functional_1 (<span style=\"color: #0087ff; text-decoration-color: #0087ff\">Functional</span>)       │ (<span style=\"color: #00d7ff; text-decoration-color: #00d7ff\">None</span>, <span style=\"color: #00af00; text-decoration-color: #00af00\">224</span>, <span style=\"color: #00af00; text-decoration-color: #00af00\">224</span>, <span style=\"color: #00af00; text-decoration-color: #00af00\">3</span>)    │             <span style=\"color: #00af00; text-decoration-color: #00af00\">0</span> │\n",
       "├─────────────────────────────────┼────────────────────────┼───────────────┤\n",
       "│    └                            │ (<span style=\"color: #00d7ff; text-decoration-color: #00d7ff\">None</span>, <span style=\"color: #00af00; text-decoration-color: #00af00\">3</span>, <span style=\"color: #00af00; text-decoration-color: #00af00\">224</span>, <span style=\"color: #00af00; text-decoration-color: #00af00\">224</span>)    │             <span style=\"color: #00af00; text-decoration-color: #00af00\">0</span> │\n",
       "│ TunableConvNetworkFamilyWithPr… │                        │               │\n",
       "│ (<span style=\"color: #0087ff; text-decoration-color: #0087ff\">InputLayer</span>)                    │                        │               │\n",
       "├─────────────────────────────────┼────────────────────────┼───────────────┤\n",
       "│    └ permute (<span style=\"color: #0087ff; text-decoration-color: #0087ff\">Permute</span>)          │ (<span style=\"color: #00d7ff; text-decoration-color: #00d7ff\">None</span>, <span style=\"color: #00af00; text-decoration-color: #00af00\">224</span>, <span style=\"color: #00af00; text-decoration-color: #00af00\">224</span>, <span style=\"color: #00af00; text-decoration-color: #00af00\">3</span>)    │             <span style=\"color: #00af00; text-decoration-color: #00af00\">0</span> │\n",
       "├─────────────────────────────────┼────────────────────────┼───────────────┤\n",
       "│    └ random_flip (<span style=\"color: #0087ff; text-decoration-color: #0087ff\">RandomFlip</span>)   │ (<span style=\"color: #00d7ff; text-decoration-color: #00d7ff\">None</span>, <span style=\"color: #00af00; text-decoration-color: #00af00\">224</span>, <span style=\"color: #00af00; text-decoration-color: #00af00\">224</span>, <span style=\"color: #00af00; text-decoration-color: #00af00\">3</span>)    │             <span style=\"color: #00af00; text-decoration-color: #00af00\">0</span> │\n",
       "├─────────────────────────────────┼────────────────────────┼───────────────┤\n",
       "│    └ random_rotation            │ (<span style=\"color: #00d7ff; text-decoration-color: #00d7ff\">None</span>, <span style=\"color: #00af00; text-decoration-color: #00af00\">224</span>, <span style=\"color: #00af00; text-decoration-color: #00af00\">224</span>, <span style=\"color: #00af00; text-decoration-color: #00af00\">3</span>)    │             <span style=\"color: #00af00; text-decoration-color: #00af00\">0</span> │\n",
       "│ (<span style=\"color: #0087ff; text-decoration-color: #0087ff\">RandomRotation</span>)                │                        │               │\n",
       "├─────────────────────────────────┼────────────────────────┼───────────────┤\n",
       "│    └ random_brightness          │ (<span style=\"color: #00d7ff; text-decoration-color: #00d7ff\">None</span>, <span style=\"color: #00af00; text-decoration-color: #00af00\">224</span>, <span style=\"color: #00af00; text-decoration-color: #00af00\">224</span>, <span style=\"color: #00af00; text-decoration-color: #00af00\">3</span>)    │             <span style=\"color: #00af00; text-decoration-color: #00af00\">0</span> │\n",
       "│ (<span style=\"color: #0087ff; text-decoration-color: #0087ff\">RandomBrightness</span>)              │                        │               │\n",
       "├─────────────────────────────────┼────────────────────────┼───────────────┤\n",
       "│ functional_3 (<span style=\"color: #0087ff; text-decoration-color: #0087ff\">Functional</span>)       │ (<span style=\"color: #00d7ff; text-decoration-color: #00d7ff\">None</span>, <span style=\"color: #00af00; text-decoration-color: #00af00\">1</span>)              │     <span style=\"color: #00af00; text-decoration-color: #00af00\">6,423,041</span> │\n",
       "├─────────────────────────────────┼────────────────────────┼───────────────┤\n",
       "│    └                            │ (<span style=\"color: #00d7ff; text-decoration-color: #00d7ff\">None</span>, <span style=\"color: #00af00; text-decoration-color: #00af00\">224</span>, <span style=\"color: #00af00; text-decoration-color: #00af00\">224</span>, <span style=\"color: #00af00; text-decoration-color: #00af00\">3</span>)    │             <span style=\"color: #00af00; text-decoration-color: #00af00\">0</span> │\n",
       "│ TunableConvNetworkFamilyWithPr… │                        │               │\n",
       "│ (<span style=\"color: #0087ff; text-decoration-color: #0087ff\">InputLayer</span>)                    │                        │               │\n",
       "├─────────────────────────────────┼────────────────────────┼───────────────┤\n",
       "│    └ conv2d (<span style=\"color: #0087ff; text-decoration-color: #0087ff\">Conv2D</span>)            │ (<span style=\"color: #00d7ff; text-decoration-color: #00d7ff\">None</span>, <span style=\"color: #00af00; text-decoration-color: #00af00\">224</span>, <span style=\"color: #00af00; text-decoration-color: #00af00\">224</span>, <span style=\"color: #00af00; text-decoration-color: #00af00\">16</span>)   │           <span style=\"color: #00af00; text-decoration-color: #00af00\">448</span> │\n",
       "├─────────────────────────────────┼────────────────────────┼───────────────┤\n",
       "│    └ max_pooling2d              │ (<span style=\"color: #00d7ff; text-decoration-color: #00d7ff\">None</span>, <span style=\"color: #00af00; text-decoration-color: #00af00\">112</span>, <span style=\"color: #00af00; text-decoration-color: #00af00\">112</span>, <span style=\"color: #00af00; text-decoration-color: #00af00\">16</span>)   │             <span style=\"color: #00af00; text-decoration-color: #00af00\">0</span> │\n",
       "│ (<span style=\"color: #0087ff; text-decoration-color: #0087ff\">MaxPooling2D</span>)                  │                        │               │\n",
       "├─────────────────────────────────┼────────────────────────┼───────────────┤\n",
       "│    └ flatten (<span style=\"color: #0087ff; text-decoration-color: #0087ff\">Flatten</span>)          │ (<span style=\"color: #00d7ff; text-decoration-color: #00d7ff\">None</span>, <span style=\"color: #00af00; text-decoration-color: #00af00\">200704</span>)         │             <span style=\"color: #00af00; text-decoration-color: #00af00\">0</span> │\n",
       "├─────────────────────────────────┼────────────────────────┼───────────────┤\n",
       "│    └ dense (<span style=\"color: #0087ff; text-decoration-color: #0087ff\">Dense</span>)              │ (<span style=\"color: #00d7ff; text-decoration-color: #00d7ff\">None</span>, <span style=\"color: #00af00; text-decoration-color: #00af00\">32</span>)             │     <span style=\"color: #00af00; text-decoration-color: #00af00\">6,422,560</span> │\n",
       "├─────────────────────────────────┼────────────────────────┼───────────────┤\n",
       "│    └ dense_1 (<span style=\"color: #0087ff; text-decoration-color: #0087ff\">Dense</span>)            │ (<span style=\"color: #00d7ff; text-decoration-color: #00d7ff\">None</span>, <span style=\"color: #00af00; text-decoration-color: #00af00\">1</span>)              │            <span style=\"color: #00af00; text-decoration-color: #00af00\">33</span> │\n",
       "└─────────────────────────────────┴────────────────────────┴───────────────┘\n",
       "</pre>\n"
      ]
     },
     "metadata": {},
     "output_type": "display_data"
    },
    {
     "data": {
      "text/plain": [
       "\u001B[1m Total params: \u001B[0m\u001B[38;5;34m6,423,041\u001B[0m (24.50 MB)\n"
      ],
      "text/html": [
       "<pre style=\"white-space:pre;overflow-x:auto;line-height:normal;font-family:Menlo,'DejaVu Sans Mono',consolas,'Courier New',monospace\"><span style=\"font-weight: bold\"> Total params: </span><span style=\"color: #00af00; text-decoration-color: #00af00\">6,423,041</span> (24.50 MB)\n",
       "</pre>\n"
      ]
     },
     "metadata": {},
     "output_type": "display_data"
    },
    {
     "data": {
      "text/plain": [
       "\u001B[1m Trainable params: \u001B[0m\u001B[38;5;34m6,423,041\u001B[0m (24.50 MB)\n"
      ],
      "text/html": [
       "<pre style=\"white-space:pre;overflow-x:auto;line-height:normal;font-family:Menlo,'DejaVu Sans Mono',consolas,'Courier New',monospace\"><span style=\"font-weight: bold\"> Trainable params: </span><span style=\"color: #00af00; text-decoration-color: #00af00\">6,423,041</span> (24.50 MB)\n",
       "</pre>\n"
      ]
     },
     "metadata": {},
     "output_type": "display_data"
    },
    {
     "data": {
      "text/plain": [
       "\u001B[1m Non-trainable params: \u001B[0m\u001B[38;5;34m0\u001B[0m (0.00 B)\n"
      ],
      "text/html": [
       "<pre style=\"white-space:pre;overflow-x:auto;line-height:normal;font-family:Menlo,'DejaVu Sans Mono',consolas,'Courier New',monospace\"><span style=\"font-weight: bold\"> Non-trainable params: </span><span style=\"color: #00af00; text-decoration-color: #00af00\">0</span> (0.00 B)\n",
       "</pre>\n"
      ]
     },
     "metadata": {},
     "output_type": "display_data"
    }
   ],
   "execution_count": 6
  },
  {
   "metadata": {},
   "cell_type": "markdown",
   "source": [
    "To avoid going on forever we use we callbacks:\n",
    "- Early Stopping\n",
    "- ThresholdStopCallback (custom)"
   ],
   "id": "85597c43bb2450f8"
  },
  {
   "metadata": {},
   "cell_type": "code",
   "source": [
    "import keras\n",
    "import callbacks.threshold_stop_cb\n",
    "\n",
    "tuner.search(train_dataloader, epochs=default_values[\"epochs\"], validation_data=validation_dataloader, callbacks=[\n",
    "    keras.callbacks.CSVLogger(f\"{project_definition['name']}_train.csv\", separator=\",\", append=True),\n",
    "    keras.callbacks.EarlyStopping(monitor='val_loss', patience=5, verbose=1, mode='min'),\n",
    "\n",
    "    callbacks.threshold_stop_cb.ThresholdStopCallback(1, 2),\n",
    "    callbacks.threshold_stop_cb.ThresholdStopCallback(0.6, 4),\n",
    "])"
   ],
   "id": "f43acc5cdc47e86a",
   "execution_count": 7,
   "outputs": [
    {
     "name": "stdout",
     "output_type": "stream",
     "text": [
      "Trial 15 Complete [00h 08m 44s]\n",
      "val_loss: 0.49977484345436096\n",
      "\n",
      "Best val_loss So Far: 0.23140113055706024\n",
      "Total elapsed time: 03h 42m 27s\n"
     ]
    }
   ]
  },
  {
   "metadata": {
    "ExecuteTime": {
     "end_time": "2024-05-16T20:46:28.537788Z",
     "start_time": "2024-05-16T20:46:28.532086Z"
    }
   },
   "cell_type": "code",
   "source": [
    "import pandas as pd\n",
    "\n",
    "trials = tuner.oracle.get_best_trials(num_trials=10)\n",
    "hyperparameters_frame = pd.DataFrame(\n",
    "    [trial.hyperparameters.get_config()[\"values\"] | {\"Score\": trial.score} for trial in trials]\n",
    ")\n",
    "\n",
    "hyperparameters_frame.to_csv(f\"{project_definition['name']}_results\", index=False)"
   ],
   "id": "543ba099e49a8f5",
   "outputs": [],
   "execution_count": 9
  },
  {
   "metadata": {
    "ExecuteTime": {
     "end_time": "2024-05-16T20:46:29.382914Z",
     "start_time": "2024-05-16T20:46:29.375761Z"
    }
   },
   "cell_type": "code",
   "source": "hyperparameters_frame",
   "id": "2860a07aec0714a7",
   "outputs": [
    {
     "data": {
      "text/plain": [
       "   filters_0  kernel_0  filters_1  kernel_1  filters_2  kernel_2  filters_3  \\\n",
       "0         32         3        256         3         32         5         32   \n",
       "1         32         3         64         5        256         3        256   \n",
       "2        128         3         64         5         32         3         16   \n",
       "3         64         3        128         5        256         5         16   \n",
       "4         64         3         64         5         32         5         16   \n",
       "5        128         3         32         3         32         5         32   \n",
       "6        128         3         16         3        256         5         64   \n",
       "7        128         3         32         5         16         5        256   \n",
       "8         64         5         64         5         16         3        256   \n",
       "9        128         5        256         3         16         3        256   \n",
       "\n",
       "   kernel_3  units_0  units_1  convolution_layers  hidden_layers     Score  \n",
       "0         5      128      128                   4              2  0.231401  \n",
       "1         5       32       32                   4              1  0.276838  \n",
       "2         5      256       64                   4              2  0.326729  \n",
       "3         5      128      256                   3              1  0.340135  \n",
       "4         3      256       32                   3              1  0.363358  \n",
       "5         3      128       64                   3              1  0.374502  \n",
       "6         3      128       64                   3              2  0.391342  \n",
       "7         3      128       64                   3              1  0.394137  \n",
       "8         3      256       32                   2              1  0.400090  \n",
       "9         3       32       32                   2              2  0.416033  "
      ],
      "text/html": [
       "<div>\n",
       "<style scoped>\n",
       "    .dataframe tbody tr th:only-of-type {\n",
       "        vertical-align: middle;\n",
       "    }\n",
       "\n",
       "    .dataframe tbody tr th {\n",
       "        vertical-align: top;\n",
       "    }\n",
       "\n",
       "    .dataframe thead th {\n",
       "        text-align: right;\n",
       "    }\n",
       "</style>\n",
       "<table border=\"1\" class=\"dataframe\">\n",
       "  <thead>\n",
       "    <tr style=\"text-align: right;\">\n",
       "      <th></th>\n",
       "      <th>filters_0</th>\n",
       "      <th>kernel_0</th>\n",
       "      <th>filters_1</th>\n",
       "      <th>kernel_1</th>\n",
       "      <th>filters_2</th>\n",
       "      <th>kernel_2</th>\n",
       "      <th>filters_3</th>\n",
       "      <th>kernel_3</th>\n",
       "      <th>units_0</th>\n",
       "      <th>units_1</th>\n",
       "      <th>convolution_layers</th>\n",
       "      <th>hidden_layers</th>\n",
       "      <th>Score</th>\n",
       "    </tr>\n",
       "  </thead>\n",
       "  <tbody>\n",
       "    <tr>\n",
       "      <th>0</th>\n",
       "      <td>32</td>\n",
       "      <td>3</td>\n",
       "      <td>256</td>\n",
       "      <td>3</td>\n",
       "      <td>32</td>\n",
       "      <td>5</td>\n",
       "      <td>32</td>\n",
       "      <td>5</td>\n",
       "      <td>128</td>\n",
       "      <td>128</td>\n",
       "      <td>4</td>\n",
       "      <td>2</td>\n",
       "      <td>0.231401</td>\n",
       "    </tr>\n",
       "    <tr>\n",
       "      <th>1</th>\n",
       "      <td>32</td>\n",
       "      <td>3</td>\n",
       "      <td>64</td>\n",
       "      <td>5</td>\n",
       "      <td>256</td>\n",
       "      <td>3</td>\n",
       "      <td>256</td>\n",
       "      <td>5</td>\n",
       "      <td>32</td>\n",
       "      <td>32</td>\n",
       "      <td>4</td>\n",
       "      <td>1</td>\n",
       "      <td>0.276838</td>\n",
       "    </tr>\n",
       "    <tr>\n",
       "      <th>2</th>\n",
       "      <td>128</td>\n",
       "      <td>3</td>\n",
       "      <td>64</td>\n",
       "      <td>5</td>\n",
       "      <td>32</td>\n",
       "      <td>3</td>\n",
       "      <td>16</td>\n",
       "      <td>5</td>\n",
       "      <td>256</td>\n",
       "      <td>64</td>\n",
       "      <td>4</td>\n",
       "      <td>2</td>\n",
       "      <td>0.326729</td>\n",
       "    </tr>\n",
       "    <tr>\n",
       "      <th>3</th>\n",
       "      <td>64</td>\n",
       "      <td>3</td>\n",
       "      <td>128</td>\n",
       "      <td>5</td>\n",
       "      <td>256</td>\n",
       "      <td>5</td>\n",
       "      <td>16</td>\n",
       "      <td>5</td>\n",
       "      <td>128</td>\n",
       "      <td>256</td>\n",
       "      <td>3</td>\n",
       "      <td>1</td>\n",
       "      <td>0.340135</td>\n",
       "    </tr>\n",
       "    <tr>\n",
       "      <th>4</th>\n",
       "      <td>64</td>\n",
       "      <td>3</td>\n",
       "      <td>64</td>\n",
       "      <td>5</td>\n",
       "      <td>32</td>\n",
       "      <td>5</td>\n",
       "      <td>16</td>\n",
       "      <td>3</td>\n",
       "      <td>256</td>\n",
       "      <td>32</td>\n",
       "      <td>3</td>\n",
       "      <td>1</td>\n",
       "      <td>0.363358</td>\n",
       "    </tr>\n",
       "    <tr>\n",
       "      <th>5</th>\n",
       "      <td>128</td>\n",
       "      <td>3</td>\n",
       "      <td>32</td>\n",
       "      <td>3</td>\n",
       "      <td>32</td>\n",
       "      <td>5</td>\n",
       "      <td>32</td>\n",
       "      <td>3</td>\n",
       "      <td>128</td>\n",
       "      <td>64</td>\n",
       "      <td>3</td>\n",
       "      <td>1</td>\n",
       "      <td>0.374502</td>\n",
       "    </tr>\n",
       "    <tr>\n",
       "      <th>6</th>\n",
       "      <td>128</td>\n",
       "      <td>3</td>\n",
       "      <td>16</td>\n",
       "      <td>3</td>\n",
       "      <td>256</td>\n",
       "      <td>5</td>\n",
       "      <td>64</td>\n",
       "      <td>3</td>\n",
       "      <td>128</td>\n",
       "      <td>64</td>\n",
       "      <td>3</td>\n",
       "      <td>2</td>\n",
       "      <td>0.391342</td>\n",
       "    </tr>\n",
       "    <tr>\n",
       "      <th>7</th>\n",
       "      <td>128</td>\n",
       "      <td>3</td>\n",
       "      <td>32</td>\n",
       "      <td>5</td>\n",
       "      <td>16</td>\n",
       "      <td>5</td>\n",
       "      <td>256</td>\n",
       "      <td>3</td>\n",
       "      <td>128</td>\n",
       "      <td>64</td>\n",
       "      <td>3</td>\n",
       "      <td>1</td>\n",
       "      <td>0.394137</td>\n",
       "    </tr>\n",
       "    <tr>\n",
       "      <th>8</th>\n",
       "      <td>64</td>\n",
       "      <td>5</td>\n",
       "      <td>64</td>\n",
       "      <td>5</td>\n",
       "      <td>16</td>\n",
       "      <td>3</td>\n",
       "      <td>256</td>\n",
       "      <td>3</td>\n",
       "      <td>256</td>\n",
       "      <td>32</td>\n",
       "      <td>2</td>\n",
       "      <td>1</td>\n",
       "      <td>0.400090</td>\n",
       "    </tr>\n",
       "    <tr>\n",
       "      <th>9</th>\n",
       "      <td>128</td>\n",
       "      <td>5</td>\n",
       "      <td>256</td>\n",
       "      <td>3</td>\n",
       "      <td>16</td>\n",
       "      <td>3</td>\n",
       "      <td>256</td>\n",
       "      <td>3</td>\n",
       "      <td>32</td>\n",
       "      <td>32</td>\n",
       "      <td>2</td>\n",
       "      <td>2</td>\n",
       "      <td>0.416033</td>\n",
       "    </tr>\n",
       "  </tbody>\n",
       "</table>\n",
       "</div>"
      ]
     },
     "execution_count": 10,
     "metadata": {},
     "output_type": "execute_result"
    }
   ],
   "execution_count": 10
  },
  {
   "metadata": {
    "ExecuteTime": {
     "end_time": "2024-05-16T20:46:58.330142Z",
     "start_time": "2024-05-16T20:46:58.326435Z"
    }
   },
   "cell_type": "code",
   "source": "tuner.results_summary()",
   "id": "d127de69399b5e8c",
   "outputs": [
    {
     "name": "stdout",
     "output_type": "stream",
     "text": [
      "Results summary\n",
      "Results in tuned_models/complete_search\n",
      "Showing 10 best trials\n",
      "Objective(name=\"val_loss\", direction=\"min\")\n",
      "\n",
      "Trial 02 summary\n",
      "Hyperparameters:\n",
      "filters_0: 32\n",
      "kernel_0: 3\n",
      "filters_1: 256\n",
      "kernel_1: 3\n",
      "filters_2: 32\n",
      "kernel_2: 5\n",
      "filters_3: 32\n",
      "kernel_3: 5\n",
      "units_0: 128\n",
      "units_1: 128\n",
      "convolution_layers: 4\n",
      "hidden_layers: 2\n",
      "Score: 0.23140113055706024\n",
      "\n",
      "Trial 01 summary\n",
      "Hyperparameters:\n",
      "filters_0: 32\n",
      "kernel_0: 3\n",
      "filters_1: 64\n",
      "kernel_1: 5\n",
      "filters_2: 256\n",
      "kernel_2: 3\n",
      "filters_3: 256\n",
      "kernel_3: 5\n",
      "units_0: 32\n",
      "units_1: 32\n",
      "convolution_layers: 4\n",
      "hidden_layers: 1\n",
      "Score: 0.2768384516239166\n",
      "\n",
      "Trial 12 summary\n",
      "Hyperparameters:\n",
      "filters_0: 128\n",
      "kernel_0: 3\n",
      "filters_1: 64\n",
      "kernel_1: 5\n",
      "filters_2: 32\n",
      "kernel_2: 3\n",
      "filters_3: 16\n",
      "kernel_3: 5\n",
      "units_0: 256\n",
      "units_1: 64\n",
      "convolution_layers: 4\n",
      "hidden_layers: 2\n",
      "Score: 0.3267289698123932\n",
      "\n",
      "Trial 05 summary\n",
      "Hyperparameters:\n",
      "filters_0: 64\n",
      "kernel_0: 3\n",
      "filters_1: 128\n",
      "kernel_1: 5\n",
      "filters_2: 256\n",
      "kernel_2: 5\n",
      "filters_3: 16\n",
      "kernel_3: 5\n",
      "units_0: 128\n",
      "units_1: 256\n",
      "convolution_layers: 3\n",
      "hidden_layers: 1\n",
      "Score: 0.3401351571083069\n",
      "\n",
      "Trial 13 summary\n",
      "Hyperparameters:\n",
      "filters_0: 64\n",
      "kernel_0: 3\n",
      "filters_1: 64\n",
      "kernel_1: 5\n",
      "filters_2: 32\n",
      "kernel_2: 5\n",
      "filters_3: 16\n",
      "kernel_3: 3\n",
      "units_0: 256\n",
      "units_1: 32\n",
      "convolution_layers: 3\n",
      "hidden_layers: 1\n",
      "Score: 0.36335790157318115\n",
      "\n",
      "Trial 10 summary\n",
      "Hyperparameters:\n",
      "filters_0: 128\n",
      "kernel_0: 3\n",
      "filters_1: 32\n",
      "kernel_1: 3\n",
      "filters_2: 32\n",
      "kernel_2: 5\n",
      "filters_3: 32\n",
      "kernel_3: 3\n",
      "units_0: 128\n",
      "units_1: 64\n",
      "convolution_layers: 3\n",
      "hidden_layers: 1\n",
      "Score: 0.37450212240219116\n",
      "\n",
      "Trial 11 summary\n",
      "Hyperparameters:\n",
      "filters_0: 128\n",
      "kernel_0: 3\n",
      "filters_1: 16\n",
      "kernel_1: 3\n",
      "filters_2: 256\n",
      "kernel_2: 5\n",
      "filters_3: 64\n",
      "kernel_3: 3\n",
      "units_0: 128\n",
      "units_1: 64\n",
      "convolution_layers: 3\n",
      "hidden_layers: 2\n",
      "Score: 0.39134201407432556\n",
      "\n",
      "Trial 07 summary\n",
      "Hyperparameters:\n",
      "filters_0: 128\n",
      "kernel_0: 3\n",
      "filters_1: 32\n",
      "kernel_1: 5\n",
      "filters_2: 16\n",
      "kernel_2: 5\n",
      "filters_3: 256\n",
      "kernel_3: 3\n",
      "units_0: 128\n",
      "units_1: 64\n",
      "convolution_layers: 3\n",
      "hidden_layers: 1\n",
      "Score: 0.39413711428642273\n",
      "\n",
      "Trial 04 summary\n",
      "Hyperparameters:\n",
      "filters_0: 64\n",
      "kernel_0: 5\n",
      "filters_1: 64\n",
      "kernel_1: 5\n",
      "filters_2: 16\n",
      "kernel_2: 3\n",
      "filters_3: 256\n",
      "kernel_3: 3\n",
      "units_0: 256\n",
      "units_1: 32\n",
      "convolution_layers: 2\n",
      "hidden_layers: 1\n",
      "Score: 0.4000900685787201\n",
      "\n",
      "Trial 06 summary\n",
      "Hyperparameters:\n",
      "filters_0: 128\n",
      "kernel_0: 5\n",
      "filters_1: 256\n",
      "kernel_1: 3\n",
      "filters_2: 16\n",
      "kernel_2: 3\n",
      "filters_3: 256\n",
      "kernel_3: 3\n",
      "units_0: 32\n",
      "units_1: 32\n",
      "convolution_layers: 2\n",
      "hidden_layers: 2\n",
      "Score: 0.41603270173072815\n"
     ]
    }
   ],
   "execution_count": 12
  },
  {
   "metadata": {},
   "cell_type": "code",
   "outputs": [],
   "execution_count": null,
   "source": "## TODO GO ON WITH RESULTS",
   "id": "ecbc29298b3ffcd9"
  }
 ],
 "metadata": {
  "kernelspec": {
   "display_name": "Python 3",
   "language": "python",
   "name": "python3"
  },
  "language_info": {
   "codemirror_mode": {
    "name": "ipython",
    "version": 2
   },
   "file_extension": ".py",
   "mimetype": "text/x-python",
   "name": "python",
   "nbconvert_exporter": "python",
   "pygments_lexer": "ipython2",
   "version": "2.7.6"
  }
 },
 "nbformat": 4,
 "nbformat_minor": 5
}
