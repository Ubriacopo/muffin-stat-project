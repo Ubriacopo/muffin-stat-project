{
 "cells": [
  {
   "cell_type": "code",
   "id": "initial_id",
   "metadata": {
    "collapsed": true,
    "ExecuteTime": {
     "end_time": "2024-05-17T21:10:01.166704Z",
     "start_time": "2024-05-17T21:10:01.164788Z"
    }
   },
   "source": "default_values = {\"batch_size\": 32, \"epochs\": 20, \"learning_rate\": 1e-2}",
   "execution_count": 1,
   "outputs": []
  },
  {
   "metadata": {},
   "cell_type": "markdown",
   "source": [
    "The goal of this procedure is to find a good structure for the network that by hand we might not\n",
    "find as the process is all but trivial. We begin by finding good networks, we select one or two and then we tune the learning hyperparameters.\n",
    "\n",
    "This kind of approach seems to be very popular"
   ],
   "id": "54ddf0304ffa5927"
  },
  {
   "metadata": {},
   "cell_type": "markdown",
   "source": "# 1- Load data",
   "id": "bc0cf79459f32963"
  },
  {
   "metadata": {
    "ExecuteTime": {
     "end_time": "2024-05-17T06:02:14.541361Z",
     "start_time": "2024-05-17T06:02:14.539446Z"
    }
   },
   "cell_type": "code",
   "source": "project_definition: dict[str, any] = {\"name\": \"complete_search\"}",
   "id": "6e980260e226f350",
   "execution_count": 2,
   "outputs": []
  },
  {
   "metadata": {
    "ExecuteTime": {
     "end_time": "2024-05-17T06:02:16.271013Z",
     "start_time": "2024-05-17T06:02:14.549968Z"
    }
   },
   "cell_type": "code",
   "source": [
    "import models.structure.base_model_wrapper\n",
    "from dataset.k_fold_dataset_wrapper import KFoldDatasetWrapper\n",
    "from torch.utils.data import DataLoader\n",
    "from dataset.dataset_loader import dataset_loader\n",
    "\n",
    "train, test = dataset_loader((224, 224), is_grayscale=False)\n",
    "\n",
    "# We take 20% of train as validation. \n",
    "dataset_split_controller = KFoldDatasetWrapper(5)\n",
    "dataset_split_controller.load_data(train)\n",
    "\n",
    "local_train, validation = dataset_split_controller.get_data_for_fold(0)\n",
    "\n",
    "train_dataloader = DataLoader(dataset=local_train, batch_size=default_values[\"batch_size\"], shuffle=True)\n",
    "validation_dataloader = DataLoader(dataset=validation, batch_size=default_values[\"batch_size\"], shuffle=True)\n",
    "test_dataloader = DataLoader(dataset=test, batch_size=default_values[\"batch_size\"], shuffle=True)"
   ],
   "id": "e27cb91abc38e4d5",
   "execution_count": 3,
   "outputs": []
  },
  {
   "metadata": {},
   "cell_type": "markdown",
   "source": [
    "# 2 - Model family definition\n",
    "The model family is defined in the file ```conv_network_structure.py``` as ```ConvNetworkStructure```. To work with my custom implementation of the keras hypermodel\n",
    "I extended it to be ```TunableConvNetworkStructure```"
   ],
   "id": "6ded04e414e8ce56"
  },
  {
   "metadata": {
    "ExecuteTime": {
     "end_time": "2024-05-17T06:02:16.538454Z",
     "start_time": "2024-05-17T06:02:16.271930Z"
    }
   },
   "cell_type": "code",
   "source": [
    "from models.structure.augmentation_wrapper import CustomInvertedAugmentationWrapper\n",
    "from conv_network_structure import TunableConvNetworkStructure\n",
    "\n",
    "\n",
    "# Cannot use augmentation as time is CPU then?\n",
    "class TunableConvNetworkFamilyWithPreprocess(TunableConvNetworkStructure, CustomInvertedAugmentationWrapper):\n",
    "    pass\n",
    "\n",
    "\n",
    "tunableConvNetworkFamily = TunableConvNetworkFamilyWithPreprocess()"
   ],
   "id": "5b9f1150f9aab6ef",
   "execution_count": 4,
   "outputs": []
  },
  {
   "metadata": {},
   "cell_type": "markdown",
   "source": [
    "# 3 - Tuning process\n",
    "\n",
    "## 3.1 - Search space definition"
   ],
   "id": "f39b31348b8b3084"
  },
  {
   "metadata": {
    "ExecuteTime": {
     "end_time": "2024-05-17T06:02:16.544169Z",
     "start_time": "2024-05-17T06:02:16.539133Z"
    }
   },
   "cell_type": "code",
   "source": [
    "from keras_tuner import HyperParameters\n",
    "\n",
    "hyperparameters = HyperParameters()\n",
    "\n",
    "# To avoid a bug with the keras tuner generation that doesn't correctly register variables\n",
    "# If not done like this some iteration would be lost as we have no way of knowing some parameters.\n",
    "for i in range(4):\n",
    "    hyperparameters.Int(f\"filters_{i}\", min_value=16, max_value=256, step=2, sampling='log')\n",
    "    hyperparameters.Choice(f\"kernel_{i}\", values=[3, 5], default=3)\n",
    "\n",
    "hyperparameters.Int(name=f\"units_0\", min_value=32, max_value=256, step=2, sampling='log')\n",
    "hyperparameters.Int(name=f\"units_1\", min_value=32, max_value=256, step=2, sampling='log')"
   ],
   "id": "2480617a9dfd2d7a",
   "execution_count": 5,
   "outputs": []
  },
  {
   "metadata": {},
   "cell_type": "markdown",
   "source": "## 3.2 - Tuning procedure",
   "id": "3f435b76aa77ae7a"
  },
  {
   "metadata": {
    "ExecuteTime": {
     "end_time": "2024-05-17T06:02:16.558750Z",
     "start_time": "2024-05-17T06:02:16.545282Z"
    }
   },
   "cell_type": "code",
   "source": [
    "from utils.my_tuner import HistoryDeletingBayesianOptimization\n",
    "from models.structure.learning_parameters.sgd_learning_parameters import SgdLearningParameters\n",
    "from models.structure.tunable_hypermodel import TunableHyperModel\n",
    "\n",
    "sgd_learning_parameters = SgdLearningParameters(learning_rate=default_values[\"learning_rate\"])\n",
    "hypermodel = TunableHyperModel(tunableConvNetworkFamily, sgd_learning_parameters, (3, 224, 224))\n",
    "\n",
    "tuner = HistoryDeletingBayesianOptimization(\n",
    "    hypermodel,\n",
    "    hyperparameters=hyperparameters,\n",
    "    objective='val_loss',\n",
    "    tune_new_entries=True,\n",
    "    overwrite=False,\n",
    "    directory=\"tuned_models\",\n",
    "    project_name=project_definition[\"name\"],\n",
    "    max_trials=40  # We do 15 now, 15 later and 15 later again. I split it so i can resume later\n",
    ")"
   ],
   "id": "9a65965dec0f1f55",
   "execution_count": 6,
   "outputs": []
  },
  {
   "metadata": {},
   "cell_type": "markdown",
   "source": [
    "To avoid going on forever we use we callbacks:\n",
    "- Early Stopping\n",
    "- ThresholdStopCallback (custom)"
   ],
   "id": "85597c43bb2450f8"
  },
  {
   "metadata": {},
   "cell_type": "code",
   "source": [
    "import keras\n",
    "import callbacks.threshold_stop_cb\n",
    "\n",
    "tuner.search(train_dataloader, epochs=default_values[\"epochs\"], validation_data=validation_dataloader, callbacks=[\n",
    "    keras.callbacks.CSVLogger(f\"{project_definition['name']}_train.csv\", separator=\",\", append=True),\n",
    "    keras.callbacks.EarlyStopping(monitor='val_loss', patience=5, verbose=1, mode='min'),\n",
    "\n",
    "    callbacks.threshold_stop_cb.ThresholdStopCallback(1, 2),\n",
    "    callbacks.threshold_stop_cb.ThresholdStopCallback(0.6, 4),\n",
    "])"
   ],
   "id": "f43acc5cdc47e86a",
   "execution_count": 7,
   "outputs": []
  },
  {
   "metadata": {
    "ExecuteTime": {
     "end_time": "2024-05-17T13:56:20.021525Z",
     "start_time": "2024-05-17T13:56:20.015875Z"
    }
   },
   "cell_type": "code",
   "source": [
    "import pandas as pd\n",
    "\n",
    "trials = tuner.oracle.get_best_trials(num_trials=40)\n",
    "hyperparameters_frame = pd.DataFrame(\n",
    "    [trial.hyperparameters.get_config()[\"values\"] | {\"Score\": trial.score} | {\"Trial\": trial.trial_id} for trial in\n",
    "     trials]\n",
    ")\n",
    "\n",
    "hyperparameters_frame.to_csv(f\"{project_definition['name']}_results.csv\", index=False)"
   ],
   "id": "543ba099e49a8f5",
   "execution_count": 39,
   "outputs": []
  },
  {
   "metadata": {
    "ExecuteTime": {
     "end_time": "2024-05-17T13:56:21.106405Z",
     "start_time": "2024-05-17T13:56:21.098284Z"
    }
   },
   "cell_type": "code",
   "source": "hyperparameters_frame",
   "id": "2860a07aec0714a7",
   "execution_count": 40,
   "outputs": []
  },
  {
   "metadata": {
    "ExecuteTime": {
     "end_time": "2024-05-17T14:03:36.034651Z",
     "start_time": "2024-05-17T14:03:36.010540Z"
    }
   },
   "cell_type": "code",
   "source": [
    "import plotly.express as px\n",
    "\n",
    "fig = px.density_heatmap(hyperparameters_frame, x=\"convolution_layers\", y=\"Score\",\n",
    "                         nbinsx=4, nbinsy=20, color_continuous_scale=\"Viridis\", text_auto=True)\n",
    "fig.show()"
   ],
   "id": "4e298e18511c40fa",
   "execution_count": 61,
   "outputs": []
  },
  {
   "metadata": {
    "ExecuteTime": {
     "end_time": "2024-05-17T14:04:40.974589Z",
     "start_time": "2024-05-17T14:04:40.955009Z"
    }
   },
   "cell_type": "code",
   "source": [
    "fig = px.density_heatmap(hyperparameters_frame, x=\"hidden_layers\", y=\"Score\",\n",
    "                         nbinsx=2, nbinsy=20, color_continuous_scale=\"Viridis\", text_auto=True)\n",
    "fig.show()"
   ],
   "id": "7dda4de25ec23888",
   "execution_count": 63,
   "outputs": []
  },
  {
   "metadata": {},
   "cell_type": "markdown",
   "source": "## 3.3 - Results",
   "id": "9be25180d5a3766f"
  },
  {
   "metadata": {
    "ExecuteTime": {
     "end_time": "2024-05-17T13:40:08.680162Z",
     "start_time": "2024-05-17T13:40:08.389435Z"
    }
   },
   "cell_type": "code",
   "source": [
    "from utils.data_processing import make_loss_graphs, make_loss_accuracy_graphs, add_tuner_iteration_to_data\n",
    "import pandas\n",
    "\n",
    "csv = pandas.read_csv(f\"{project_definition['name']}_train.csv\")\n",
    "add_tuner_iteration_to_data(csv)\n",
    "\n",
    "loss_graph = make_loss_graphs(csv)\n",
    "acc_graph = make_loss_accuracy_graphs(csv)\n",
    "\n",
    "loss_graph.update_layout(title=\"Loss vs Val_loss in tuner search per epoch (Val dashed)\").show()\n",
    "acc_graph.update_layout(title=\"Accuracy vs Val_Accuracy in tuner search per epoch (Val dashed)\").show()"
   ],
   "id": "62e86f16356e740f",
   "execution_count": 14,
   "outputs": []
  },
  {
   "metadata": {
    "ExecuteTime": {
     "end_time": "2024-05-17T13:40:10.546362Z",
     "start_time": "2024-05-17T13:40:10.540701Z"
    }
   },
   "cell_type": "code",
   "source": "csv",
   "id": "1f6317b7da2cde1e",
   "execution_count": 15,
   "outputs": []
  },
  {
   "metadata": {},
   "cell_type": "markdown",
   "source": "",
   "id": "7fb37d8f739f289c"
  },
  {
   "metadata": {
    "ExecuteTime": {
     "end_time": "2024-05-17T14:05:34.902299Z",
     "start_time": "2024-05-17T14:05:34.779147Z"
    }
   },
   "cell_type": "code",
   "source": [
    "best_tuner_results = csv.query(\"tuner_iteration in [2, 1, 25, 16, 32]\")\n",
    "loss_graph = make_loss_graphs(best_tuner_results)\n",
    "acc_graph = make_loss_accuracy_graphs(best_tuner_results)\n",
    "\n",
    "loss_graph.update_layout(title=\"Loss vs Val_loss in tuner search per epoch (Val dashed)\").show()\n",
    "acc_graph.update_layout(title=\"Accuracy vs Val_Accuracy in tuner search per epoch (Val dashed)\").show()"
   ],
   "id": "2845539303cbfa74",
   "execution_count": 64,
   "outputs": []
  },
  {
   "metadata": {},
   "cell_type": "code",
   "execution_count": null,
   "source": [
    "# The best model is 1. So we retrain that one. We now need to estimate lr, epochs and batch size.\n",
    "# We avoid doing epochs as we will use the early stopping technique."
   ],
   "id": "6d79e2370722ee39",
   "outputs": []
  },
  {
   "metadata": {},
   "cell_type": "markdown",
   "source": "# 4 - Best found model",
   "id": "130ebb88319d389"
  },
  {
   "metadata": {
    "ExecuteTime": {
     "end_time": "2024-05-17T21:46:55.598195Z",
     "start_time": "2024-05-17T21:46:55.596182Z"
    }
   },
   "cell_type": "code",
   "source": "default_values = {\"batch_size\": 32, \"epochs\": 20, \"learning_rate\": 1e-2}",
   "id": "a7d068ccdcd7491",
   "execution_count": 1,
   "outputs": []
  },
  {
   "metadata": {
    "ExecuteTime": {
     "end_time": "2024-05-17T21:46:57.626298Z",
     "start_time": "2024-05-17T21:46:55.792428Z"
    }
   },
   "cell_type": "code",
   "source": [
    "import models.structure.base_model_wrapper\n",
    "from dataset.k_fold_dataset_wrapper import KFoldDatasetWrapper\n",
    "from torch.utils.data import DataLoader\n",
    "from dataset.dataset_loader import dataset_loader\n",
    "\n",
    "train, test = dataset_loader((224, 224))\n",
    "\n",
    "# We take 20% of train as validation. \n",
    "dataset_split_controller = KFoldDatasetWrapper(5)\n",
    "dataset_split_controller.load_data(train)\n",
    "\n",
    "local_train, validation = dataset_split_controller.get_data_for_fold(0)\n",
    "\n",
    "train_dataloader = DataLoader(dataset=local_train, batch_size=default_values[\"batch_size\"], shuffle=True)\n",
    "validation_dataloader = DataLoader(dataset=validation, batch_size=default_values[\"batch_size\"], shuffle=True)\n",
    "test_dataloader = DataLoader(dataset=test, batch_size=default_values[\"batch_size\"], shuffle=True)"
   ],
   "id": "60e7f3362e88aefa",
   "execution_count": 2,
   "outputs": []
  },
  {
   "metadata": {},
   "cell_type": "markdown",
   "source": "## 4.1 - Model definition",
   "id": "b9bf2f85c7ea8243"
  },
  {
   "metadata": {
    "ExecuteTime": {
     "end_time": "2024-05-17T21:10:09.016690Z",
     "start_time": "2024-05-17T21:10:08.948953Z"
    }
   },
   "cell_type": "code",
   "source": [
    "import pandas\n",
    "\n",
    "parameters = pandas.read_csv(f\"{project_definition['name']}_results.csv\")"
   ],
   "id": "e825ab44ffb3149f",
   "execution_count": 3,
   "outputs": []
  },
  {
   "metadata": {
    "ExecuteTime": {
     "end_time": "2024-05-17T15:17:05.901997Z",
     "start_time": "2024-05-17T15:17:05.895871Z"
    }
   },
   "cell_type": "code",
   "source": "parameters.head(1)",
   "id": "5b77136744120f80",
   "execution_count": 72,
   "outputs": []
  },
  {
   "metadata": {
    "ExecuteTime": {
     "end_time": "2024-05-17T21:46:57.893799Z",
     "start_time": "2024-05-17T21:46:57.627030Z"
    }
   },
   "cell_type": "code",
   "source": [
    "from conv_network_structure import ConvNetworkStructure\n",
    "from models.structure.augmentation_wrapper import CustomInvertedAugmentationWrapper, NormalizedInvertedAugmentation\n",
    "\n",
    "from models.structure.layer_structure_data import ConvLayerStructure, PoolLayerStructure, HiddenLayerStructure, \\\n",
    "    DropoutLayerStructure\n",
    "\n",
    "\n",
    "class BestFoundModel(ConvNetworkStructure, CustomInvertedAugmentationWrapper):\n",
    "    convolutional_layers: tuple = [\n",
    "        ConvLayerStructure((3, 3), 32),\n",
    "        PoolLayerStructure.default(),\n",
    "        ConvLayerStructure((3, 3), 256),\n",
    "        PoolLayerStructure.default(),\n",
    "        ConvLayerStructure((5, 5), 32),\n",
    "        PoolLayerStructure.default(),\n",
    "        ConvLayerStructure((5, 5), 32),\n",
    "        PoolLayerStructure.default(),\n",
    "    ]\n",
    "\n",
    "    dense_layers: tuple = [\n",
    "        HiddenLayerStructure(128),\n",
    "        HiddenLayerStructure(128)\n",
    "    ]"
   ],
   "id": "4d3fb9bc4ec24cb",
   "execution_count": 3,
   "outputs": []
  },
  {
   "metadata": {},
   "cell_type": "markdown",
   "source": "## 4.2 - Learning parameters tuning\n",
   "id": "d29086a7b52c3951"
  },
  {
   "metadata": {
    "ExecuteTime": {
     "end_time": "2024-05-17T22:28:57.755363Z",
     "start_time": "2024-05-17T22:28:24.655017Z"
    }
   },
   "cell_type": "code",
   "source": [
    "import torchvision\n",
    "from dataset.dataset_loader import mean_calculator\n",
    "from models.structure.learning_parameters.sgd_learning_parameters import SgdLearningParameters\n",
    "sgd_learning_parameters = SgdLearningParameters(learning_rate=default_values[\"learning_rate\"])\n",
    "\n",
    "model_generator = BestFoundModel()\n",
    "means, variances = mean_calculator(local_train)\n",
    "\n"
   ],
   "id": "4ad3c3e9d536ae70",
   "execution_count": 9,
   "outputs": []
  },
  {
   "metadata": {
    "ExecuteTime": {
     "end_time": "2024-05-17T22:29:53.182308Z",
     "start_time": "2024-05-17T22:29:53.180087Z"
    }
   },
   "cell_type": "code",
   "source": [
    "\n",
    "local_train.datasets[0].transform = torchvision.transforms.Compose([\n",
    "    torchvision.transforms.Normalize(mean=means, std=variances)\n",
    "])"
   ],
   "id": "c6e0943e600df4b",
   "execution_count": 11,
   "outputs": []
  },
  {
   "metadata": {},
   "cell_type": "markdown",
   "source": "",
   "id": "232bc040f0b491b3"
  },
  {
   "metadata": {
    "ExecuteTime": {
     "end_time": "2024-05-17T22:34:34.203392Z",
     "start_time": "2024-05-17T22:34:34.201239Z"
    }
   },
   "cell_type": "code",
   "source": "local_train.datasets[2].dataset.transform = torchvision.transforms.Compose([local_train.datasets[2].dataset.transform,     torchvision.transforms.Normalize(mean=means, std=variances)])",
   "id": "29cf09a07d1d231b",
   "execution_count": 26,
   "outputs": []
  },
  {
   "metadata": {
    "ExecuteTime": {
     "end_time": "2024-05-17T22:34:38.957999Z",
     "start_time": "2024-05-17T22:34:38.954341Z"
    }
   },
   "cell_type": "code",
   "source": "local_train.datasets[2].dataset.transform",
   "id": "f47e2e31339feff9",
   "execution_count": 27,
   "outputs": []
  },
  {
   "metadata": {
    "ExecuteTime": {
     "end_time": "2024-05-17T22:30:42.615520Z",
     "start_time": "2024-05-17T22:30:42.570726Z"
    }
   },
   "cell_type": "code",
   "source": [
    "train_dataloader = DataLoader(dataset=local_train, batch_size=default_values[\"batch_size\"], shuffle=True)\n",
    "\n",
    "model_generator.load_dataset_means_and_stds(means, variances)\n",
    "model = model_generator.make_model((3, 224, 224))\n",
    "\n",
    "sgd_learning_parameters.compile_model(model)\n",
    "\n",
    "model.summary()"
   ],
   "id": "1d05d1a164b7d3f5",
   "execution_count": 12,
   "outputs": []
  },
  {
   "metadata": {
    "ExecuteTime": {
     "end_time": "2024-05-17T22:30:43.438238Z",
     "start_time": "2024-05-17T22:30:43.435158Z"
    }
   },
   "cell_type": "code",
   "source": "variances",
   "id": "a16b04003dafb153",
   "execution_count": 13,
   "outputs": []
  },
  {
   "metadata": {
    "ExecuteTime": {
     "end_time": "2024-05-17T22:30:55.614213Z",
     "start_time": "2024-05-17T22:30:43.713564Z"
    }
   },
   "cell_type": "code",
   "source": [
    "import keras\n",
    "model.fit(train_dataloader, validation_data=validation_dataloader, epochs=default_values[\"epochs\"], callbacks=[\n",
    "    keras.callbacks.EarlyStopping(monitor='val_loss', patience=5, verbose=1, mode='min'),\n",
    "])"
   ],
   "id": "ae72e3e180fa69fa",
   "execution_count": 14,
   "outputs": []
  },
  {
   "metadata": {
    "ExecuteTime": {
     "end_time": "2024-05-17T22:04:39.529255Z",
     "start_time": "2024-05-17T21:47:41.033191Z"
    }
   },
   "cell_type": "code",
   "source": [
    "import keras\n",
    "model.fit(train_dataloader, validation_data=validation_dataloader, epochs=default_values[\"epochs\"], callbacks=[\n",
    "    keras.callbacks.EarlyStopping(monitor='val_loss', patience=5, verbose=1, mode='min'),\n",
    "])"
   ],
   "id": "65a2da85fe0edf59",
   "execution_count": 7,
   "outputs": []
  },
  {
   "metadata": {
    "ExecuteTime": {
     "end_time": "2024-05-17T22:12:13.377977Z",
     "start_time": "2024-05-17T22:12:02.002774Z"
    }
   },
   "cell_type": "code",
   "source": "model.evaluate(test_dataloader)",
   "id": "59b91a6d8ab6b32b",
   "execution_count": 8,
   "outputs": []
  },
  {
   "metadata": {},
   "cell_type": "markdown",
   "source": "## 4.3 - k-fold CV for estimating the expected model",
   "id": "f31902287315fac2"
  },
  {
   "metadata": {},
   "cell_type": "code",
   "execution_count": null,
   "source": "",
   "id": "8f33f14152240647",
   "outputs": []
  }
 ],
 "metadata": {
  "kernelspec": {
   "display_name": "Python 3",
   "language": "python",
   "name": "python3"
  },
  "language_info": {
   "codemirror_mode": {
    "name": "ipython",
    "version": 2
   },
   "file_extension": ".py",
   "mimetype": "text/x-python",
   "name": "python",
   "nbconvert_exporter": "python",
   "pygments_lexer": "ipython2",
   "version": "2.7.6"
  }
 },
 "nbformat": 4,
 "nbformat_minor": 5
}
