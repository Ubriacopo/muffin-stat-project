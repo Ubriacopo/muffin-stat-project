{
 "cells": [
  {
   "cell_type": "code",
   "source": [
    "import os\n",
    "# Why Torch? You'll find the answer in the .md files! \n",
    "os.environ[\"KERAS_BACKEND\"] = \"torch\""
   ],
   "metadata": {
    "collapsed": false,
    "ExecuteTime": {
     "end_time": "2024-03-06T16:08:42.603385Z",
     "start_time": "2024-03-06T16:08:42.601514Z"
    }
   },
   "id": "7811de1c1a493eba",
   "execution_count": 1,
   "outputs": []
  },
  {
   "cell_type": "code",
   "source": [
    "import torch\n",
    "\n",
    "torch.cuda.is_available()"
   ],
   "metadata": {
    "collapsed": false,
    "ExecuteTime": {
     "end_time": "2024-03-06T16:08:43.903648Z",
     "start_time": "2024-03-06T16:08:43.152078Z"
    }
   },
   "id": "f8588985bc8dd55c",
   "execution_count": 2,
   "outputs": []
  },
  {
   "cell_type": "markdown",
   "source": [],
   "metadata": {
    "collapsed": false
   },
   "id": "7822445afc86485a"
  },
  {
   "cell_type": "code",
   "source": [
    "# Data loading\n",
    "from torch.utils.data import DataLoader\n",
    "from torchvision import datasets\n",
    "from torchvision import transforms\n",
    "\n",
    "# Image size? todo ritornare a 128x128?\n",
    "full_train_dataset = datasets.ImageFolder(\"../data/train\", transform=transforms.Compose([\n",
    "    transforms.Resize((224, 224)), transforms.ToTensor()\n",
    "]))\n",
    "\n",
    "validation_dataset = datasets.ImageFolder(\"../data/test/\", transform=transforms.Compose([\n",
    "    transforms.Resize((224, 224)), transforms.ToTensor()\n",
    "]))"
   ],
   "metadata": {
    "collapsed": false,
    "ExecuteTime": {
     "end_time": "2024-03-06T16:08:45.511028Z",
     "start_time": "2024-03-06T16:08:44.888860Z"
    }
   },
   "id": "a8de3dc5603876b3",
   "execution_count": 3,
   "outputs": []
  },
  {
   "cell_type": "code",
   "source": [
    "# Pre processing load\n",
    "from utils import pre_processing\n",
    "\n",
    "sequential_pre_processing_procedure = pre_processing.AugmentationFactory.make_complete_procedure_keras()"
   ],
   "metadata": {
    "collapsed": false,
    "ExecuteTime": {
     "end_time": "2024-03-06T16:08:47.190275Z",
     "start_time": "2024-03-06T16:08:47.066972Z"
    }
   },
   "id": "d771ef5cde65d181",
   "execution_count": 4,
   "outputs": []
  },
  {
   "cell_type": "markdown",
   "source": [
    "# K-FOLD Loading\n",
    "We load data and check if functions work as intended"
   ],
   "metadata": {
    "collapsed": false
   },
   "id": "166b836e9500536b"
  },
  {
   "cell_type": "code",
   "source": [
    "## Naive Model Summary\n",
    "from models.naive_dnn_gen.naive_dnn import NaiveDnn\n",
    "from models.simple_cnn.simple_cnn import SimpleCNN\n",
    "naive_model = SimpleCNN((224, 224, 3), 2, augmentation_procedure=sequential_pre_processing_procedure)\n",
    "\n",
    "graph = naive_model.build_graph()\n",
    "graph.summary()"
   ],
   "metadata": {
    "collapsed": false,
    "ExecuteTime": {
     "end_time": "2024-03-06T16:08:53.046276Z",
     "start_time": "2024-03-06T16:08:53.025994Z"
    }
   },
   "id": "31a65e03f062c680",
   "execution_count": 5,
   "outputs": []
  },
  {
   "cell_type": "code",
   "source": [
    "import gc\n",
    "from k_fold_cv.k_fold_generator import KFoldController\n",
    "from models.naive_dnn_gen.naive_dnn import NaiveDnn\n",
    "from models.simple_cnn.simple_cnn import SimpleCNN\n",
    "from callbacks import learning_rate_reschedule\n",
    "import keras\n",
    "from keras import backend\n",
    "\n",
    "from models.zero_one_validation_loss import zero_one_loss, zero_one_loss_binary\n",
    "\n",
    "FOLDS = 5\n",
    "\n",
    "k_fold_controller = KFoldController(FOLDS)\n",
    "k_fold_controller.load_data(full_train_dataset)\n",
    "\n",
    "history = []\n",
    "\n",
    "# todo function\n",
    "for i in range(FOLDS):\n",
    "    train, val = k_fold_controller.get_data_for_fold(i)\n",
    "    train_dataloader = DataLoader(dataset=train, batch_size=32)\n",
    "    validation_dataloader = DataLoader(dataset=val, batch_size=32)\n",
    "\n",
    "    naive_model = SimpleCNN((224, 224, 3), augmentation_procedure=sequential_pre_processing_procedure)\n",
    "    # I moved to Adam as it is faster\n",
    "    naive_model.compile(optimizer=keras.optimizers.SGD(learning_rate=0.01, momentum=0.5),\n",
    "                        metrics=['accuracy', zero_one_loss_binary], loss='binary_crossentropy')\n",
    "    i_history = naive_model.fit(train_dataloader, epochs=100, validation_data=validation_dataloader,\n",
    "                                callbacks=[\n",
    "                                    # To avoid keep going\n",
    "                                    keras.callbacks.EarlyStopping(monitor='val_loss', patience=10,\n",
    "                                                                  restore_best_weights=True),\n",
    "\n",
    "                                    # To reduce learning rate (like Hot Stocastic bla bla)\n",
    "                                    #keras.callbacks.LearningRateScheduler(\n",
    "                                    #    learning_rate_reschedule.learning_rate_reschedule)\n",
    "                                ])\n",
    "    history.append(i_history)\n",
    "\n",
    "    naive_model.save(\"k-fold-chihuahua-val-fold-\" + str(i) + \".keras\")\n",
    "    naive_model.losses.clear()\n",
    "    naive_model.metrics.clear()\n",
    "\n",
    "    # TODO Capisci perche ora va riducendo le chiamate al  minimo indispensabile\n",
    "    # https://github.com/keras-team/keras/issues/5345\n",
    "    torch.cuda.empty_cache()\n",
    "    del naive_model\n",
    "    torch.cuda.empty_cache()\n",
    "    gc.collect()\n",
    "    #gc.collect()  # Python thing"
   ],
   "metadata": {
    "collapsed": false,
    "ExecuteTime": {
     "end_time": "2024-03-05T22:41:12.938144Z",
     "start_time": "2024-03-05T22:41:12.258858Z"
    }
   },
   "id": "33d4d76e0e6f764e",
   "execution_count": 5,
   "outputs": []
  },
  {
   "cell_type": "code",
   "source": [
    "import pandas\n",
    "\n",
    "metrics_df1 = pandas.DataFrame(history[0])\n",
    "metrics_df1[[\"loss\", \"val_loss\"]].plot()"
   ],
   "metadata": {
    "collapsed": false
   },
   "id": "96d62db2059237fe",
   "execution_count": null,
   "outputs": []
  },
  {
   "cell_type": "markdown",
   "source": [
    "    http://mipal.snu.ac.kr/images/1/16/Dropout_ACCV2016.pdf\n",
    "Dropout"
   ],
   "metadata": {
    "collapsed": false
   },
   "id": "37d481656b3686f9"
  },
  {
   "cell_type": "code",
   "source": [
    "from torch.utils.data import DataLoader\n",
    "from torchvision import datasets\n",
    "from torchvision.transforms import ToTensor\n",
    "from torchvision import transforms\n",
    "import matplotlib.pyplot as plt\n",
    "\n",
    "train_dataloader = DataLoader(datasets.ImageFolder(\"../data/train/\", transform=transforms.Compose([\n",
    "    transforms.Resize((128, 128)),\n",
    "    transforms.ToTensor(),\n",
    "    #transforms.Normalize((0.5, 0.5, 0.5), (0.5, 0.5, 0.5)),\n",
    "])), batch_size=32, shuffle=True)\n",
    "\n",
    "validation_dataloader = DataLoader(\n",
    "    datasets.ImageFolder(\"../data/test/\",\n",
    "                         transform=transforms.Compose([transforms.Resize((128, 128)), transforms.ToTensor()])),\n",
    "    batch_size=32, shuffle=True\n",
    ")\n",
    "\n",
    "train_features, train_labels = next(iter(train_dataloader))\n",
    "\n",
    "img = train_features[0].squeeze()\n",
    "label = train_labels[0]\n",
    "print(label)\n",
    "plt.imshow(img.T, cmap=\"gray\")\n",
    "plt.show()"
   ],
   "metadata": {
    "collapsed": false
   },
   "id": "a222c76a793b3252",
   "execution_count": null,
   "outputs": []
  },
  {
   "cell_type": "code",
   "execution_count": null,
   "id": "initial_id",
   "metadata": {
    "collapsed": true
   },
   "source": [
    "from models.simple_neural_network import simple_neural_network\n",
    "\n",
    "model = simple_neural_network((128, 128, 3), 2)\n",
    "model.summary()"
   ],
   "outputs": []
  },
  {
   "cell_type": "code",
   "source": [
    "model.fit(train_dataloader, epochs=150, validation_data=validation_dataloader)"
   ],
   "metadata": {
    "collapsed": false
   },
   "id": "eca86055051ba381",
   "execution_count": null,
   "outputs": []
  },
  {
   "cell_type": "code",
   "source": [
    "from keras.utils import plot_model\n",
    "\n",
    "plot_model(model, show_shapes=True)"
   ],
   "metadata": {
    "collapsed": false
   },
   "id": "b32d36f2ba486b1b",
   "execution_count": null,
   "outputs": []
  }
 ],
 "metadata": {
  "kernelspec": {
   "display_name": "Python 3",
   "language": "python",
   "name": "python3"
  },
  "language_info": {
   "codemirror_mode": {
    "name": "ipython",
    "version": 2
   },
   "file_extension": ".py",
   "mimetype": "text/x-python",
   "name": "python",
   "nbconvert_exporter": "python",
   "pygments_lexer": "ipython2",
   "version": "2.7.6"
  }
 },
 "nbformat": 4,
 "nbformat_minor": 5
}
