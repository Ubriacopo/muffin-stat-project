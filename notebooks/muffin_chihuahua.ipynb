{
 "cells": [
  {
   "cell_type": "code",
   "outputs": [],
   "source": [
    "import os\n",
    "\n",
    "# Why Torch? You' ll find the answer in the .md files! \n",
    "os.environ[\"KERAS_BACKEND\"] = \"torch\""
   ],
   "metadata": {
    "collapsed": false,
    "ExecuteTime": {
     "end_time": "2024-02-27T17:27:55.782996Z",
     "start_time": "2024-02-27T17:27:55.780907Z"
    }
   },
   "id": "7811de1c1a493eba",
   "execution_count": 1
  },
  {
   "cell_type": "code",
   "outputs": [],
   "source": [
    "# Data loading\n",
    "from torch.utils.data import DataLoader\n",
    "from torchvision import datasets\n",
    "from torchvision import transforms\n",
    "\n",
    "# Image size? todo\n",
    "\n",
    "full_train_dataset = DataLoader(datasets.ImageFolder(\"../data/train/\", transform=transforms.Compose([\n",
    "    transforms.Resize((128, 128)), transforms.ToTensor(),\n",
    "])))\n",
    "\n",
    "validation_dataset = DataLoader(datasets.ImageFolder(\"../data/test/\", transform=transforms.Compose([\n",
    "    transforms.Resize((128, 128)), transforms.ToTensor()\n",
    "])))"
   ],
   "metadata": {
    "collapsed": false,
    "ExecuteTime": {
     "end_time": "2024-02-27T18:08:38.721347Z",
     "start_time": "2024-02-27T18:08:38.704424Z"
    }
   },
   "id": "a8de3dc5603876b3",
   "execution_count": 4
  },
  {
   "cell_type": "markdown",
   "source": [
    "# K-FOLD Loading\n",
    "We load data and check if functions work as intended"
   ],
   "metadata": {
    "collapsed": false
   },
   "id": "166b836e9500536b"
  },
  {
   "cell_type": "code",
   "outputs": [
    {
     "name": "stdout",
     "output_type": "stream",
     "text": [
      "(<torch.utils.data.dataset.ConcatDataset object at 0x7fcca47f2810>, <torch.utils.data.dataset.Subset object at 0x7fcca45750d0>)\n"
     ]
    }
   ],
   "source": [
    "from k_fold_cv.k_fold_generator import KFoldController\n",
    "FOLDS = 5\n",
    "\n",
    "k_fold_controller = KFoldController(FOLDS)\n",
    "k_fold_controller.load_data(full_train_dataset)\n",
    "\n",
    "for i in range(FOLDS):\n",
    "    train, val = k_fold_controller.get_data_for_fold(i)"
   ],
   "metadata": {
    "collapsed": false,
    "ExecuteTime": {
     "end_time": "2024-02-27T17:30:20.920052Z",
     "start_time": "2024-02-27T17:29:02.728619Z"
    }
   },
   "id": "33d4d76e0e6f764e",
   "execution_count": 3
  },
  {
   "cell_type": "code",
   "outputs": [],
   "source": [
    "from torch.utils.data import DataLoader\n",
    "from torchvision import datasets\n",
    "from torchvision.transforms import ToTensor\n",
    "from torchvision import transforms\n",
    "import matplotlib.pyplot as plt\n",
    "\n",
    "train_dataloader = DataLoader(datasets.ImageFolder(\"../data/train/\", transform=transforms.Compose([\n",
    "    transforms.Resize((128, 128)),\n",
    "    transforms.ToTensor(),\n",
    "    #transforms.Normalize((0.5, 0.5, 0.5), (0.5, 0.5, 0.5)),\n",
    "])), batch_size=32, shuffle=True)\n",
    "\n",
    "validation_dataloader = DataLoader(\n",
    "    datasets.ImageFolder(\"../data/test/\",\n",
    "                         transform=transforms.Compose([transforms.Resize((128, 128)), transforms.ToTensor()])),\n",
    "    batch_size=32, shuffle=True\n",
    ")\n",
    "\n",
    "train_features, train_labels = next(iter(train_dataloader))\n",
    "\n",
    "img = train_features[0].squeeze()\n",
    "label = train_labels[0]\n",
    "print(label)\n",
    "plt.imshow(img.T, cmap=\"gray\")\n",
    "plt.show()"
   ],
   "metadata": {
    "collapsed": false,
    "ExecuteTime": {
     "end_time": "2024-02-27T17:27:52.549352Z",
     "start_time": "2024-02-27T17:27:52.549283Z"
    }
   },
   "id": "a222c76a793b3252",
   "execution_count": null
  },
  {
   "cell_type": "code",
   "execution_count": null,
   "id": "initial_id",
   "metadata": {
    "collapsed": true
   },
   "outputs": [],
   "source": [
    "from models.simple_neural_network import simple_neural_network\n",
    "\n",
    "model = simple_neural_network((128, 128, 3), 2)\n",
    "model.summary()"
   ]
  },
  {
   "cell_type": "code",
   "outputs": [],
   "source": [
    "model.fit(train_dataloader, epochs=150, validation_data=validation_dataloader)"
   ],
   "metadata": {
    "collapsed": false
   },
   "id": "eca86055051ba381",
   "execution_count": null
  },
  {
   "cell_type": "code",
   "outputs": [],
   "source": [
    "from keras.utils import plot_model\n",
    "\n",
    "plot_model(model, show_shapes=True)"
   ],
   "metadata": {
    "collapsed": false
   },
   "id": "b32d36f2ba486b1b"
  }
 ],
 "metadata": {
  "kernelspec": {
   "display_name": "Python 3",
   "language": "python",
   "name": "python3"
  },
  "language_info": {
   "codemirror_mode": {
    "name": "ipython",
    "version": 2
   },
   "file_extension": ".py",
   "mimetype": "text/x-python",
   "name": "python",
   "nbconvert_exporter": "python",
   "pygments_lexer": "ipython2",
   "version": "2.7.6"
  }
 },
 "nbformat": 4,
 "nbformat_minor": 5
}
