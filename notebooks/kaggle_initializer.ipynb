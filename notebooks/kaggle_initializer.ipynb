{
 "cells": [
  {
   "cell_type": "markdown",
   "metadata": {},
   "source": [
    "# Initialize the data from Kaggle\n",
    "\n",
    "To train and evaulate the model we of course need some reference data.\n",
    "\n",
    "The reference dataset is hosted on Kaggle. In order to download it we have to create a connection to the server. This is done via an authorization token created by Kaggle itself. \n",
    "> To generate one simply check the documentation: https://www.kaggle.com/docs/api"
   ]
  },
  {
   "cell_type": "code",
   "execution_count": 3,
   "metadata": {},
   "outputs": [
    {
     "ename": "FileNotFoundError",
     "evalue": "[Errno 2] No such file or directory: 'data/kaggle.json'",
     "output_type": "error",
     "traceback": [
      "\u001b[0;31m---------------------------------------------------------------------------\u001b[0m",
      "\u001b[0;31mFileNotFoundError\u001b[0m                         Traceback (most recent call last)",
      "\u001b[1;32m/home/jacopo/PycharmProjects/muffin-stat-project/data/kaggle_initializer.ipynb Zelle 2\u001b[0m line \u001b[0;36m3\n\u001b[1;32m      <a href='vscode-notebook-cell:/home/jacopo/PycharmProjects/muffin-stat-project/data/kaggle_initializer.ipynb#W1sZmlsZQ%3D%3D?line=0'>1</a>\u001b[0m \u001b[39mimport\u001b[39;00m \u001b[39mkaggle_initializer\u001b[39;00m\n\u001b[1;32m      <a href='vscode-notebook-cell:/home/jacopo/PycharmProjects/muffin-stat-project/data/kaggle_initializer.ipynb#W1sZmlsZQ%3D%3D?line=1'>2</a>\u001b[0m \u001b[39m# The provided kaggle.json has to be put under the project data/\u001b[39;00m\n\u001b[0;32m----> <a href='vscode-notebook-cell:/home/jacopo/PycharmProjects/muffin-stat-project/data/kaggle_initializer.ipynb#W1sZmlsZQ%3D%3D?line=2'>3</a>\u001b[0m kaggle_initializer\u001b[39m.\u001b[39;49mdownload_dataset_with_kagglejson(\u001b[39mFalse\u001b[39;49;00m)\n",
      "File \u001b[0;32m~/PycharmProjects/muffin-stat-project/data/kaggle_initializer.py:30\u001b[0m, in \u001b[0;36mdownload_dataset_with_kagglejson\u001b[0;34m(force_download)\u001b[0m\n\u001b[1;32m     29\u001b[0m \u001b[39mdef\u001b[39;00m \u001b[39mdownload_dataset_with_kagglejson\u001b[39m(force_download: \u001b[39mbool\u001b[39m \u001b[39m=\u001b[39m \u001b[39mFalse\u001b[39;00m) \u001b[39m-\u001b[39m\u001b[39m>\u001b[39m \u001b[39mNone\u001b[39;00m:\n\u001b[0;32m---> 30\u001b[0m     kaggle_configuration_data \u001b[39m=\u001b[39m json\u001b[39m.\u001b[39mload(\u001b[39mopen\u001b[39;49m(\u001b[39m'\u001b[39;49m\u001b[39mdata/kaggle.json\u001b[39;49m\u001b[39m'\u001b[39;49m))\n\u001b[1;32m     31\u001b[0m     download_dataset(kaggle_configuration_data[\u001b[39m'\u001b[39m\u001b[39musername\u001b[39m\u001b[39m'\u001b[39m], kaggle_configuration_data[\u001b[39m'\u001b[39m\u001b[39mkey\u001b[39m\u001b[39m'\u001b[39m], force_download)\n",
      "\u001b[0;31mFileNotFoundError\u001b[0m: [Errno 2] No such file or directory: 'data/kaggle.json'"
     ]
    }
   ],
   "source": [
    "import kaggle_initializer\n",
    "# The provided kaggle.json has to be put under the project data/\n",
    "kaggle_initializer.download_dataset_with_kagglejson(False)"
   ]
  },
  {
   "cell_type": "markdown",
   "metadata": {},
   "source": [
    "The images given are already split in two folders: *test* and *train*.\n",
    "\n",
    "Thus, when building the dataset we already have the data split in the two disjointed splits."
   ]
  }
 ],
 "metadata": {
  "kernelspec": {
   "display_name": "Python 3",
   "language": "python",
   "name": "python3"
  },
  "language_info": {
   "codemirror_mode": {
    "name": "ipython",
    "version": 3
   },
   "file_extension": ".py",
   "mimetype": "text/x-python",
   "name": "python",
   "nbconvert_exporter": "python",
   "pygments_lexer": "ipython3",
   "version": "3.10.12"
  }
 },
 "nbformat": 4,
 "nbformat_minor": 2
}
