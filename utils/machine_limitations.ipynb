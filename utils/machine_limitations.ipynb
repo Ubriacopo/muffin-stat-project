{
 "cells": [
  {
   "cell_type": "code",
   "id": "initial_id",
   "metadata": {
    "collapsed": true,
    "ExecuteTime": {
     "end_time": "2024-05-06T06:53:17.937909Z",
     "start_time": "2024-05-06T06:53:17.936274Z"
    }
   },
   "source": [
    "import os\n",
    "\n",
    "os.environ[\"KERAS_BACKEND\"] = \"torch\""
   ],
   "outputs": [],
   "execution_count": 1
  },
  {
   "cell_type": "code",
   "source": [
    "import torch\n",
    "torch.cuda.is_available()"
   ],
   "metadata": {
    "collapsed": false,
    "ExecuteTime": {
     "end_time": "2024-05-06T06:53:19.733093Z",
     "start_time": "2024-05-06T06:53:18.666369Z"
    }
   },
   "id": "f233f073b4c008ba",
   "outputs": [],
   "execution_count": 2
  },
  {
   "cell_type": "code",
   "source": [
    "t = torch.cuda.get_device_properties(0).total_memory\n",
    "print(f\"Total memory (B): {t:,}\")"
   ],
   "metadata": {
    "collapsed": false,
    "ExecuteTime": {
     "end_time": "2024-05-06T08:03:23.526812Z",
     "start_time": "2024-05-06T08:03:23.524418Z"
    }
   },
   "id": "fdbcdf34221d83b1",
   "outputs": [
    {
     "name": "stdout",
     "output_type": "stream",
     "text": [
      "Total memory (B): 8,326,021,120\n"
     ]
    }
   ],
   "execution_count": 43
  },
  {
   "metadata": {
    "ExecuteTime": {
     "end_time": "2024-05-06T08:00:16.152380Z",
     "start_time": "2024-05-06T08:00:16.149687Z"
    }
   },
   "cell_type": "code",
   "source": [
    "batch_of_images = 224 * 224 * 3 * torch.float32.itemsize * 32\n",
    "print(f\"Batch of 32 images memory (B): {batch_of_images:,}\")"
   ],
   "id": "a92d497ae47d19dd",
   "outputs": [
    {
     "name": "stdout",
     "output_type": "stream",
     "text": [
      "Batch of 32 images memory (B): 19,267,584\n"
     ]
    }
   ],
   "execution_count": 40
  },
  {
   "metadata": {
    "ExecuteTime": {
     "end_time": "2024-05-06T08:05:17.020479Z",
     "start_time": "2024-05-06T08:05:17.016821Z"
    }
   },
   "cell_type": "code",
   "source": [
    "possible_parameters = int((t - batch_of_images) / 4)  # In a stateless env. SGD with momentum has state: 4n\n",
    "# Adam triples memory conusmptions by making an instance of parameter x2 \n",
    "print(f\"If there was no overhead (which does exist) we would possibly have: {possible_parameters:,} parameters\")\n",
    "possible_parameters"
   ],
   "id": "c25f5d8c06367ec9",
   "outputs": [
    {
     "name": "stdout",
     "output_type": "stream",
     "text": [
      "If there was no overhead (which does exist) we would possibly have: 2,077,966,336 parameters\n"
     ]
    },
    {
     "data": {
      "text/plain": [
       "2077966336"
      ]
     },
     "execution_count": 47,
     "metadata": {},
     "output_type": "execute_result"
    }
   ],
   "execution_count": 47
  },
  {
   "metadata": {
    "ExecuteTime": {
     "end_time": "2024-05-06T08:00:32.585689Z",
     "start_time": "2024-05-06T08:00:32.583519Z"
    }
   },
   "cell_type": "code",
   "source": "print(f\"SGD with momentum maximum possible parameters: {int(possible_parameters / 4):,}\")",
   "id": "120efb33a15d6bf3",
   "outputs": [
    {
     "name": "stdout",
     "output_type": "stream",
     "text": [
      "SGD with momentum maximum possible parameters: 519,172,096\n"
     ]
    }
   ],
   "execution_count": 41
  },
  {
   "metadata": {
    "ExecuteTime": {
     "end_time": "2024-05-06T07:59:18.196602Z",
     "start_time": "2024-05-06T07:59:18.194127Z"
    }
   },
   "cell_type": "code",
   "source": "print(f\"Maximum model size: {(possible_parameters / 4 * 4) / 1024 / 1024 / 1024:.3} GB \")",
   "id": "d4ed0bb4c3efc54c",
   "outputs": [
    {
     "name": "stdout",
     "output_type": "stream",
     "text": [
      "Maximum model size: 1.93 GB \n"
     ]
    }
   ],
   "execution_count": 36
  },
  {
   "metadata": {},
   "cell_type": "markdown",
   "source": "These number are really in a full GPU usage and limit scenario. Probably, for calculation reasons or possible technology features, the memory footprint is higher. ",
   "id": "caa0ac4b708bf3ef"
  },
  {
   "metadata": {},
   "cell_type": "markdown",
   "source": [
    "# Case Of DNN\n",
    "In the DNN approach we favor smaller images and therefore the memory footprint slightly changes (by a very narrow amount).\n",
    "\n",
    "The big difference is in the creation of the DNN that having a smaller input size generally requires fewer parameters"
   ],
   "id": "72ac9942077d79f0"
  },
  {
   "metadata": {
    "ExecuteTime": {
     "end_time": "2024-05-06T08:03:07.075026Z",
     "start_time": "2024-05-06T08:03:07.072329Z"
    }
   },
   "cell_type": "code",
   "source": [
    "batch_of_images = 192 * 192 * 3 * torch.float32.itemsize * 32\n",
    "print(f\"Batch of 32 images memory (B): {batch_of_images:,}\")"
   ],
   "id": "5e9d4b34c7ae37ed",
   "outputs": [
    {
     "name": "stdout",
     "output_type": "stream",
     "text": [
      "Batch of 32 images memory (B): 14,155,776\n"
     ]
    }
   ],
   "execution_count": 42
  },
  {
   "metadata": {
    "ExecuteTime": {
     "end_time": "2024-05-06T08:03:34.438884Z",
     "start_time": "2024-05-06T08:03:34.436405Z"
    }
   },
   "cell_type": "code",
   "source": [
    "possible_parameters = int((t - batch_of_images) / 4)  # In a stateless env. SGD with momentum has state: 4n\n",
    "# Adam triples memory conusmptions by making an instance of parameter x2 \n",
    "print(f\"If there was no overhead (which does exist) we would possibly have: {possible_parameters:,} parameters\")"
   ],
   "id": "1b608e32a99b1da",
   "outputs": [
    {
     "name": "stdout",
     "output_type": "stream",
     "text": [
      "If there was no overhead (which does exist) we would possibly have: 2,077,966,336 parameters\n"
     ]
    }
   ],
   "execution_count": 44
  },
  {
   "metadata": {
    "ExecuteTime": {
     "end_time": "2024-05-06T08:03:41.265879Z",
     "start_time": "2024-05-06T08:03:41.263692Z"
    }
   },
   "cell_type": "code",
   "source": "print(f\"SGD with momentum maximum possible parameters: {int(possible_parameters / 4):,}\")",
   "id": "52c9a66889506ac3",
   "outputs": [
    {
     "name": "stdout",
     "output_type": "stream",
     "text": [
      "SGD with momentum maximum possible parameters: 519,491,584\n"
     ]
    }
   ],
   "execution_count": 45
  },
  {
   "metadata": {
    "ExecuteTime": {
     "end_time": "2024-05-06T08:06:53.857395Z",
     "start_time": "2024-05-06T08:06:53.855201Z"
    }
   },
   "cell_type": "code",
   "source": "print(f\"Maximum model size: {(possible_parameters / 4 * 4) / 1024 / 1024 / 1024:.3} GB \")",
   "id": "6d82da5ce313daa1",
   "outputs": [
    {
     "name": "stdout",
     "output_type": "stream",
     "text": [
      "Maximum model size: 1.94 GB \n"
     ]
    }
   ],
   "execution_count": 49
  },
  {
   "metadata": {},
   "cell_type": "code",
   "outputs": [],
   "execution_count": null,
   "source": "",
   "id": "13851a265ee99004"
  }
 ],
 "metadata": {
  "kernelspec": {
   "display_name": "Python 3",
   "language": "python",
   "name": "python3"
  },
  "language_info": {
   "codemirror_mode": {
    "name": "ipython",
    "version": 2
   },
   "file_extension": ".py",
   "mimetype": "text/x-python",
   "name": "python",
   "nbconvert_exporter": "python",
   "pygments_lexer": "ipython2",
   "version": "2.7.6"
  }
 },
 "nbformat": 4,
 "nbformat_minor": 5
}
